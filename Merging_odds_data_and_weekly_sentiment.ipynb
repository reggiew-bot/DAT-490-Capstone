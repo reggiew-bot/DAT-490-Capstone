{
  "nbformat": 4,
  "nbformat_minor": 0,
  "metadata": {
    "colab": {
      "provenance": []
    },
    "kernelspec": {
      "name": "ir",
      "display_name": "R"
    },
    "language_info": {
      "name": "R"
    }
  },
  "cells": [
    {
      "cell_type": "markdown",
      "source": [
        "# Merging data from headlines dataset to odds and game score dataset\n"
      ],
      "metadata": {
        "id": "QnBKY9eg6loL"
      }
    },
    {
      "cell_type": "code",
      "source": [
        "# install.packages('readxl')\n",
        "library(readxl)\n",
        "library(dplyr)\n",
        "library(lubridate)\n",
        "\n",
        "\n",
        "#load first odds/game dataset\n",
        "df4 <- read_excel('/content/nfl (1).xlsx')\n",
        "\n",
        "#load second odds/game dataset\n",
        "df3 <-read.csv('/content/NFL_Odds_Data_2017-2022.csv')\n",
        "\n",
        "df2 <-read.csv('/content/df_scored_9.csv')\n",
        "\n",
        "head(df2)\n",
        "\n",
        "#select columns of interest\n",
        "selected_columns <- c(\"Date\", \"Home Team\", \"Away Team\", \"Home Odds Close\", \"Home Odds Open\", \"Away Odds Open\", \"Away Odds Close\", \"Home Score\", \"Away Score\")\n",
        "df4 <- df4[, selected_columns]\n",
        "\n",
        "#rename\n",
        "names(df4) <- c(\"Date\", \"Home_Team\", \"Away_Team\", \"Home_Odds_Close\", \"Home_Odds_Open\", \"Away_Odds_Open\", \"Away_Odds_Close\", \"Home_Score\", \"Away_Score\")\n",
        "\n",
        "\n",
        "#set date range\n",
        "start_date <- as.Date(\"2017-09-01\")\n",
        "end_date <- as.Date(\"2022-02-20\")\n",
        "\n",
        "#edit df4 to fit date range\n",
        "df4 <- df4[df4$Date >= start_date & df4$Date <= end_date, ]\n",
        "\n",
        "#convert to date format\n",
        "df3$Date <- as.POSIXct(df3$Date, format = \"%Y-%m-%d\")\n",
        "\n"
      ],
      "metadata": {
        "id": "eE1oMrZH556a"
      },
      "execution_count": null,
      "outputs": []
    },
    {
      "cell_type": "markdown",
      "source": [
        "# merge odds data sets\n"
      ],
      "metadata": {
        "id": "3TLsw8km7k8E"
      }
    },
    {
      "cell_type": "code",
      "source": [
        "# dictionary to standardize team names\n",
        "\n",
        "nfl_teams <- c(\n",
        "  \"Arizona Cardinals\" = c(\"Cardinals\", \"Arizona\", \"Redbirds\", \"arizona\", \"Cards\", \"AZ\", \"ARI\", \"Cardinal\"),\n",
        "  \"Atlanta Falcons\" = c(\"Falcons\", \"Atlanta\", \"Falcs\", \" ATL\", \"Dirty Birds\", \"Falcon\"),\n",
        "  \"Baltimore Ravens\" = c(\"Ravens\", \"Baltimore\", \"BAL\", \"Flock\", \"Raven\"),\n",
        "  \"Buffalo Bills\" = c(\"Bills\", \"Buffalo\", \"Mafia\", \"BUF\", \"BUFFS\", \"Bill\"),\n",
        "  \"Carolina Panthers\" = c(\"Panthers\", \"Carolina\", \"Cats\", \"CAR\", \"Panthers\"),\n",
        "  \"Chicago Bears\" = c(\"Bears\", \"Chicago\", \"CHI\", \"Bear\", \"Midway\"),\n",
        "  \"Cincinnati Bengals\" = c(\"Bengals\", \"Cincinnati\", \"Bungles\", \"Bengal\", \"Stripes\", \"Tiger\"),\n",
        "  \"Cleveland Browns\" = c(\"Browns\", \"Cleveland\", \"Brown\", \"Dawgs\", \"Dawg\", \"CLE\"),\n",
        "  \"Dallas Cowboys\" = c(\"Cowboys\", \"Dallas\", \"DAL\", \"America's Team\", \"Dem Boy\"),\n",
        "  \"Denver Broncos\" = c(\"Broncos\", \"Denver\", \"Orange Crush\", \"DEN\"),\n",
        "  \"Detroit Lions\" = c(\"Lions\", \"Detroit\", \"Motor City\", \"Kitties\", \"DET\"),\n",
        "  \"Green Bay Packers\" = c(\"Packers\", \"Green Bay\", \"GB\", \"Pack\", \"Cheeseheads\", \"Cheese Heads\", \"Packer\",\"GreenBay\"),\n",
        "  \"Houston Texans\" = c(\"Texans\", \"Houston\", \"Hou\", \"H-Town\", \"Texan\"),\n",
        "  \"Indianapolis Colts\" = c(\"Colts\", \"Indianapolis\", \"IND\", \"Colt\"),\n",
        "  \"Jacksonville Jaguars\" = c(\"Jaguars\", \"Jacksonville\", \"JAX\", \"Jags\", \"Jaguar\", \"Jag\"),\n",
        "  \"Kansas City Chiefs\" = c(\"Chiefs\", \"Kansas City\", \"KC\", \"Chief\", \"Kansas\",\"KansasCity\",\"KCChiefs\"),\n",
        "  \"Los Angeles Chargers\" = c(\"Chargers\", \"LA Chargers\", \"Charger\", \"LAC\", \"SD\", \"San Diego\", \"Bolts\",\"LAChargers\"),\n",
        "  \"Las Vegas Raiders\" = c(\"Raiders\", \"Las Vegas\", \"LV\", \"Oakland\", \"OAK\", \"Silver and Black\", \"Raider\",\"LasVegas\",\"LVRaiders\"),\n",
        "  \"Los Angeles Rams\" = c(\"Rams\", \"LA Rams\", \"LAR\", \"St. Louis\", \"STL\", \"LAR\", \"Saint Louis\", \"Ram\",\"LARams\"),\n",
        "  \"Miami Dolphins\" = c(\"Dolphins\", \"Miami\", \"MIA\", \"Dolphin\", \"Fins\"),\n",
        "  \"Minnesota Vikings\" = c(\"Vikings\", \"Minnesota\", \"Purple\", \"MIN\", \"Vikes\", \"Viking\"),\n",
        "  \"New England Patriots\" = c(\"Patriots\", \"New England\", \"Pats\", \"NE\", \"Patriot\", \"NewEngland\"),\n",
        "  \"New Orleans Saints\" = c(\"Saints\", \"New Orleans\", \"NO\", \"Saint\",\"NewOrleans\"),\n",
        "  \"New York Giants\" = c(\"Giants\", \"NY Giants\", \"NYG\", \"Giant\", \"G-Men\",\"NYGiants\"),\n",
        "  \"New York Jets\" = c(\"Jets\", \"NY Jets\", \"NYJ\", \"Jet\", \"NYJets\"),\n",
        "  \"Philadelphia Eagles\" = c(\"Eagles\", \"Philadelphia\", \"Philly\", \"Birds\", \"PHI\", \"Eagle\"),\n",
        "  \"Pittsburgh Steelers\" = c(\"Steelers\", \"Pittsburgh\", \"PIT\", \"Black and Gold\", \"Steeler\"),\n",
        "  \"San Francisco 49ers\" = c(\"49ers\", \"San Francisco\", \"9ers\", \"Niners\", \"SF\", \"Niner\",\"SanFrancisco\"),\n",
        "  \"Seattle Seahawks\" = c(\"Seahawks\", \"Seattle\", \"Legion of Boom\", \"SEA\", \"Seahawk\"),\n",
        "  \"Tampa Bay Buccaneers\" = c(\"Buccaneers\", \"Tampa Bay\", \"TB\", \"Bucs\", \"Tampa\", \"Buccaneer\",\"TampaBay\"),\n",
        "  \"Tennessee Titans\" = c(\"Titans\", \"Tennessee\", \"Music City\", \"Titan\", \"TEN\"),\n",
        "  \"Washington Football Team\" = c(\"Washington\", \"Football Team\", \"Redskins\", \"Skins\", \"Washington Football Team\", \"WFT\", \"Commanders\", \"Commies\",\"Washingtom\")\n",
        ")\n",
        "\n",
        "\n",
        "# Function to replace team names\n",
        "replace_team <- function(team_name) {\n",
        "  for (team in names(nfl_teams)) {\n",
        "    if (team_name %in% nfl_teams[[team]]) {\n",
        "      return(team)\n",
        "    }\n",
        "  }\n",
        "  return(team_name)  # Return original name if no match found\n",
        "}\n",
        "\n",
        "\n",
        "\n"
      ],
      "metadata": {
        "id": "e7GawjXx7xu1"
      },
      "execution_count": null,
      "outputs": []
    },
    {
      "cell_type": "code",
      "source": [
        "# Apply the function to the \"Home\" column of df3\n",
        "df3$Visitor <- sapply(df3$Visitor, replace_team)\n",
        "\n",
        "# Output the modified dataframe\n",
        "head(df3)"
      ],
      "metadata": {
        "id": "1Jld7If37z-w"
      },
      "execution_count": null,
      "outputs": []
    },
    {
      "cell_type": "code",
      "source": [
        "remove_numbers <- function(team_name) {\n",
        "  # Use regular expression to remove numbers at the end of the team names\n",
        "  clean_name <- gsub(\"\\\\d+$\", \"\", team_name)\n",
        "  return(clean_name)\n",
        "}\n",
        "\n",
        "df3$Visitor <-remove_numbers(df3$Visitor)\n",
        "df3$Date <- as.POSIXct(df3$Date, format = \"%Y-%m-%d\")\n",
        "head(df3)"
      ],
      "metadata": {
        "id": "tErdiTfH7z14"
      },
      "execution_count": null,
      "outputs": []
    },
    {
      "cell_type": "code",
      "source": [
        "#check to make sure the 32 teams are present only under one name each\n",
        "\n",
        "unique_home_values <- unique(df3$Visitor)\n",
        "print(unique_home_values)\n",
        "\n"
      ],
      "metadata": {
        "id": "CeHoXPEN7zqG"
      },
      "execution_count": null,
      "outputs": []
    },
    {
      "cell_type": "code",
      "source": [
        "#merge the dataframes\n",
        "merged_df <- merge(df3, df4, by.x = c(\"Date\", \"Home\", \"Visitor\"), by.y = c(\"Date\", \"Home_Team\", \"Away_Team\"))\n",
        "\n",
        "head(merged_df)"
      ],
      "metadata": {
        "id": "KytOTYjc7zgp"
      },
      "execution_count": null,
      "outputs": []
    },
    {
      "cell_type": "code",
      "source": [
        "#standardize ml odds to one format (decimal)\n",
        "\n",
        "american_to_decimal <- function(moneyline) {\n",
        "  decimal_odds <- ifelse(moneyline > 0, (moneyline / 100) + 1, (100 / abs(moneyline)) + 1)\n",
        "  return(decimal_odds)\n",
        "}\n",
        "temp_scores <- merged_df$Moneyline_away\n",
        "\n",
        "merged_df$Moneyline_away <- merged_df$Moneyline_home\n",
        "merged_df$Moneyline_home <- temp_scores\n",
        "\n",
        "\n",
        "merged_df$Decimal_Odds_Away <- american_to_decimal(merged_df$Moneyline_away)\n",
        "merged_df$Decimal_Odds_Home <- american_to_decimal(merged_df$Moneyline_home)"
      ],
      "metadata": {
        "id": "V20J_Z187zW0"
      },
      "execution_count": null,
      "outputs": []
    },
    {
      "cell_type": "code",
      "source": [
        "library(ggplot2)\n",
        "\n",
        "\n",
        "# Create a line plot to check if odds match within reason\n",
        "ggplot(merged_df, aes(x = 1:nrow(merged_df))) +\n",
        "  geom_line(aes(y = Home_ML_AVG, color = \"Home_ML_AVG\")) +\n",
        "  geom_line(aes(y = Home_Odds_Close, color = \"Home_Odds_Close\")) +\n",
        "  geom_line(aes(y = Decimal_Odds_Home, color = \"Decimal_Odds_Home\")) +\n",
        "  scale_color_manual(values = c(\"blue\", \"red\", \"green\")) +\n",
        "  labs(x = \"Index\", y = \"Values\", color = \"Variable\") +\n",
        "  theme_minimal()"
      ],
      "metadata": {
        "id": "JDS80PnU7zME"
      },
      "execution_count": null,
      "outputs": []
    },
    {
      "cell_type": "code",
      "source": [
        "merged_df$Difference <- merged_df$Home_Odds_Close - merged_df$Decimal_Odds_Home\n",
        "\n",
        "# Create a line plot for the difference between two odds sources\n",
        "ggplot(merged_df, aes(x = 1:nrow(merged_df), y = Difference)) +\n",
        "  geom_line(color = \"blue\") +\n",
        "  labs(x = \"Index\", y = \"Difference (Home_Odds_Close - Decimal_Odds_Home)\") +\n",
        "  theme_minimal()"
      ],
      "metadata": {
        "id": "CiffXvJc7zBc"
      },
      "execution_count": null,
      "outputs": []
    },
    {
      "cell_type": "code",
      "source": [
        "#some outliers seem too big to not be errors so default to the dataset that seems more accurate that we didn't have to completely reformat in those cases.\n",
        "\n",
        "\n",
        "# Calculate the difference between Home_Odds_Close and Decimal_Odds_Home\n",
        "merged_df$Difference <- abs(merged_df$Home_Odds_Close - merged_df$Decimal_Odds_Home)\n",
        "\n",
        "# Update Home_ML_AVG based on the condition\n",
        "merged_df$Home_ML_AVG <- ifelse(merged_df$Difference > 0.5, merged_df$Home_Odds_Close, merged_df$Home_ML_AVG)\n",
        "\n",
        "\n",
        "# Calculate the difference between Away_Odds_Close and Decimal_Odds_Away\n",
        "merged_df$DifferenceA <- abs(merged_df$Away_Odds_Close - merged_df$Decimal_Odds_Away)\n",
        "\n",
        "# Update Away_ML_AVG based on the condition\n",
        "merged_df$Away_ML_AVG <- ifelse(merged_df$DifferenceA > 0.5, merged_df$Away_Odds_Close, merged_df$Away_ML_AVG)"
      ],
      "metadata": {
        "id": "8udPuAaw7y5Z"
      },
      "execution_count": null,
      "outputs": []
    },
    {
      "cell_type": "code",
      "source": [
        "library(ggplot2)\n",
        "\n",
        "\n",
        "\n",
        "# Calculate and plot the difference between Home_Odds_Close and Home_ML_AVG to see if the average makes sense\n",
        "merged_df$Difference_Home <- merged_df$Home_Odds_Close - merged_df$Home_ML_AVG\n",
        "\n",
        "ggplot(merged_df, aes(x = 1:nrow(merged_df), y = Difference_Home)) +\n",
        "  geom_line(color = \"blue\") +\n",
        "  labs(x = \"Index\", y = \"Difference (Home_Odds_Close - Home_ML_AVG)\") +\n",
        "  theme_minimal()"
      ],
      "metadata": {
        "id": "JG9vzMJ97ywO"
      },
      "execution_count": null,
      "outputs": []
    },
    {
      "cell_type": "code",
      "source": [
        "#condense the data down to just the variables we need\n",
        "\n",
        "condensed_df <- merged_df[, c(\"Date\", \"Home\", \"Visitor\", \"Home_Score\", \"Away_Score\", \"Home_ML_AVG\", \"Away_ML_AVG\")]\n",
        "colnames(condensed_df)[colnames(condensed_df) == \"Visitor\"] <- \"Away\"\n",
        "\n",
        "\n",
        "head(condensed_df)"
      ],
      "metadata": {
        "id": "fQpyn1n47yg6"
      },
      "execution_count": null,
      "outputs": []
    },
    {
      "cell_type": "markdown",
      "source": [
        "# Adding the sentiment score to the new odds dataframe"
      ],
      "metadata": {
        "id": "Rcjry94M-ezV"
      }
    },
    {
      "cell_type": "code",
      "source": [
        "# Step 1: Calculate the date range for the past week\n",
        "date_range <- function(date) {\n",
        "  start_date <- as.Date(date) - 7\n",
        "  end_date <- as.Date(date)\n",
        "  return(list(start_date, end_date))\n",
        "}\n",
        "\n",
        "# Step 2: Function to calculate sentiment_past_week\n",
        "calculate_sentiment <- function(team, date, df2) {\n",
        "  date_range <- date_range(date)\n",
        "  start_date <- date_range[[1]]\n",
        "  end_date <- date_range[[2]]\n",
        "  sentiment <- sum(df2$total_score[df2$team == team & df2$archiveDate >= start_date & df2$archiveDate <= end_date], na.rm = TRUE)\n",
        "  return(sentiment)\n",
        "}"
      ],
      "metadata": {
        "id": "bYHYXO1x7yQY"
      },
      "execution_count": null,
      "outputs": []
    },
    {
      "cell_type": "code",
      "source": [
        "# Step 3: Apply the function to each row in df\n",
        "condensed_df$sentiment_past_week_away <- mapply(calculate_sentiment, condensed_df$Away, condensed_df$Date, list(df2))\n",
        "condensed_df$sentiment_past_week_home <- mapply(calculate_sentiment, condensed_df$Home, condensed_df$Date, list(df2))"
      ],
      "metadata": {
        "id": "WbefVZg-7yBu"
      },
      "execution_count": null,
      "outputs": []
    },
    {
      "cell_type": "code",
      "source": [
        "\n",
        "# sort by date descending, also swap home and away for continuity\n",
        "condensed_df <- condensed_df[order(condensed_df$Date, decreasing = TRUE), ]\n",
        "\n",
        "col_names <- colnames(condensed_df)\n",
        "\n",
        "index_away <- which(col_names == \"sentiment_past_week_away\")\n",
        "index_home <- which(col_names == \"sentiment_past_week_home\")\n",
        "\n",
        "col_names[index_away] <- \"sentiment_past_week_home\"\n",
        "col_names[index_home] <- \"sentiment_past_week_away\"\n",
        "\n",
        "condensed_df <- condensed_df[, col_names]\n",
        "\n",
        "\n",
        "\n",
        "head(condensed_df)"
      ],
      "metadata": {
        "id": "TrNQ6DMIBas-"
      },
      "execution_count": null,
      "outputs": []
    },
    {
      "cell_type": "code",
      "source": [
        "#save file\n",
        "write.csv(condensed_df, '/content/condensed_df_sentiment.csv')\n",
        "\n",
        "\n",
        "\n",
        "\n"
      ],
      "metadata": {
        "id": "NJ7sPwukBaaV"
      },
      "execution_count": null,
      "outputs": []
    },
    {
      "cell_type": "code",
      "source": [],
      "metadata": {
        "id": "_nihvYIIBaOV"
      },
      "execution_count": null,
      "outputs": []
    },
    {
      "cell_type": "code",
      "source": [],
      "metadata": {
        "id": "ltQSKafrBaC_"
      },
      "execution_count": null,
      "outputs": []
    },
    {
      "cell_type": "code",
      "source": [],
      "metadata": {
        "id": "_JHl8d5yBZ4b"
      },
      "execution_count": null,
      "outputs": []
    },
    {
      "cell_type": "code",
      "source": [],
      "metadata": {
        "id": "f0e9gxm5BZn4"
      },
      "execution_count": null,
      "outputs": []
    },
    {
      "cell_type": "markdown",
      "source": [
        "# Chart win percentage against sentiment score for a season"
      ],
      "metadata": {
        "id": "DhqGIH17CnxA"
      }
    },
    {
      "cell_type": "code",
      "execution_count": 5,
      "metadata": {
        "id": "PhVm-uP5wj8e"
      },
      "outputs": [],
      "source": [
        "# prompt: read xlsx\n",
        "\n",
        "# install.packages('readxl')\n",
        "library(readxl)\n",
        "df <- read_excel('/content/NFLRegSeasonOffenseStats.xlsx')\n",
        "df1<-read.csv(\"/content/df_scored_9.csv\")"
      ]
    },
    {
      "cell_type": "code",
      "source": [
        "head(df)"
      ],
      "metadata": {
        "colab": {
          "base_uri": "https://localhost:8080/",
          "height": 410
        },
        "id": "JUyqrEUTw94V",
        "outputId": "6de6032a-c0eb-41f6-a8eb-73655bd2719c"
      },
      "execution_count": 3,
      "outputs": [
        {
          "output_type": "display_data",
          "data": {
            "text/html": [
              "<table class=\"dataframe\">\n",
              "<caption>A tibble: 6 × 29</caption>\n",
              "<thead>\n",
              "\t<tr><th scope=col>iso_code</th><th scope=col>Team</th><th scope=col>Conference</th><th scope=col>City</th><th scope=col>State</th><th scope=col>Year</th><th scope=col>Wins</th><th scope=col>Losses</th><th scope=col>Ties</th><th scope=col>Passing_Attempts</th><th scope=col>⋯</th><th scope=col>Receiving_Yards</th><th scope=col>Receiving_TDs</th><th scope=col>Reciever_Fumbles</th><th scope=col>Two_Point_Conversions</th><th scope=col>Kick_Return_TDs</th><th scope=col>Punt_Return_TDs</th><th scope=col>Field_Goals_Attempts</th><th scope=col>Field_Goals_Made</th><th scope=col>Extra_Points_Attempts</th><th scope=col>Extra_Points_Made</th></tr>\n",
              "\t<tr><th scope=col>&lt;chr&gt;</th><th scope=col>&lt;chr&gt;</th><th scope=col>&lt;chr&gt;</th><th scope=col>&lt;chr&gt;</th><th scope=col>&lt;chr&gt;</th><th scope=col>&lt;dbl&gt;</th><th scope=col>&lt;dbl&gt;</th><th scope=col>&lt;dbl&gt;</th><th scope=col>&lt;dbl&gt;</th><th scope=col>&lt;dbl&gt;</th><th scope=col>⋯</th><th scope=col>&lt;dbl&gt;</th><th scope=col>&lt;dbl&gt;</th><th scope=col>&lt;dbl&gt;</th><th scope=col>&lt;dbl&gt;</th><th scope=col>&lt;dbl&gt;</th><th scope=col>&lt;dbl&gt;</th><th scope=col>&lt;dbl&gt;</th><th scope=col>&lt;dbl&gt;</th><th scope=col>&lt;dbl&gt;</th><th scope=col>&lt;dbl&gt;</th></tr>\n",
              "</thead>\n",
              "<tbody>\n",
              "\t<tr><td>BB</td><td>Buffalo Bills</td><td>AFC East</td><td>Buffalo</td><td>New York</td><td>2004</td><td>9</td><td> 7</td><td>0</td><td>461</td><td>⋯</td><td>3032</td><td>21</td><td>4</td><td>0</td><td>3</td><td>2</td><td>28</td><td>24</td><td>45</td><td>45</td></tr>\n",
              "\t<tr><td>BB</td><td>Buffalo Bills</td><td>AFC East</td><td>Buffalo</td><td>New York</td><td>2005</td><td>5</td><td>11</td><td>0</td><td>459</td><td>⋯</td><td>2852</td><td>18</td><td>1</td><td>0</td><td>1</td><td>0</td><td>35</td><td>29</td><td>26</td><td>26</td></tr>\n",
              "\t<tr><td>BB</td><td>Buffalo Bills</td><td>AFC East</td><td>Buffalo</td><td>New York</td><td>2006</td><td>7</td><td> 9</td><td>0</td><td>431</td><td>⋯</td><td>3051</td><td>19</td><td>3</td><td>0</td><td>0</td><td>1</td><td>25</td><td>23</td><td>33</td><td>33</td></tr>\n",
              "\t<tr><td>BB</td><td>Buffalo Bills</td><td>AFC East</td><td>Buffalo</td><td>New York</td><td>2007</td><td>7</td><td> 9</td><td>0</td><td>445</td><td>⋯</td><td>2842</td><td>12</td><td>4</td><td>1</td><td>1</td><td>1</td><td>27</td><td>24</td><td>24</td><td>24</td></tr>\n",
              "\t<tr><td>BB</td><td>Buffalo Bills</td><td>AFC East</td><td>Buffalo</td><td>New York</td><td>2008</td><td>7</td><td> 9</td><td>0</td><td>479</td><td>⋯</td><td>3302</td><td>14</td><td>7</td><td>1</td><td>1</td><td>1</td><td>38</td><td>30</td><td>34</td><td>34</td></tr>\n",
              "\t<tr><td>BB</td><td>Buffalo Bills</td><td>AFC East</td><td>Buffalo</td><td>New York</td><td>2009</td><td>6</td><td>10</td><td>0</td><td>441</td><td>⋯</td><td>2789</td><td>17</td><td>5</td><td>0</td><td>0</td><td>0</td><td>33</td><td>28</td><td>24</td><td>24</td></tr>\n",
              "</tbody>\n",
              "</table>\n"
            ],
            "text/markdown": "\nA tibble: 6 × 29\n\n| iso_code &lt;chr&gt; | Team &lt;chr&gt; | Conference &lt;chr&gt; | City &lt;chr&gt; | State &lt;chr&gt; | Year &lt;dbl&gt; | Wins &lt;dbl&gt; | Losses &lt;dbl&gt; | Ties &lt;dbl&gt; | Passing_Attempts &lt;dbl&gt; | ⋯ ⋯ | Receiving_Yards &lt;dbl&gt; | Receiving_TDs &lt;dbl&gt; | Reciever_Fumbles &lt;dbl&gt; | Two_Point_Conversions &lt;dbl&gt; | Kick_Return_TDs &lt;dbl&gt; | Punt_Return_TDs &lt;dbl&gt; | Field_Goals_Attempts &lt;dbl&gt; | Field_Goals_Made &lt;dbl&gt; | Extra_Points_Attempts &lt;dbl&gt; | Extra_Points_Made &lt;dbl&gt; |\n|---|---|---|---|---|---|---|---|---|---|---|---|---|---|---|---|---|---|---|---|---|\n| BB | Buffalo Bills | AFC East | Buffalo | New York | 2004 | 9 |  7 | 0 | 461 | ⋯ | 3032 | 21 | 4 | 0 | 3 | 2 | 28 | 24 | 45 | 45 |\n| BB | Buffalo Bills | AFC East | Buffalo | New York | 2005 | 5 | 11 | 0 | 459 | ⋯ | 2852 | 18 | 1 | 0 | 1 | 0 | 35 | 29 | 26 | 26 |\n| BB | Buffalo Bills | AFC East | Buffalo | New York | 2006 | 7 |  9 | 0 | 431 | ⋯ | 3051 | 19 | 3 | 0 | 0 | 1 | 25 | 23 | 33 | 33 |\n| BB | Buffalo Bills | AFC East | Buffalo | New York | 2007 | 7 |  9 | 0 | 445 | ⋯ | 2842 | 12 | 4 | 1 | 1 | 1 | 27 | 24 | 24 | 24 |\n| BB | Buffalo Bills | AFC East | Buffalo | New York | 2008 | 7 |  9 | 0 | 479 | ⋯ | 3302 | 14 | 7 | 1 | 1 | 1 | 38 | 30 | 34 | 34 |\n| BB | Buffalo Bills | AFC East | Buffalo | New York | 2009 | 6 | 10 | 0 | 441 | ⋯ | 2789 | 17 | 5 | 0 | 0 | 0 | 33 | 28 | 24 | 24 |\n\n",
            "text/latex": "A tibble: 6 × 29\n\\begin{tabular}{lllllllllllllllllllll}\n iso\\_code & Team & Conference & City & State & Year & Wins & Losses & Ties & Passing\\_Attempts & ⋯ & Receiving\\_Yards & Receiving\\_TDs & Reciever\\_Fumbles & Two\\_Point\\_Conversions & Kick\\_Return\\_TDs & Punt\\_Return\\_TDs & Field\\_Goals\\_Attempts & Field\\_Goals\\_Made & Extra\\_Points\\_Attempts & Extra\\_Points\\_Made\\\\\n <chr> & <chr> & <chr> & <chr> & <chr> & <dbl> & <dbl> & <dbl> & <dbl> & <dbl> & ⋯ & <dbl> & <dbl> & <dbl> & <dbl> & <dbl> & <dbl> & <dbl> & <dbl> & <dbl> & <dbl>\\\\\n\\hline\n\t BB & Buffalo Bills & AFC East & Buffalo & New York & 2004 & 9 &  7 & 0 & 461 & ⋯ & 3032 & 21 & 4 & 0 & 3 & 2 & 28 & 24 & 45 & 45\\\\\n\t BB & Buffalo Bills & AFC East & Buffalo & New York & 2005 & 5 & 11 & 0 & 459 & ⋯ & 2852 & 18 & 1 & 0 & 1 & 0 & 35 & 29 & 26 & 26\\\\\n\t BB & Buffalo Bills & AFC East & Buffalo & New York & 2006 & 7 &  9 & 0 & 431 & ⋯ & 3051 & 19 & 3 & 0 & 0 & 1 & 25 & 23 & 33 & 33\\\\\n\t BB & Buffalo Bills & AFC East & Buffalo & New York & 2007 & 7 &  9 & 0 & 445 & ⋯ & 2842 & 12 & 4 & 1 & 1 & 1 & 27 & 24 & 24 & 24\\\\\n\t BB & Buffalo Bills & AFC East & Buffalo & New York & 2008 & 7 &  9 & 0 & 479 & ⋯ & 3302 & 14 & 7 & 1 & 1 & 1 & 38 & 30 & 34 & 34\\\\\n\t BB & Buffalo Bills & AFC East & Buffalo & New York & 2009 & 6 & 10 & 0 & 441 & ⋯ & 2789 & 17 & 5 & 0 & 0 & 0 & 33 & 28 & 24 & 24\\\\\n\\end{tabular}\n",
            "text/plain": [
              "  iso_code Team          Conference City    State    Year Wins Losses Ties\n",
              "1 BB       Buffalo Bills AFC East   Buffalo New York 2004 9     7     0   \n",
              "2 BB       Buffalo Bills AFC East   Buffalo New York 2005 5    11     0   \n",
              "3 BB       Buffalo Bills AFC East   Buffalo New York 2006 7     9     0   \n",
              "4 BB       Buffalo Bills AFC East   Buffalo New York 2007 7     9     0   \n",
              "5 BB       Buffalo Bills AFC East   Buffalo New York 2008 7     9     0   \n",
              "6 BB       Buffalo Bills AFC East   Buffalo New York 2009 6    10     0   \n",
              "  Passing_Attempts ⋯ Receiving_Yards Receiving_TDs Reciever_Fumbles\n",
              "1 461              ⋯ 3032            21            4               \n",
              "2 459              ⋯ 2852            18            1               \n",
              "3 431              ⋯ 3051            19            3               \n",
              "4 445              ⋯ 2842            12            4               \n",
              "5 479              ⋯ 3302            14            7               \n",
              "6 441              ⋯ 2789            17            5               \n",
              "  Two_Point_Conversions Kick_Return_TDs Punt_Return_TDs Field_Goals_Attempts\n",
              "1 0                     3               2               28                  \n",
              "2 0                     1               0               35                  \n",
              "3 0                     0               1               25                  \n",
              "4 1                     1               1               27                  \n",
              "5 1                     1               1               38                  \n",
              "6 0                     0               0               33                  \n",
              "  Field_Goals_Made Extra_Points_Attempts Extra_Points_Made\n",
              "1 24               45                    45               \n",
              "2 29               26                    26               \n",
              "3 23               33                    33               \n",
              "4 24               24                    24               \n",
              "5 30               34                    34               \n",
              "6 28               24                    24               "
            ]
          },
          "metadata": {}
        }
      ]
    },
    {
      "cell_type": "code",
      "source": [
        "head(df1)"
      ],
      "metadata": {
        "colab": {
          "base_uri": "https://localhost:8080/",
          "height": 774
        },
        "id": "VTMC9OVhxZzM",
        "outputId": "7d4c865b-777b-4920-d22d-e939a6a1ce4f"
      },
      "execution_count": 7,
      "outputs": [
        {
          "output_type": "display_data",
          "data": {
            "text/html": [
              "<table class=\"dataframe\">\n",
              "<caption>A data.frame: 6 × 7</caption>\n",
              "<thead>\n",
              "\t<tr><th></th><th scope=col>X</th><th scope=col>Unnamed..0</th><th scope=col>archiveDate</th><th scope=col>Urls</th><th scope=col>headlines</th><th scope=col>team</th><th scope=col>total_score</th></tr>\n",
              "\t<tr><th></th><th scope=col>&lt;int&gt;</th><th scope=col>&lt;dbl&gt;</th><th scope=col>&lt;chr&gt;</th><th scope=col>&lt;chr&gt;</th><th scope=col>&lt;chr&gt;</th><th scope=col>&lt;chr&gt;</th><th scope=col>&lt;dbl&gt;</th></tr>\n",
              "</thead>\n",
              "<tbody>\n",
              "\t<tr><th scope=row>1</th><td>0</td><td>19</td><td>2017-08-20</td><td>http://web.archive.org/web/20170820000936/https://www.nfl.com/news</td><td>Jags must make QB change; Cutler could have career year   </td><td>Jacksonville Jaguars</td><td> 0.02337962</td></tr>\n",
              "\t<tr><th scope=row>2</th><td>1</td><td>20</td><td>2017-08-20</td><td>http://web.archive.org/web/20170820000936/https://www.nfl.com/news</td><td>How Texans' D has evolved under Crennel Vrabel            </td><td>Houston Texans      </td><td> 0.84887077</td></tr>\n",
              "\t<tr><th scope=row>3</th><td>2</td><td>21</td><td>2017-08-20</td><td>http://web.archive.org/web/20170820000936/https://www.nfl.com/news</td><td>Cutler's debut proves he's in control of Dolphins' offense</td><td>Miami Dolphins      </td><td> 0.99609084</td></tr>\n",
              "\t<tr><th scope=row>4</th><td>3</td><td>22</td><td>2017-08-20</td><td>http://web.archive.org/web/20170820000936/https://www.nfl.com/news</td><td>Raiders' Sean Smith charged with felony assault           </td><td>Las Vegas Raiders   </td><td>-0.62971803</td></tr>\n",
              "\t<tr><th scope=row>5</th><td>4</td><td>23</td><td>2017-08-20</td><td>http://web.archive.org/web/20170820000936/https://www.nfl.com/news</td><td>Making sense of the Patriots fantasy RBs                  </td><td>New England Patriots</td><td> 0.08915065</td></tr>\n",
              "\t<tr><th scope=row>6</th><td>5</td><td>37</td><td>2017-08-22</td><td>http://web.archive.org/web/20170822000344/http://www.nfl.com/news </td><td>\"Crazy\" \"weird\" eclipse rocks Titans' world               </td><td>Tennessee Titans    </td><td>-0.11480010</td></tr>\n",
              "</tbody>\n",
              "</table>\n"
            ],
            "text/markdown": "\nA data.frame: 6 × 7\n\n| <!--/--> | X &lt;int&gt; | Unnamed..0 &lt;dbl&gt; | archiveDate &lt;chr&gt; | Urls &lt;chr&gt; | headlines &lt;chr&gt; | team &lt;chr&gt; | total_score &lt;dbl&gt; |\n|---|---|---|---|---|---|---|---|\n| 1 | 0 | 19 | 2017-08-20 | http://web.archive.org/web/20170820000936/https://www.nfl.com/news | Jags must make QB change; Cutler could have career year    | Jacksonville Jaguars |  0.02337962 |\n| 2 | 1 | 20 | 2017-08-20 | http://web.archive.org/web/20170820000936/https://www.nfl.com/news | How Texans' D has evolved under Crennel Vrabel             | Houston Texans       |  0.84887077 |\n| 3 | 2 | 21 | 2017-08-20 | http://web.archive.org/web/20170820000936/https://www.nfl.com/news | Cutler's debut proves he's in control of Dolphins' offense | Miami Dolphins       |  0.99609084 |\n| 4 | 3 | 22 | 2017-08-20 | http://web.archive.org/web/20170820000936/https://www.nfl.com/news | Raiders' Sean Smith charged with felony assault            | Las Vegas Raiders    | -0.62971803 |\n| 5 | 4 | 23 | 2017-08-20 | http://web.archive.org/web/20170820000936/https://www.nfl.com/news | Making sense of the Patriots fantasy RBs                   | New England Patriots |  0.08915065 |\n| 6 | 5 | 37 | 2017-08-22 | http://web.archive.org/web/20170822000344/http://www.nfl.com/news  | \"Crazy\" \"weird\" eclipse rocks Titans' world                | Tennessee Titans     | -0.11480010 |\n\n",
            "text/latex": "A data.frame: 6 × 7\n\\begin{tabular}{r|lllllll}\n  & X & Unnamed..0 & archiveDate & Urls & headlines & team & total\\_score\\\\\n  & <int> & <dbl> & <chr> & <chr> & <chr> & <chr> & <dbl>\\\\\n\\hline\n\t1 & 0 & 19 & 2017-08-20 & http://web.archive.org/web/20170820000936/https://www.nfl.com/news & Jags must make QB change; Cutler could have career year    & Jacksonville Jaguars &  0.02337962\\\\\n\t2 & 1 & 20 & 2017-08-20 & http://web.archive.org/web/20170820000936/https://www.nfl.com/news & How Texans' D has evolved under Crennel Vrabel             & Houston Texans       &  0.84887077\\\\\n\t3 & 2 & 21 & 2017-08-20 & http://web.archive.org/web/20170820000936/https://www.nfl.com/news & Cutler's debut proves he's in control of Dolphins' offense & Miami Dolphins       &  0.99609084\\\\\n\t4 & 3 & 22 & 2017-08-20 & http://web.archive.org/web/20170820000936/https://www.nfl.com/news & Raiders' Sean Smith charged with felony assault            & Las Vegas Raiders    & -0.62971803\\\\\n\t5 & 4 & 23 & 2017-08-20 & http://web.archive.org/web/20170820000936/https://www.nfl.com/news & Making sense of the Patriots fantasy RBs                   & New England Patriots &  0.08915065\\\\\n\t6 & 5 & 37 & 2017-08-22 & http://web.archive.org/web/20170822000344/http://www.nfl.com/news  & \"Crazy\" \"weird\" eclipse rocks Titans' world                & Tennessee Titans     & -0.11480010\\\\\n\\end{tabular}\n",
            "text/plain": [
              "  X Unnamed..0 archiveDate\n",
              "1 0 19         2017-08-20 \n",
              "2 1 20         2017-08-20 \n",
              "3 2 21         2017-08-20 \n",
              "4 3 22         2017-08-20 \n",
              "5 4 23         2017-08-20 \n",
              "6 5 37         2017-08-22 \n",
              "  Urls                                                              \n",
              "1 http://web.archive.org/web/20170820000936/https://www.nfl.com/news\n",
              "2 http://web.archive.org/web/20170820000936/https://www.nfl.com/news\n",
              "3 http://web.archive.org/web/20170820000936/https://www.nfl.com/news\n",
              "4 http://web.archive.org/web/20170820000936/https://www.nfl.com/news\n",
              "5 http://web.archive.org/web/20170820000936/https://www.nfl.com/news\n",
              "6 http://web.archive.org/web/20170822000344/http://www.nfl.com/news \n",
              "  headlines                                                 \n",
              "1 Jags must make QB change; Cutler could have career year   \n",
              "2 How Texans' D has evolved under Crennel Vrabel            \n",
              "3 Cutler's debut proves he's in control of Dolphins' offense\n",
              "4 Raiders' Sean Smith charged with felony assault           \n",
              "5 Making sense of the Patriots fantasy RBs                  \n",
              "6 \"Crazy\" \"weird\" eclipse rocks Titans' world               \n",
              "  team                 total_score\n",
              "1 Jacksonville Jaguars  0.02337962\n",
              "2 Houston Texans        0.84887077\n",
              "3 Miami Dolphins        0.99609084\n",
              "4 Las Vegas Raiders    -0.62971803\n",
              "5 New England Patriots  0.08915065\n",
              "6 Tennessee Titans     -0.11480010"
            ]
          },
          "metadata": {}
        }
      ]
    },
    {
      "cell_type": "code",
      "source": [
        "df$total_games <- df$Wins + df$Losses\n",
        "df$Win_Percentage <- (df$Wins / df$total_games) * 100\n",
        "head(df)\n"
      ],
      "metadata": {
        "colab": {
          "base_uri": "https://localhost:8080/",
          "height": 410
        },
        "id": "-3YIWA05xW6o",
        "outputId": "fced4103-97d2-42d0-9544-bb854cc99b54"
      },
      "execution_count": 8,
      "outputs": [
        {
          "output_type": "display_data",
          "data": {
            "text/html": [
              "<table class=\"dataframe\">\n",
              "<caption>A tibble: 6 × 31</caption>\n",
              "<thead>\n",
              "\t<tr><th scope=col>iso_code</th><th scope=col>Team</th><th scope=col>Conference</th><th scope=col>City</th><th scope=col>State</th><th scope=col>Year</th><th scope=col>Wins</th><th scope=col>Losses</th><th scope=col>Ties</th><th scope=col>Passing_Attempts</th><th scope=col>⋯</th><th scope=col>Reciever_Fumbles</th><th scope=col>Two_Point_Conversions</th><th scope=col>Kick_Return_TDs</th><th scope=col>Punt_Return_TDs</th><th scope=col>Field_Goals_Attempts</th><th scope=col>Field_Goals_Made</th><th scope=col>Extra_Points_Attempts</th><th scope=col>Extra_Points_Made</th><th scope=col>total_games</th><th scope=col>Win_Percentage</th></tr>\n",
              "\t<tr><th scope=col>&lt;chr&gt;</th><th scope=col>&lt;chr&gt;</th><th scope=col>&lt;chr&gt;</th><th scope=col>&lt;chr&gt;</th><th scope=col>&lt;chr&gt;</th><th scope=col>&lt;dbl&gt;</th><th scope=col>&lt;dbl&gt;</th><th scope=col>&lt;dbl&gt;</th><th scope=col>&lt;dbl&gt;</th><th scope=col>&lt;dbl&gt;</th><th scope=col>⋯</th><th scope=col>&lt;dbl&gt;</th><th scope=col>&lt;dbl&gt;</th><th scope=col>&lt;dbl&gt;</th><th scope=col>&lt;dbl&gt;</th><th scope=col>&lt;dbl&gt;</th><th scope=col>&lt;dbl&gt;</th><th scope=col>&lt;dbl&gt;</th><th scope=col>&lt;dbl&gt;</th><th scope=col>&lt;dbl&gt;</th><th scope=col>&lt;dbl&gt;</th></tr>\n",
              "</thead>\n",
              "<tbody>\n",
              "\t<tr><td>BB</td><td>Buffalo Bills</td><td>AFC East</td><td>Buffalo</td><td>New York</td><td>2004</td><td>9</td><td> 7</td><td>0</td><td>461</td><td>⋯</td><td>4</td><td>0</td><td>3</td><td>2</td><td>28</td><td>24</td><td>45</td><td>45</td><td>16</td><td>56.25</td></tr>\n",
              "\t<tr><td>BB</td><td>Buffalo Bills</td><td>AFC East</td><td>Buffalo</td><td>New York</td><td>2005</td><td>5</td><td>11</td><td>0</td><td>459</td><td>⋯</td><td>1</td><td>0</td><td>1</td><td>0</td><td>35</td><td>29</td><td>26</td><td>26</td><td>16</td><td>31.25</td></tr>\n",
              "\t<tr><td>BB</td><td>Buffalo Bills</td><td>AFC East</td><td>Buffalo</td><td>New York</td><td>2006</td><td>7</td><td> 9</td><td>0</td><td>431</td><td>⋯</td><td>3</td><td>0</td><td>0</td><td>1</td><td>25</td><td>23</td><td>33</td><td>33</td><td>16</td><td>43.75</td></tr>\n",
              "\t<tr><td>BB</td><td>Buffalo Bills</td><td>AFC East</td><td>Buffalo</td><td>New York</td><td>2007</td><td>7</td><td> 9</td><td>0</td><td>445</td><td>⋯</td><td>4</td><td>1</td><td>1</td><td>1</td><td>27</td><td>24</td><td>24</td><td>24</td><td>16</td><td>43.75</td></tr>\n",
              "\t<tr><td>BB</td><td>Buffalo Bills</td><td>AFC East</td><td>Buffalo</td><td>New York</td><td>2008</td><td>7</td><td> 9</td><td>0</td><td>479</td><td>⋯</td><td>7</td><td>1</td><td>1</td><td>1</td><td>38</td><td>30</td><td>34</td><td>34</td><td>16</td><td>43.75</td></tr>\n",
              "\t<tr><td>BB</td><td>Buffalo Bills</td><td>AFC East</td><td>Buffalo</td><td>New York</td><td>2009</td><td>6</td><td>10</td><td>0</td><td>441</td><td>⋯</td><td>5</td><td>0</td><td>0</td><td>0</td><td>33</td><td>28</td><td>24</td><td>24</td><td>16</td><td>37.50</td></tr>\n",
              "</tbody>\n",
              "</table>\n"
            ],
            "text/markdown": "\nA tibble: 6 × 31\n\n| iso_code &lt;chr&gt; | Team &lt;chr&gt; | Conference &lt;chr&gt; | City &lt;chr&gt; | State &lt;chr&gt; | Year &lt;dbl&gt; | Wins &lt;dbl&gt; | Losses &lt;dbl&gt; | Ties &lt;dbl&gt; | Passing_Attempts &lt;dbl&gt; | ⋯ ⋯ | Reciever_Fumbles &lt;dbl&gt; | Two_Point_Conversions &lt;dbl&gt; | Kick_Return_TDs &lt;dbl&gt; | Punt_Return_TDs &lt;dbl&gt; | Field_Goals_Attempts &lt;dbl&gt; | Field_Goals_Made &lt;dbl&gt; | Extra_Points_Attempts &lt;dbl&gt; | Extra_Points_Made &lt;dbl&gt; | total_games &lt;dbl&gt; | Win_Percentage &lt;dbl&gt; |\n|---|---|---|---|---|---|---|---|---|---|---|---|---|---|---|---|---|---|---|---|---|\n| BB | Buffalo Bills | AFC East | Buffalo | New York | 2004 | 9 |  7 | 0 | 461 | ⋯ | 4 | 0 | 3 | 2 | 28 | 24 | 45 | 45 | 16 | 56.25 |\n| BB | Buffalo Bills | AFC East | Buffalo | New York | 2005 | 5 | 11 | 0 | 459 | ⋯ | 1 | 0 | 1 | 0 | 35 | 29 | 26 | 26 | 16 | 31.25 |\n| BB | Buffalo Bills | AFC East | Buffalo | New York | 2006 | 7 |  9 | 0 | 431 | ⋯ | 3 | 0 | 0 | 1 | 25 | 23 | 33 | 33 | 16 | 43.75 |\n| BB | Buffalo Bills | AFC East | Buffalo | New York | 2007 | 7 |  9 | 0 | 445 | ⋯ | 4 | 1 | 1 | 1 | 27 | 24 | 24 | 24 | 16 | 43.75 |\n| BB | Buffalo Bills | AFC East | Buffalo | New York | 2008 | 7 |  9 | 0 | 479 | ⋯ | 7 | 1 | 1 | 1 | 38 | 30 | 34 | 34 | 16 | 43.75 |\n| BB | Buffalo Bills | AFC East | Buffalo | New York | 2009 | 6 | 10 | 0 | 441 | ⋯ | 5 | 0 | 0 | 0 | 33 | 28 | 24 | 24 | 16 | 37.50 |\n\n",
            "text/latex": "A tibble: 6 × 31\n\\begin{tabular}{lllllllllllllllllllll}\n iso\\_code & Team & Conference & City & State & Year & Wins & Losses & Ties & Passing\\_Attempts & ⋯ & Reciever\\_Fumbles & Two\\_Point\\_Conversions & Kick\\_Return\\_TDs & Punt\\_Return\\_TDs & Field\\_Goals\\_Attempts & Field\\_Goals\\_Made & Extra\\_Points\\_Attempts & Extra\\_Points\\_Made & total\\_games & Win\\_Percentage\\\\\n <chr> & <chr> & <chr> & <chr> & <chr> & <dbl> & <dbl> & <dbl> & <dbl> & <dbl> & ⋯ & <dbl> & <dbl> & <dbl> & <dbl> & <dbl> & <dbl> & <dbl> & <dbl> & <dbl> & <dbl>\\\\\n\\hline\n\t BB & Buffalo Bills & AFC East & Buffalo & New York & 2004 & 9 &  7 & 0 & 461 & ⋯ & 4 & 0 & 3 & 2 & 28 & 24 & 45 & 45 & 16 & 56.25\\\\\n\t BB & Buffalo Bills & AFC East & Buffalo & New York & 2005 & 5 & 11 & 0 & 459 & ⋯ & 1 & 0 & 1 & 0 & 35 & 29 & 26 & 26 & 16 & 31.25\\\\\n\t BB & Buffalo Bills & AFC East & Buffalo & New York & 2006 & 7 &  9 & 0 & 431 & ⋯ & 3 & 0 & 0 & 1 & 25 & 23 & 33 & 33 & 16 & 43.75\\\\\n\t BB & Buffalo Bills & AFC East & Buffalo & New York & 2007 & 7 &  9 & 0 & 445 & ⋯ & 4 & 1 & 1 & 1 & 27 & 24 & 24 & 24 & 16 & 43.75\\\\\n\t BB & Buffalo Bills & AFC East & Buffalo & New York & 2008 & 7 &  9 & 0 & 479 & ⋯ & 7 & 1 & 1 & 1 & 38 & 30 & 34 & 34 & 16 & 43.75\\\\\n\t BB & Buffalo Bills & AFC East & Buffalo & New York & 2009 & 6 & 10 & 0 & 441 & ⋯ & 5 & 0 & 0 & 0 & 33 & 28 & 24 & 24 & 16 & 37.50\\\\\n\\end{tabular}\n",
            "text/plain": [
              "  iso_code Team          Conference City    State    Year Wins Losses Ties\n",
              "1 BB       Buffalo Bills AFC East   Buffalo New York 2004 9     7     0   \n",
              "2 BB       Buffalo Bills AFC East   Buffalo New York 2005 5    11     0   \n",
              "3 BB       Buffalo Bills AFC East   Buffalo New York 2006 7     9     0   \n",
              "4 BB       Buffalo Bills AFC East   Buffalo New York 2007 7     9     0   \n",
              "5 BB       Buffalo Bills AFC East   Buffalo New York 2008 7     9     0   \n",
              "6 BB       Buffalo Bills AFC East   Buffalo New York 2009 6    10     0   \n",
              "  Passing_Attempts ⋯ Reciever_Fumbles Two_Point_Conversions Kick_Return_TDs\n",
              "1 461              ⋯ 4                0                     3              \n",
              "2 459              ⋯ 1                0                     1              \n",
              "3 431              ⋯ 3                0                     0              \n",
              "4 445              ⋯ 4                1                     1              \n",
              "5 479              ⋯ 7                1                     1              \n",
              "6 441              ⋯ 5                0                     0              \n",
              "  Punt_Return_TDs Field_Goals_Attempts Field_Goals_Made Extra_Points_Attempts\n",
              "1 2               28                   24               45                   \n",
              "2 0               35                   29               26                   \n",
              "3 1               25                   23               33                   \n",
              "4 1               27                   24               24                   \n",
              "5 1               38                   30               34                   \n",
              "6 0               33                   28               24                   \n",
              "  Extra_Points_Made total_games Win_Percentage\n",
              "1 45                16          56.25         \n",
              "2 26                16          31.25         \n",
              "3 33                16          43.75         \n",
              "4 24                16          43.75         \n",
              "5 34                16          43.75         \n",
              "6 24                16          37.50         "
            ]
          },
          "metadata": {}
        }
      ]
    },
    {
      "cell_type": "code",
      "source": [
        "subset_df <- df[, c(\"Team\", \"Year\", \"Wins\", \"Losses\", \"total_games\", \"Win_Percentage\")]\n",
        "head(subset_df, n= 5)"
      ],
      "metadata": {
        "colab": {
          "base_uri": "https://localhost:8080/",
          "height": 254
        },
        "id": "82KhqoOxyIm8",
        "outputId": "aeac0f3c-83e1-4938-8548-56911d1cd8b5"
      },
      "execution_count": 11,
      "outputs": [
        {
          "output_type": "display_data",
          "data": {
            "text/html": [
              "<table class=\"dataframe\">\n",
              "<caption>A tibble: 5 × 6</caption>\n",
              "<thead>\n",
              "\t<tr><th scope=col>Team</th><th scope=col>Year</th><th scope=col>Wins</th><th scope=col>Losses</th><th scope=col>total_games</th><th scope=col>Win_Percentage</th></tr>\n",
              "\t<tr><th scope=col>&lt;chr&gt;</th><th scope=col>&lt;dbl&gt;</th><th scope=col>&lt;dbl&gt;</th><th scope=col>&lt;dbl&gt;</th><th scope=col>&lt;dbl&gt;</th><th scope=col>&lt;dbl&gt;</th></tr>\n",
              "</thead>\n",
              "<tbody>\n",
              "\t<tr><td>Buffalo Bills</td><td>2004</td><td>9</td><td> 7</td><td>16</td><td>56.25</td></tr>\n",
              "\t<tr><td>Buffalo Bills</td><td>2005</td><td>5</td><td>11</td><td>16</td><td>31.25</td></tr>\n",
              "\t<tr><td>Buffalo Bills</td><td>2006</td><td>7</td><td> 9</td><td>16</td><td>43.75</td></tr>\n",
              "\t<tr><td>Buffalo Bills</td><td>2007</td><td>7</td><td> 9</td><td>16</td><td>43.75</td></tr>\n",
              "\t<tr><td>Buffalo Bills</td><td>2008</td><td>7</td><td> 9</td><td>16</td><td>43.75</td></tr>\n",
              "</tbody>\n",
              "</table>\n"
            ],
            "text/markdown": "\nA tibble: 5 × 6\n\n| Team &lt;chr&gt; | Year &lt;dbl&gt; | Wins &lt;dbl&gt; | Losses &lt;dbl&gt; | total_games &lt;dbl&gt; | Win_Percentage &lt;dbl&gt; |\n|---|---|---|---|---|---|\n| Buffalo Bills | 2004 | 9 |  7 | 16 | 56.25 |\n| Buffalo Bills | 2005 | 5 | 11 | 16 | 31.25 |\n| Buffalo Bills | 2006 | 7 |  9 | 16 | 43.75 |\n| Buffalo Bills | 2007 | 7 |  9 | 16 | 43.75 |\n| Buffalo Bills | 2008 | 7 |  9 | 16 | 43.75 |\n\n",
            "text/latex": "A tibble: 5 × 6\n\\begin{tabular}{llllll}\n Team & Year & Wins & Losses & total\\_games & Win\\_Percentage\\\\\n <chr> & <dbl> & <dbl> & <dbl> & <dbl> & <dbl>\\\\\n\\hline\n\t Buffalo Bills & 2004 & 9 &  7 & 16 & 56.25\\\\\n\t Buffalo Bills & 2005 & 5 & 11 & 16 & 31.25\\\\\n\t Buffalo Bills & 2006 & 7 &  9 & 16 & 43.75\\\\\n\t Buffalo Bills & 2007 & 7 &  9 & 16 & 43.75\\\\\n\t Buffalo Bills & 2008 & 7 &  9 & 16 & 43.75\\\\\n\\end{tabular}\n",
            "text/plain": [
              "  Team          Year Wins Losses total_games Win_Percentage\n",
              "1 Buffalo Bills 2004 9     7     16          56.25         \n",
              "2 Buffalo Bills 2005 5    11     16          31.25         \n",
              "3 Buffalo Bills 2006 7     9     16          43.75         \n",
              "4 Buffalo Bills 2007 7     9     16          43.75         \n",
              "5 Buffalo Bills 2008 7     9     16          43.75         "
            ]
          },
          "metadata": {}
        }
      ]
    },
    {
      "cell_type": "code",
      "source": [
        "library(dplyr)\n",
        "\n",
        "# Filter df1 for the specified date range and calculate sum of total_score for each team\n",
        "df1_filtered <- df1 %>%\n",
        "  filter(as.Date(archiveDate) >= as.Date(\"2021-09-01\") & as.Date(archiveDate) <= as.Date(\"2022-02-15\")) %>%\n",
        "  group_by(team) %>%\n",
        "  summarize(total_score_sum = sum(total_score))\n",
        "\n",
        "# Filter subset_df for the year\n",
        "subset_df_2017 <- subset_df %>%\n",
        "  filter(Year == 2021)\n",
        "\n",
        "# Calculate win percentage for each team in year\n",
        "subset_df_2017 <- merge(subset_df_2017, df1_filtered, by.x = \"Team\", by.y = \"team\", all.x = TRUE)\n",
        "\n",
        "# Calculate win percentage\n",
        "subset_df_2017$win_percentage <- subset_df_2017$Wins / subset_df_2017$total_games * 100\n",
        "\n",
        "# Print the result\n",
        "head(subset_df_2017,n=32)"
      ],
      "metadata": {
        "colab": {
          "base_uri": "https://localhost:8080/",
          "height": 1000
        },
        "id": "Rl9zGCNzzJZ9",
        "outputId": "eaca0365-8351-426f-b5fa-c891622018e4"
      },
      "execution_count": 19,
      "outputs": [
        {
          "output_type": "display_data",
          "data": {
            "text/html": [
              "<table class=\"dataframe\">\n",
              "<caption>A data.frame: 32 × 8</caption>\n",
              "<thead>\n",
              "\t<tr><th></th><th scope=col>Team</th><th scope=col>Year</th><th scope=col>Wins</th><th scope=col>Losses</th><th scope=col>total_games</th><th scope=col>Win_Percentage</th><th scope=col>total_score_sum</th><th scope=col>win_percentage</th></tr>\n",
              "\t<tr><th></th><th scope=col>&lt;chr&gt;</th><th scope=col>&lt;dbl&gt;</th><th scope=col>&lt;dbl&gt;</th><th scope=col>&lt;dbl&gt;</th><th scope=col>&lt;dbl&gt;</th><th scope=col>&lt;dbl&gt;</th><th scope=col>&lt;dbl&gt;</th><th scope=col>&lt;dbl&gt;</th></tr>\n",
              "</thead>\n",
              "<tbody>\n",
              "\t<tr><th scope=row>1</th><td>Arizona Cardinals    </td><td>2021</td><td>11</td><td> 6</td><td>17</td><td>64.70588</td><td> 1.2439658</td><td>64.70588</td></tr>\n",
              "\t<tr><th scope=row>2</th><td>Atlanta Falcons      </td><td>2021</td><td> 7</td><td>10</td><td>17</td><td>41.17647</td><td>-0.8526803</td><td>41.17647</td></tr>\n",
              "\t<tr><th scope=row>3</th><td>Baltimore Ravens     </td><td>2021</td><td> 8</td><td> 9</td><td>17</td><td>47.05882</td><td>-1.1731831</td><td>47.05882</td></tr>\n",
              "\t<tr><th scope=row>4</th><td>Buffalo Bills        </td><td>2021</td><td>11</td><td> 6</td><td>17</td><td>64.70588</td><td> 1.6963752</td><td>64.70588</td></tr>\n",
              "\t<tr><th scope=row>5</th><td>Carolina Panthers    </td><td>2021</td><td> 5</td><td>12</td><td>17</td><td>29.41176</td><td>-3.3188110</td><td>29.41176</td></tr>\n",
              "\t<tr><th scope=row>6</th><td>Chicago Bears        </td><td>2021</td><td> 6</td><td>11</td><td>17</td><td>35.29412</td><td>-1.4695806</td><td>35.29412</td></tr>\n",
              "\t<tr><th scope=row>7</th><td>Cincinnati Bengals   </td><td>2021</td><td>10</td><td> 7</td><td>17</td><td>58.82353</td><td> 3.3275107</td><td>58.82353</td></tr>\n",
              "\t<tr><th scope=row>8</th><td>Cleveland Browns     </td><td>2021</td><td> 8</td><td> 9</td><td>17</td><td>47.05882</td><td>-0.9759961</td><td>47.05882</td></tr>\n",
              "\t<tr><th scope=row>9</th><td>Dallas Cowboys       </td><td>2021</td><td>12</td><td> 5</td><td>17</td><td>70.58824</td><td>-1.3590107</td><td>70.58824</td></tr>\n",
              "\t<tr><th scope=row>10</th><td>Denver Broncos       </td><td>2021</td><td> 7</td><td>10</td><td>17</td><td>41.17647</td><td> 9.5739296</td><td>41.17647</td></tr>\n",
              "\t<tr><th scope=row>11</th><td>Detroit Lions        </td><td>2021</td><td> 3</td><td>13</td><td>16</td><td>18.75000</td><td>-1.4761976</td><td>18.75000</td></tr>\n",
              "\t<tr><th scope=row>12</th><td>Green Bay Packers    </td><td>2021</td><td>13</td><td> 4</td><td>17</td><td>76.47059</td><td> 2.4439600</td><td>76.47059</td></tr>\n",
              "\t<tr><th scope=row>13</th><td>Houston Texans       </td><td>2021</td><td> 4</td><td>13</td><td>17</td><td>23.52941</td><td>-1.3461155</td><td>23.52941</td></tr>\n",
              "\t<tr><th scope=row>14</th><td>Indianapolis Colts   </td><td>2021</td><td> 9</td><td> 8</td><td>17</td><td>52.94118</td><td>-1.1575888</td><td>52.94118</td></tr>\n",
              "\t<tr><th scope=row>15</th><td>Jacksonville Jaguars </td><td>2021</td><td> 3</td><td>14</td><td>17</td><td>17.64706</td><td>-0.4369543</td><td>17.64706</td></tr>\n",
              "\t<tr><th scope=row>16</th><td>Kansas City Chiefs   </td><td>2021</td><td>12</td><td> 5</td><td>17</td><td>70.58824</td><td> 6.3833828</td><td>70.58824</td></tr>\n",
              "\t<tr><th scope=row>17</th><td>Las Vegas Raiders    </td><td>2021</td><td>10</td><td> 7</td><td>17</td><td>58.82353</td><td>-4.3610119</td><td>58.82353</td></tr>\n",
              "\t<tr><th scope=row>18</th><td>Los Angeles Chargers </td><td>2021</td><td> 9</td><td> 8</td><td>17</td><td>52.94118</td><td> 2.4792538</td><td>52.94118</td></tr>\n",
              "\t<tr><th scope=row>19</th><td>Los Angeles Rams     </td><td>2021</td><td>12</td><td> 5</td><td>17</td><td>70.58824</td><td> 5.2790608</td><td>70.58824</td></tr>\n",
              "\t<tr><th scope=row>20</th><td>Miami Dolphins       </td><td>2021</td><td> 9</td><td> 8</td><td>17</td><td>52.94118</td><td> 4.5256860</td><td>52.94118</td></tr>\n",
              "\t<tr><th scope=row>21</th><td>Minnesota Vikings    </td><td>2021</td><td> 8</td><td> 9</td><td>17</td><td>47.05882</td><td> 3.5168809</td><td>47.05882</td></tr>\n",
              "\t<tr><th scope=row>22</th><td>New England Patriots </td><td>2021</td><td>10</td><td> 7</td><td>17</td><td>58.82353</td><td>-5.8064773</td><td>58.82353</td></tr>\n",
              "\t<tr><th scope=row>23</th><td>New Orleans Saints   </td><td>2021</td><td> 9</td><td> 8</td><td>17</td><td>52.94118</td><td> 3.7173593</td><td>52.94118</td></tr>\n",
              "\t<tr><th scope=row>24</th><td>New York Giants      </td><td>2021</td><td> 4</td><td>13</td><td>17</td><td>23.52941</td><td>-2.5760961</td><td>23.52941</td></tr>\n",
              "\t<tr><th scope=row>25</th><td>New York Jets        </td><td>2021</td><td> 4</td><td>13</td><td>17</td><td>23.52941</td><td>-5.9399160</td><td>23.52941</td></tr>\n",
              "\t<tr><th scope=row>26</th><td>Philadelphia Eagles  </td><td>2021</td><td> 9</td><td> 8</td><td>17</td><td>52.94118</td><td> 4.6778030</td><td>52.94118</td></tr>\n",
              "\t<tr><th scope=row>27</th><td>Pittsburgh Steelers  </td><td>2021</td><td> 9</td><td> 7</td><td>16</td><td>56.25000</td><td> 3.8275156</td><td>56.25000</td></tr>\n",
              "\t<tr><th scope=row>28</th><td>San Francisco 49ers  </td><td>2021</td><td>10</td><td> 7</td><td>17</td><td>58.82353</td><td>-2.1919966</td><td>58.82353</td></tr>\n",
              "\t<tr><th scope=row>29</th><td>Seattle Seahawks     </td><td>2021</td><td> 7</td><td>10</td><td>17</td><td>41.17647</td><td>-1.0188898</td><td>41.17647</td></tr>\n",
              "\t<tr><th scope=row>30</th><td>Tampa Bay Buccaneers </td><td>2021</td><td>13</td><td> 4</td><td>17</td><td>76.47059</td><td>-0.8321796</td><td>76.47059</td></tr>\n",
              "\t<tr><th scope=row>31</th><td>Tennessee Titans     </td><td>2021</td><td>12</td><td> 5</td><td>17</td><td>70.58824</td><td> 3.5745033</td><td>70.58824</td></tr>\n",
              "\t<tr><th scope=row>32</th><td>Washington Commanders</td><td>2021</td><td> 7</td><td>10</td><td>17</td><td>41.17647</td><td>        NA</td><td>41.17647</td></tr>\n",
              "</tbody>\n",
              "</table>\n"
            ],
            "text/markdown": "\nA data.frame: 32 × 8\n\n| <!--/--> | Team &lt;chr&gt; | Year &lt;dbl&gt; | Wins &lt;dbl&gt; | Losses &lt;dbl&gt; | total_games &lt;dbl&gt; | Win_Percentage &lt;dbl&gt; | total_score_sum &lt;dbl&gt; | win_percentage &lt;dbl&gt; |\n|---|---|---|---|---|---|---|---|---|\n| 1 | Arizona Cardinals     | 2021 | 11 |  6 | 17 | 64.70588 |  1.2439658 | 64.70588 |\n| 2 | Atlanta Falcons       | 2021 |  7 | 10 | 17 | 41.17647 | -0.8526803 | 41.17647 |\n| 3 | Baltimore Ravens      | 2021 |  8 |  9 | 17 | 47.05882 | -1.1731831 | 47.05882 |\n| 4 | Buffalo Bills         | 2021 | 11 |  6 | 17 | 64.70588 |  1.6963752 | 64.70588 |\n| 5 | Carolina Panthers     | 2021 |  5 | 12 | 17 | 29.41176 | -3.3188110 | 29.41176 |\n| 6 | Chicago Bears         | 2021 |  6 | 11 | 17 | 35.29412 | -1.4695806 | 35.29412 |\n| 7 | Cincinnati Bengals    | 2021 | 10 |  7 | 17 | 58.82353 |  3.3275107 | 58.82353 |\n| 8 | Cleveland Browns      | 2021 |  8 |  9 | 17 | 47.05882 | -0.9759961 | 47.05882 |\n| 9 | Dallas Cowboys        | 2021 | 12 |  5 | 17 | 70.58824 | -1.3590107 | 70.58824 |\n| 10 | Denver Broncos        | 2021 |  7 | 10 | 17 | 41.17647 |  9.5739296 | 41.17647 |\n| 11 | Detroit Lions         | 2021 |  3 | 13 | 16 | 18.75000 | -1.4761976 | 18.75000 |\n| 12 | Green Bay Packers     | 2021 | 13 |  4 | 17 | 76.47059 |  2.4439600 | 76.47059 |\n| 13 | Houston Texans        | 2021 |  4 | 13 | 17 | 23.52941 | -1.3461155 | 23.52941 |\n| 14 | Indianapolis Colts    | 2021 |  9 |  8 | 17 | 52.94118 | -1.1575888 | 52.94118 |\n| 15 | Jacksonville Jaguars  | 2021 |  3 | 14 | 17 | 17.64706 | -0.4369543 | 17.64706 |\n| 16 | Kansas City Chiefs    | 2021 | 12 |  5 | 17 | 70.58824 |  6.3833828 | 70.58824 |\n| 17 | Las Vegas Raiders     | 2021 | 10 |  7 | 17 | 58.82353 | -4.3610119 | 58.82353 |\n| 18 | Los Angeles Chargers  | 2021 |  9 |  8 | 17 | 52.94118 |  2.4792538 | 52.94118 |\n| 19 | Los Angeles Rams      | 2021 | 12 |  5 | 17 | 70.58824 |  5.2790608 | 70.58824 |\n| 20 | Miami Dolphins        | 2021 |  9 |  8 | 17 | 52.94118 |  4.5256860 | 52.94118 |\n| 21 | Minnesota Vikings     | 2021 |  8 |  9 | 17 | 47.05882 |  3.5168809 | 47.05882 |\n| 22 | New England Patriots  | 2021 | 10 |  7 | 17 | 58.82353 | -5.8064773 | 58.82353 |\n| 23 | New Orleans Saints    | 2021 |  9 |  8 | 17 | 52.94118 |  3.7173593 | 52.94118 |\n| 24 | New York Giants       | 2021 |  4 | 13 | 17 | 23.52941 | -2.5760961 | 23.52941 |\n| 25 | New York Jets         | 2021 |  4 | 13 | 17 | 23.52941 | -5.9399160 | 23.52941 |\n| 26 | Philadelphia Eagles   | 2021 |  9 |  8 | 17 | 52.94118 |  4.6778030 | 52.94118 |\n| 27 | Pittsburgh Steelers   | 2021 |  9 |  7 | 16 | 56.25000 |  3.8275156 | 56.25000 |\n| 28 | San Francisco 49ers   | 2021 | 10 |  7 | 17 | 58.82353 | -2.1919966 | 58.82353 |\n| 29 | Seattle Seahawks      | 2021 |  7 | 10 | 17 | 41.17647 | -1.0188898 | 41.17647 |\n| 30 | Tampa Bay Buccaneers  | 2021 | 13 |  4 | 17 | 76.47059 | -0.8321796 | 76.47059 |\n| 31 | Tennessee Titans      | 2021 | 12 |  5 | 17 | 70.58824 |  3.5745033 | 70.58824 |\n| 32 | Washington Commanders | 2021 |  7 | 10 | 17 | 41.17647 |         NA | 41.17647 |\n\n",
            "text/latex": "A data.frame: 32 × 8\n\\begin{tabular}{r|llllllll}\n  & Team & Year & Wins & Losses & total\\_games & Win\\_Percentage & total\\_score\\_sum & win\\_percentage\\\\\n  & <chr> & <dbl> & <dbl> & <dbl> & <dbl> & <dbl> & <dbl> & <dbl>\\\\\n\\hline\n\t1 & Arizona Cardinals     & 2021 & 11 &  6 & 17 & 64.70588 &  1.2439658 & 64.70588\\\\\n\t2 & Atlanta Falcons       & 2021 &  7 & 10 & 17 & 41.17647 & -0.8526803 & 41.17647\\\\\n\t3 & Baltimore Ravens      & 2021 &  8 &  9 & 17 & 47.05882 & -1.1731831 & 47.05882\\\\\n\t4 & Buffalo Bills         & 2021 & 11 &  6 & 17 & 64.70588 &  1.6963752 & 64.70588\\\\\n\t5 & Carolina Panthers     & 2021 &  5 & 12 & 17 & 29.41176 & -3.3188110 & 29.41176\\\\\n\t6 & Chicago Bears         & 2021 &  6 & 11 & 17 & 35.29412 & -1.4695806 & 35.29412\\\\\n\t7 & Cincinnati Bengals    & 2021 & 10 &  7 & 17 & 58.82353 &  3.3275107 & 58.82353\\\\\n\t8 & Cleveland Browns      & 2021 &  8 &  9 & 17 & 47.05882 & -0.9759961 & 47.05882\\\\\n\t9 & Dallas Cowboys        & 2021 & 12 &  5 & 17 & 70.58824 & -1.3590107 & 70.58824\\\\\n\t10 & Denver Broncos        & 2021 &  7 & 10 & 17 & 41.17647 &  9.5739296 & 41.17647\\\\\n\t11 & Detroit Lions         & 2021 &  3 & 13 & 16 & 18.75000 & -1.4761976 & 18.75000\\\\\n\t12 & Green Bay Packers     & 2021 & 13 &  4 & 17 & 76.47059 &  2.4439600 & 76.47059\\\\\n\t13 & Houston Texans        & 2021 &  4 & 13 & 17 & 23.52941 & -1.3461155 & 23.52941\\\\\n\t14 & Indianapolis Colts    & 2021 &  9 &  8 & 17 & 52.94118 & -1.1575888 & 52.94118\\\\\n\t15 & Jacksonville Jaguars  & 2021 &  3 & 14 & 17 & 17.64706 & -0.4369543 & 17.64706\\\\\n\t16 & Kansas City Chiefs    & 2021 & 12 &  5 & 17 & 70.58824 &  6.3833828 & 70.58824\\\\\n\t17 & Las Vegas Raiders     & 2021 & 10 &  7 & 17 & 58.82353 & -4.3610119 & 58.82353\\\\\n\t18 & Los Angeles Chargers  & 2021 &  9 &  8 & 17 & 52.94118 &  2.4792538 & 52.94118\\\\\n\t19 & Los Angeles Rams      & 2021 & 12 &  5 & 17 & 70.58824 &  5.2790608 & 70.58824\\\\\n\t20 & Miami Dolphins        & 2021 &  9 &  8 & 17 & 52.94118 &  4.5256860 & 52.94118\\\\\n\t21 & Minnesota Vikings     & 2021 &  8 &  9 & 17 & 47.05882 &  3.5168809 & 47.05882\\\\\n\t22 & New England Patriots  & 2021 & 10 &  7 & 17 & 58.82353 & -5.8064773 & 58.82353\\\\\n\t23 & New Orleans Saints    & 2021 &  9 &  8 & 17 & 52.94118 &  3.7173593 & 52.94118\\\\\n\t24 & New York Giants       & 2021 &  4 & 13 & 17 & 23.52941 & -2.5760961 & 23.52941\\\\\n\t25 & New York Jets         & 2021 &  4 & 13 & 17 & 23.52941 & -5.9399160 & 23.52941\\\\\n\t26 & Philadelphia Eagles   & 2021 &  9 &  8 & 17 & 52.94118 &  4.6778030 & 52.94118\\\\\n\t27 & Pittsburgh Steelers   & 2021 &  9 &  7 & 16 & 56.25000 &  3.8275156 & 56.25000\\\\\n\t28 & San Francisco 49ers   & 2021 & 10 &  7 & 17 & 58.82353 & -2.1919966 & 58.82353\\\\\n\t29 & Seattle Seahawks      & 2021 &  7 & 10 & 17 & 41.17647 & -1.0188898 & 41.17647\\\\\n\t30 & Tampa Bay Buccaneers  & 2021 & 13 &  4 & 17 & 76.47059 & -0.8321796 & 76.47059\\\\\n\t31 & Tennessee Titans      & 2021 & 12 &  5 & 17 & 70.58824 &  3.5745033 & 70.58824\\\\\n\t32 & Washington Commanders & 2021 &  7 & 10 & 17 & 41.17647 &         NA & 41.17647\\\\\n\\end{tabular}\n",
            "text/plain": [
              "   Team                  Year Wins Losses total_games Win_Percentage\n",
              "1  Arizona Cardinals     2021 11    6     17          64.70588      \n",
              "2  Atlanta Falcons       2021  7   10     17          41.17647      \n",
              "3  Baltimore Ravens      2021  8    9     17          47.05882      \n",
              "4  Buffalo Bills         2021 11    6     17          64.70588      \n",
              "5  Carolina Panthers     2021  5   12     17          29.41176      \n",
              "6  Chicago Bears         2021  6   11     17          35.29412      \n",
              "7  Cincinnati Bengals    2021 10    7     17          58.82353      \n",
              "8  Cleveland Browns      2021  8    9     17          47.05882      \n",
              "9  Dallas Cowboys        2021 12    5     17          70.58824      \n",
              "10 Denver Broncos        2021  7   10     17          41.17647      \n",
              "11 Detroit Lions         2021  3   13     16          18.75000      \n",
              "12 Green Bay Packers     2021 13    4     17          76.47059      \n",
              "13 Houston Texans        2021  4   13     17          23.52941      \n",
              "14 Indianapolis Colts    2021  9    8     17          52.94118      \n",
              "15 Jacksonville Jaguars  2021  3   14     17          17.64706      \n",
              "16 Kansas City Chiefs    2021 12    5     17          70.58824      \n",
              "17 Las Vegas Raiders     2021 10    7     17          58.82353      \n",
              "18 Los Angeles Chargers  2021  9    8     17          52.94118      \n",
              "19 Los Angeles Rams      2021 12    5     17          70.58824      \n",
              "20 Miami Dolphins        2021  9    8     17          52.94118      \n",
              "21 Minnesota Vikings     2021  8    9     17          47.05882      \n",
              "22 New England Patriots  2021 10    7     17          58.82353      \n",
              "23 New Orleans Saints    2021  9    8     17          52.94118      \n",
              "24 New York Giants       2021  4   13     17          23.52941      \n",
              "25 New York Jets         2021  4   13     17          23.52941      \n",
              "26 Philadelphia Eagles   2021  9    8     17          52.94118      \n",
              "27 Pittsburgh Steelers   2021  9    7     16          56.25000      \n",
              "28 San Francisco 49ers   2021 10    7     17          58.82353      \n",
              "29 Seattle Seahawks      2021  7   10     17          41.17647      \n",
              "30 Tampa Bay Buccaneers  2021 13    4     17          76.47059      \n",
              "31 Tennessee Titans      2021 12    5     17          70.58824      \n",
              "32 Washington Commanders 2021  7   10     17          41.17647      \n",
              "   total_score_sum win_percentage\n",
              "1   1.2439658      64.70588      \n",
              "2  -0.8526803      41.17647      \n",
              "3  -1.1731831      47.05882      \n",
              "4   1.6963752      64.70588      \n",
              "5  -3.3188110      29.41176      \n",
              "6  -1.4695806      35.29412      \n",
              "7   3.3275107      58.82353      \n",
              "8  -0.9759961      47.05882      \n",
              "9  -1.3590107      70.58824      \n",
              "10  9.5739296      41.17647      \n",
              "11 -1.4761976      18.75000      \n",
              "12  2.4439600      76.47059      \n",
              "13 -1.3461155      23.52941      \n",
              "14 -1.1575888      52.94118      \n",
              "15 -0.4369543      17.64706      \n",
              "16  6.3833828      70.58824      \n",
              "17 -4.3610119      58.82353      \n",
              "18  2.4792538      52.94118      \n",
              "19  5.2790608      70.58824      \n",
              "20  4.5256860      52.94118      \n",
              "21  3.5168809      47.05882      \n",
              "22 -5.8064773      58.82353      \n",
              "23  3.7173593      52.94118      \n",
              "24 -2.5760961      23.52941      \n",
              "25 -5.9399160      23.52941      \n",
              "26  4.6778030      52.94118      \n",
              "27  3.8275156      56.25000      \n",
              "28 -2.1919966      58.82353      \n",
              "29 -1.0188898      41.17647      \n",
              "30 -0.8321796      76.47059      \n",
              "31  3.5745033      70.58824      \n",
              "32         NA      41.17647      "
            ]
          },
          "metadata": {}
        }
      ]
    },
    {
      "cell_type": "code",
      "source": [
        "library(ggplot2)\n",
        "\n",
        "\n",
        "\n",
        "# Create a dot plot of WinPCT and Sentiment\n",
        "ggplot(subset_df_2017, aes(x = win_percentage, y = total_score_sum, label = Team)) +\n",
        "  geom_point() +\n",
        "  geom_text(hjust = 0, vjust = 0) +\n",
        "  labs(x = \"Win Percentage\", y = \"Total Score Sum\", title = \"Team Performance in 2017\") +\n",
        "  theme_minimal()"
      ],
      "metadata": {
        "colab": {
          "base_uri": "https://localhost:8080/",
          "height": 506
        },
        "id": "DXRH_iK00ALi",
        "outputId": "32d4d4c5-c7b4-4293-f271-2634d01f3a3e"
      },
      "execution_count": 20,
      "outputs": [
        {
          "output_type": "stream",
          "name": "stderr",
          "text": [
            "Warning message:\n",
            "“\u001b[1m\u001b[22mRemoved 1 rows containing missing values (`geom_point()`).”\n",
            "Warning message:\n",
            "“\u001b[1m\u001b[22mRemoved 1 rows containing missing values (`geom_text()`).”\n"
          ]
        },
        {
          "output_type": "display_data",
          "data": {
            "text/plain": [
              "plot without title"
            ],
            "image/png": "[encoded data removed]"
          },
          "metadata": {
            "image/png": {
              "width": 420,
              "height": 420
            }
          }
        }
      ]
    },
    {
      "cell_type": "code",
      "source": [
        "\n",
        "write.csv(subset_df_2017, \"winpct_sentiment_score_2021.csv\", row.names = FALSE)\n"
      ],
      "metadata": {
        "id": "hBiaHt3u1djW"
      },
      "execution_count": 21,
      "outputs": []
    },
    {
      "cell_type": "code",
      "source": [],
      "metadata": {
        "id": "cVxfBbaE5hCz"
      },
      "execution_count": null,
      "outputs": []
    }
  ]
}