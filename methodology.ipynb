{
 "cells": [
  {
   "cell_type": "markdown",
   "metadata": {},
   "source": [
    "# This is where we trained a deep learning model to try and classify headlines with positive or negative sentiment. \n",
    "\n",
    "\n",
    "\n",
    "Heavily inspired by this article:\n",
    "https://towardsdatascience.com/sentiment-analysis-on-news-headlines-classic-supervised-learning-vs-deep-learning-approach-831ac698e276"
   ]
  },
  {
   "cell_type": "code",
   "execution_count": 1,
   "metadata": {
    "colab": {
     "base_uri": "https://localhost:8080/"
    },
    "id": "aIfvXeGuwHKa",
    "outputId": "bf504199-0bbb-41b2-a729-119fd2f5b9bf"
   },
   "outputs": [
    {
     "ename": "ModuleNotFoundError",
     "evalue": "No module named 'spacy'",
     "output_type": "error",
     "traceback": [
      "\u001b[0;31m---------------------------------------------------------------------------\u001b[0m",
      "\u001b[0;31mModuleNotFoundError\u001b[0m                       Traceback (most recent call last)",
      "Cell \u001b[0;32mIn[1], line 4\u001b[0m\n\u001b[1;32m      2\u001b[0m \u001b[38;5;28;01mimport\u001b[39;00m \u001b[38;5;21;01mpandas\u001b[39;00m \u001b[38;5;28;01mas\u001b[39;00m \u001b[38;5;21;01mpd\u001b[39;00m\n\u001b[1;32m      3\u001b[0m \u001b[38;5;66;03m#NLP packages\u001b[39;00m\n\u001b[0;32m----> 4\u001b[0m \u001b[38;5;28;01mimport\u001b[39;00m \u001b[38;5;21;01mspacy\u001b[39;00m\n\u001b[1;32m      5\u001b[0m \u001b[38;5;28;01mfrom\u001b[39;00m \u001b[38;5;21;01mnltk\u001b[39;00m\u001b[38;5;21;01m.\u001b[39;00m\u001b[38;5;21;01mcorpus\u001b[39;00m \u001b[38;5;28;01mimport\u001b[39;00m stopwords\n\u001b[1;32m      6\u001b[0m \u001b[38;5;28;01mimport\u001b[39;00m \u001b[38;5;21;01mstring\u001b[39;00m\n",
      "\u001b[0;31mModuleNotFoundError\u001b[0m: No module named 'spacy'"
     ]
    }
   ],
   "source": [
    "import io\n",
    "import pandas as pd\n",
    "#NLP packages\n",
    "import spacy\n",
    "from nltk.corpus import stopwords\n",
    "import string\n",
    "import nltk\n",
    "import nltk.tokenize\n",
    "punc = string.punctuation\n",
    "nltk.download('stopwords')\n",
    "stop_words = set(stopwords.words('english'))\n",
    "#Supervised learning\n",
    "from tqdm import tqdm_notebook as tqdm\n",
    "from sklearn.feature_extraction.text import TfidfVectorizer\n",
    "from sklearn.model_selection import train_test_split\n",
    "from sklearn.metrics import accuracy_score\n",
    "from sklearn.linear_model import LogisticRegression\n",
    "from sklearn.metrics import classification_report\n",
    "##Deep learning libraries and APIs\n",
    "import numpy as np\n",
    "import tensorflow as tf\n",
    "from tensorflow.keras.preprocessing.text import Tokenizer\n",
    "from tensorflow.keras.preprocessing.sequence import pad_sequences"
   ]
  },
  {
   "cell_type": "code",
   "execution_count": null,
   "metadata": {
    "colab": {
     "base_uri": "https://localhost:8080/",
     "height": 206
    },
    "id": "b8PZa24BwKU5",
    "outputId": "e68cf8cc-7647-4be5-bf6c-e07fd0b02392"
   },
   "outputs": [],
   "source": [
    "#load labeled headline data\n",
    "\n",
    "df = pd.read_csv('/content/just_labels_and_lines.csv')\n",
    "df = df.rename(columns = {'headlines': 'text'})\n",
    "df['text'] = df['text'].astype(str)\n",
    "# Remove leading and trailing whitespace from the 'headlines' column\n",
    "df['text'] = df['text'].str.strip()\n",
    "\n",
    "\n",
    "df.tail(n=5)"
   ]
  },
  {
   "cell_type": "code",
   "execution_count": null,
   "metadata": {
    "colab": {
     "base_uri": "https://localhost:8080/"
    },
    "id": "OnyD1eC23JKd",
    "outputId": "369a68b8-f035-4368-b51a-dcdce5d72531"
   },
   "outputs": [],
   "source": [
    "#Filtering out unlabeled data points\n",
    "df= df.loc[df.labels.isin([0,1]), :]\n",
    "#find the label counts\n",
    "df['labels'].value_counts()"
   ]
  },
  {
   "cell_type": "code",
   "execution_count": null,
   "metadata": {
    "id": "QmlLP25JwKYV"
   },
   "outputs": [],
   "source": [
    "#make a copy of the dataframe\n",
    "data = df.copy()\n"
   ]
  },
  {
   "cell_type": "code",
   "execution_count": null,
   "metadata": {
    "id": "mKnJK9M_wKby"
   },
   "outputs": [],
   "source": [
    "#define a function which handles the text preprocessing\n",
    "def preparation_text_data(data):\n",
    "    \"\"\"\n",
    "    This pipeline prepares the text data, conducting the following steps:\n",
    "    1) Tokenization\n",
    "    2) Lemmatization\n",
    "    4) Removal of stopwords\n",
    "    5) Removal of punctuation\n",
    "    \"\"\"\n",
    "    # initialize spacy object\n",
    "    nlp = spacy.load('en_core_web_sm')\n",
    "    # select raw text\n",
    "    raw_text = data.text.values.tolist()\n",
    "    # tokenize\n",
    "    tokenized_text = [[nlp(i.lower().strip())] for i in tqdm(raw_text)]\n",
    "    #define the punctuations and stop words\n",
    "    punc = string.punctuation\n",
    "    stop_words = set(stopwords.words('english'))\n",
    "    #lemmatize, remove stopwords and punctuationd\n",
    "    corpus = []\n",
    "    for doc in tqdm(tokenized_text):\n",
    "        corpus.append([word.lemma_ for word in doc[0] if (word.lemma_ not in stop_words and word.lemma_ not in punc)])\n",
    "    # add prepared data to df\n",
    "    data[\"text\"] = corpus\n",
    "    return data"
   ]
  },
  {
   "cell_type": "code",
   "execution_count": null,
   "metadata": {
    "colab": {
     "base_uri": "https://localhost:8080/",
     "height": 185,
     "referenced_widgets": [
      "1982c6caa71f44e498373cd6a6d01d22",
      "d9209fd8e3ac46dba99573797e312952",
      "adac3784b38f493f9f827941d7916686",
      "23b7c2c3c7a04c65b7b8fd94dc2f7679",
      "3e696ff058ca4471a132a4ca3517a14e",
      "72b099acc1894e889835503369cc2b6c",
      "21d0522268d24d328e6e2f77d4c7e641",
      "98ed6d2433db445abcb46af3447e44b7",
      "27effe071fa443ca86995672573a7333",
      "579ed4adb9fb4ee6a5674738e2841856",
      "2dd5d949b7d24fed893baa63388bf6c2",
      "190465ccbf42468d801f627b3115a45e",
      "664d50114be24850a20396ac225a3050",
      "060901eb62e0469fbdc4edcc30ee4221",
      "80ffe92a0155409faddc78bc513d7c38",
      "51c29150858244929f140282f59e6716",
      "a816003ab974445a886c2ecccd0995a7",
      "ccfb4434d4cd4752bfbf5f6380de1935",
      "33bd7b7f10b7492cb80e9b1e1603a0b2",
      "d141b892f32249c6bcecab5c6cc89ebb",
      "b3478e16d63d46c59e42eb17d47e71be",
      "21c82c33064c4f48afcf5aecc37170b9"
     ]
    },
    "id": "Do19zlURwKhL",
    "outputId": "2842ee47-6aa3-4806-98e7-b47193583345"
   },
   "outputs": [],
   "source": [
    "processed_data = preparation_text_data(data)"
   ]
  },
  {
   "cell_type": "code",
   "execution_count": null,
   "metadata": {
    "id": "FaUq-9h3wKku"
   },
   "outputs": [],
   "source": [
    "#copies\n",
    "data1 = processed_data.copy()\n",
    "data2 = processed_data.copy()"
   ]
  },
  {
   "cell_type": "code",
   "execution_count": null,
   "metadata": {
    "id": "4bKLVRSBwKoD"
   },
   "outputs": [],
   "source": []
  },
  {
   "cell_type": "code",
   "execution_count": null,
   "metadata": {
    "id": "co11dq4awKr3"
   },
   "outputs": [],
   "source": []
  },
  {
   "cell_type": "code",
   "execution_count": null,
   "metadata": {
    "id": "Tq7jsEXswKv6"
   },
   "outputs": [],
   "source": []
  },
  {
   "cell_type": "markdown",
   "metadata": {
    "id": "_T9NJz7GyhAA"
   },
   "source": [
    "Now train the deep learning model now that the text is in an appropriate format"
   ]
  },
  {
   "cell_type": "code",
   "execution_count": null,
   "metadata": {
    "id": "to55XuQWwK0N"
   },
   "outputs": [],
   "source": [
    "##store headlines and labels in respective lists\n",
    "text = list(data2['text'])\n",
    "labels = list(data2['labels'])\n",
    "\n",
    "\n",
    "\n",
    "\n",
    "\n",
    "total_samples = len(text)\n",
    "train_samples = int(total_samples * 0.75) #75% for training\n",
    "test_samples = total_samples - train_samples #25% testing\n",
    "\n",
    "#training and testing sets\n",
    "training_text = text[:train_samples]\n",
    "testing_text = text[train_samples:]\n",
    "training_labels = labels[:train_samples]\n",
    "testing_labels = labels[train_samples:]"
   ]
  },
  {
   "cell_type": "code",
   "execution_count": null,
   "metadata": {
    "id": "2YixHHR0wK4L"
   },
   "outputs": [],
   "source": [
    "#preprocess\n",
    "tokenizer = Tokenizer(num_words=10000, oov_token= \"<OOV>\")\n",
    "tokenizer.fit_on_texts(training_text)\n",
    "word_index = tokenizer.word_index\n",
    "training_sequences = tokenizer.texts_to_sequences(training_text)\n",
    "training_padded = pad_sequences(training_sequences, maxlen=120, padding='post', truncating='post')\n",
    "testing_sequences = tokenizer.texts_to_sequences(testing_text)\n",
    "testing_padded = pad_sequences(testing_sequences, maxlen=120, padding='post', truncating='post')\n",
    "# convert lists into numpy arrays to make it work with TensorFlow\n",
    "training_padded = np.array(training_padded)\n",
    "training_labels = np.array(training_labels)\n",
    "testing_padded = np.array(testing_padded)\n",
    "testing_labels = np.array(testing_labels)"
   ]
  },
  {
   "cell_type": "code",
   "execution_count": null,
   "metadata": {
    "id": "Z9yYc7nFwLDw"
   },
   "outputs": [],
   "source": [
    "import keras\n",
    "from keras import layers"
   ]
  },
  {
   "cell_type": "code",
   "execution_count": null,
   "metadata": {
    "colab": {
     "base_uri": "https://localhost:8080/"
    },
    "id": "F_zEFpBKwK8D",
    "outputId": "4d504cb1-9de6-4380-e944-0e0f4946caa2"
   },
   "outputs": [],
   "source": [
    "model = keras.Sequential([\n",
    "    keras.layers.Embedding(10000, 16, input_length=120),\n",
    "    keras.layers.GlobalAveragePooling1D(),\n",
    "    keras.layers.Dense(24, activation='relu'),\n",
    "    keras.layers.Dense(1, activation='sigmoid')\n",
    "])\n",
    "##compile the model\n",
    "model.compile(loss='binary_crossentropy',optimizer='adam',metrics=['accuracy'])\n",
    "\n",
    "model.summary()"
   ]
  },
  {
   "cell_type": "code",
   "execution_count": null,
   "metadata": {
    "colab": {
     "base_uri": "https://localhost:8080/"
    },
    "id": "BRDH9LbTwLIV",
    "outputId": "3bee96b9-6338-42d7-a9e5-fbfc367afd71"
   },
   "outputs": [],
   "source": [
    "num_epochs = 10\n",
    "history = model.fit(training_padded,\n",
    "                    training_labels,\n",
    "                    epochs=num_epochs,\n",
    "                    validation_data=(testing_padded, testing_labels),\n",
    "                    verbose=2)"
   ]
  },
  {
   "cell_type": "code",
   "execution_count": null,
   "metadata": {
    "colab": {
     "base_uri": "https://localhost:8080/"
    },
    "id": "bk7bFjydwLMK",
    "outputId": "4513cd4e-3650-43d3-aa50-e72cc95a3bd5"
   },
   "outputs": [],
   "source": [
    "\n",
    "#test on new headline\n",
    "new_headline = [\"Chargers' Jim Harbaugh calls J.J. McCarthy best QB in NFL draft\"]\n",
    "sequences = tokenizer.texts_to_sequences(new_headline)\n",
    "padded_seqs = pad_sequences(sequences, maxlen=120, padding='post', truncating='post')\n",
    "print(model.predict(padded_seqs, verbose=0 ))"
   ]
  },
  {
   "cell_type": "code",
   "execution_count": null,
   "metadata": {
    "colab": {
     "base_uri": "https://localhost:8080/",
     "height": 362
    },
    "id": "TTUrgHD-wLSp",
    "outputId": "c23eaf88-6385-4f39-a4dc-b5ba1b2bd575"
   },
   "outputs": [],
   "source": []
  },
  {
   "cell_type": "markdown",
   "metadata": {
    "colab": {
     "base_uri": "https://localhost:8080/",
     "height": 321
    },
    "id": "wYvWuVzswLXD",
    "outputId": "703a0bbf-365f-4744-d1d2-5c5889195797"
   },
   "source": [
    "# Adding weekly sentiment score to each game in the odds/game database\n",
    "\n",
    "## (this part is in R)"
   ]
  },
  {
   "cell_type": "code",
   "execution_count": 2,
   "metadata": {},
   "outputs": [
    {
     "ename": "SyntaxError",
     "evalue": "invalid syntax (3632415048.py, line 19)",
     "output_type": "error",
     "traceback": [
      "\u001b[0;36m  Cell \u001b[0;32mIn[2], line 19\u001b[0;36m\u001b[0m\n\u001b[0;31m    df4 <- df4[, selected_columns]\u001b[0m\n\u001b[0m               ^\u001b[0m\n\u001b[0;31mSyntaxError\u001b[0m\u001b[0;31m:\u001b[0m invalid syntax\n"
     ]
    }
   ],
   "source": [
    "# install.packages('readxl')\n",
    "library(readxl)\n",
    "library(dplyr)\n",
    "library(lubridate)\n",
    "\n",
    "\n",
    "#load first odds/game dataset\n",
    "df4 <- read_excel('/content/nfl (2).xlsx')\n",
    "\n",
    "#load second odds/game dataset\n",
    "df3 <-read.csv('/content/NFL_Odds_Data_2017-2022.csv')\n",
    "\n",
    "df2 <-read.csv('/content/df_scored_9.csv')\n",
    "\n",
    "head(df2)\n",
    "\n",
    "#select columns of interest\n",
    "selected_columns <- c(\"Date\", \"Home Team\", \"Away Team\", \"Home Odds Close\", \"Home Odds Open\", \"Away Odds Open\", \"Away Odds Close\", \"Home Score\", \"Away Score\")\n",
    "df4 <- df4[, selected_columns]\n",
    "\n",
    "#rename\n",
    "names(df4) <- c(\"Date\", \"Home_Team\", \"Away_Team\", \"Home_Odds_Close\", \"Home_Odds_Open\", \"Away_Odds_Open\", \"Away_Odds_Close\", \"Home_Score\", \"Away_Score\")\n",
    "\n",
    "\n",
    "#set date range\n",
    "start_date <- as.Date(\"2017-09-01\")\n",
    "end_date <- as.Date(\"2022-02-20\")\n",
    "\n",
    "#edit df4 to fit date range\n",
    "df4 <- df4[df4$Date >= start_date & df4$Date <= end_date, ]\n",
    "\n",
    "#convert to date format\n",
    "df3$Date <- as.POSIXct(df3$Date, format = \"%Y-%m-%d\")"
   ]
  },
  {
   "cell_type": "code",
   "execution_count": null,
   "metadata": {},
   "outputs": [],
   "source": [
    "#load first odds/game dataset\n",
    "df4 <- read_excel('/content/nfl (2).xlsx')"
   ]
  },
  {
   "cell_type": "code",
   "execution_count": null,
   "metadata": {},
   "outputs": [],
   "source": [
    "#select columns of interest\n",
    "selected_columns <- c(\"Date\", \"Home Team\", \"Away Team\", \"Home Odds Close\", \"Home Odds Open\", \"Away Odds Open\", \"Away Odds Close\", \"Home Score\", \"Away Score\")\n",
    "df4 <- df4[, selected_columns]\n",
    "\n",
    "#rename\n",
    "names(df4) <- c(\"Date\", \"Home_Team\", \"Away_Team\", \"Home_Odds_Close\", \"Home_Odds_Open\", \"Away_Odds_Open\", \"Away_Odds_Close\", \"Home_Score\", \"Away_Score\")\n",
    "\n"
   ]
  },
  {
   "cell_type": "code",
   "execution_count": null,
   "metadata": {},
   "outputs": [],
   "source": [
    "# Create a new column \"winner\"\n",
    "df4$winner <- ifelse(df4$Home_Score > df4$Away_Score, df4$Home_Team,\n",
    "                    ifelse(df4$Away_Score > df4$Home_Score, df4$Away_Team, \"Tie\"))\n",
    "\n"
   ]
  },
  {
   "cell_type": "code",
   "execution_count": null,
   "metadata": {},
   "outputs": [],
   "source": [
    "# Function to count wins and losses for a team among the last 8 games\n",
    "count_wins_losses <- function(team, game_date) {\n",
    "  # Subset the dataframe for the last 8 games where the team is either the home or away team\n",
    "  recent_games <- df4[(df4$Home_Team == team | df4$Away_Team == team) & df4$Date < game_date, ]\n",
    "  recent_games <- recent_games[order(recent_games$Date, decreasing = TRUE), ]  # Order by Date descending\n",
    "\n",
    "  # Select the most recent 8 games or all available games if fewer than 8\n",
    "  recent_games <- head(recent_games, 8)\n",
    "\n",
    "  # Count the number of wins and losses for the team among the selected games\n",
    "  wins <- sum(recent_games$winner == team, na.rm = TRUE)\n",
    "  losses <- sum(recent_games$winner != team & !is.na(recent_games$winner), na.rm = TRUE)\n",
    "\n",
    "  return(c(wins, losses))\n",
    "}\n",
    "\n",
    "df4$Home_Wins_Last_8 <- apply(df4, 1, function(x) count_wins_losses(x[\"Home_Team\"], x[\"Date\"])[1])\n",
    "df4$Home_Losses_Last_8 <- apply(df4, 1, function(x) count_wins_losses(x[\"Home_Team\"], x[\"Date\"])[2])\n",
    "\n",
    "\n",
    "\n",
    "df4$Away_Wins_Last_8 <- apply(df4, 1, function(x) count_wins_losses(x[\"Away_Team\"], x[\"Date\"])[1])\n",
    "df4$Away_Losses_Last_8 <- apply(df4, 1, function(x) count_wins_losses(x[\"Away_Team\"], x[\"Date\"])[2])\n",
    "\n",
    "\n"
   ]
  },
  {
   "cell_type": "code",
   "execution_count": null,
   "metadata": {},
   "outputs": [],
   "source": [
    "#select columns of interest\n",
    "selected_columns <- c(\"Date\", \"Home_Team\", \"Away_Team\", \"Home_Odds_Close\", \"Home_Odds_Open\", \"Away_Odds_Open\", \"Away_Odds_Close\", \"Home_Score\", \"Away_Score\",\"winner\",\"Home_Wins_Last_8\",\"Home_Losses_Last_8\",\"Away_Wins_Last_8\",\"Away_Losses_Last_8\")\n",
    "df4 <- df4[, selected_columns]\n",
    "\n",
    "#rename\n",
    "names(df4) <- c(\"Date\", \"Home_Team\", \"Away_Team\", \"Home_Odds_Close\", \"Home_Odds_Open\", \"Away_Odds_Open\", \"Away_Odds_Close\", \"Home_Score\", \"Away_Score\",\"winner\",\"Home_Wins_Last_8\",\"Home_Losses_Last_8\",\"Away_Wins_Last_8\",\"Away_Losses_Last_8\")\n",
    "\n",
    "\n",
    "#edit df4 to fit date range\n",
    "df4 <- df4[df4$Date >= start_date & df4$Date <= end_date, ]"
   ]
  },
  {
   "cell_type": "code",
   "execution_count": null,
   "metadata": {},
   "outputs": [],
   "source": [
    "# dictionary to standardize team names\n",
    "\n",
    "nfl_teams <- c(\n",
    "  \"Arizona Cardinals\" = c(\"Cardinals\", \"Arizona\", \"Redbirds\", \"arizona\", \"Cards\", \"AZ\", \"ARI\", \"Cardinal\"),\n",
    "  \"Atlanta Falcons\" = c(\"Falcons\", \"Atlanta\", \"Falcs\", \" ATL\", \"Dirty Birds\", \"Falcon\"),\n",
    "  \"Baltimore Ravens\" = c(\"Ravens\", \"Baltimore\", \"BAL\", \"Flock\", \"Raven\"),\n",
    "  \"Buffalo Bills\" = c(\"Bills\", \"Buffalo\", \"Mafia\", \"BUF\", \"BUFFS\", \"Bill\"),\n",
    "  \"Carolina Panthers\" = c(\"Panthers\", \"Carolina\", \"Cats\", \"CAR\", \"Panthers\"),\n",
    "  \"Chicago Bears\" = c(\"Bears\", \"Chicago\", \"CHI\", \"Bear\", \"Midway\"),\n",
    "  \"Cincinnati Bengals\" = c(\"Bengals\", \"Cincinnati\", \"Bungles\", \"Bengal\", \"Stripes\", \"Tiger\"),\n",
    "  \"Cleveland Browns\" = c(\"Browns\", \"Cleveland\", \"Brown\", \"Dawgs\", \"Dawg\", \"CLE\"),\n",
    "  \"Dallas Cowboys\" = c(\"Cowboys\", \"Dallas\", \"DAL\", \"America's Team\", \"Dem Boy\"),\n",
    "  \"Denver Broncos\" = c(\"Broncos\", \"Denver\", \"Orange Crush\", \"DEN\"),\n",
    "  \"Detroit Lions\" = c(\"Lions\", \"Detroit\", \"Motor City\", \"Kitties\", \"DET\"),\n",
    "  \"Green Bay Packers\" = c(\"Packers\", \"Green Bay\", \"GB\", \"Pack\", \"Cheeseheads\", \"Cheese Heads\", \"Packer\",\"GreenBay\"),\n",
    "  \"Houston Texans\" = c(\"Texans\", \"Houston\", \"Hou\", \"H-Town\", \"Texan\"),\n",
    "  \"Indianapolis Colts\" = c(\"Colts\", \"Indianapolis\", \"IND\", \"Colt\"),\n",
    "  \"Jacksonville Jaguars\" = c(\"Jaguars\", \"Jacksonville\", \"JAX\", \"Jags\", \"Jaguar\", \"Jag\"),\n",
    "  \"Kansas City Chiefs\" = c(\"Chiefs\", \"Kansas City\", \"KC\", \"Chief\", \"Kansas\",\"KansasCity\",\"KCChiefs\"),\n",
    "  \"Los Angeles Chargers\" = c(\"Chargers\", \"LA Chargers\", \"Charger\", \"LAC\", \"SD\", \"San Diego\", \"Bolts\",\"LAChargers\"),\n",
    "  \"Las Vegas Raiders\" = c(\"Raiders\", \"Las Vegas\", \"LV\", \"Oakland\", \"OAK\", \"Silver and Black\", \"Raider\",\"LasVegas\",\"LVRaiders\"),\n",
    "  \"Los Angeles Rams\" = c(\"Rams\", \"LA Rams\", \"LAR\", \"St. Louis\", \"STL\", \"LAR\", \"Saint Louis\", \"Ram\",\"LARams\"),\n",
    "  \"Miami Dolphins\" = c(\"Dolphins\", \"Miami\", \"MIA\", \"Dolphin\", \"Fins\"),\n",
    "  \"Minnesota Vikings\" = c(\"Vikings\", \"Minnesota\", \"Purple\", \"MIN\", \"Vikes\", \"Viking\"),\n",
    "  \"New England Patriots\" = c(\"Patriots\", \"New England\", \"Pats\", \"NE\", \"Patriot\", \"NewEngland\"),\n",
    "  \"New Orleans Saints\" = c(\"Saints\", \"New Orleans\", \"NO\", \"Saint\",\"NewOrleans\"),\n",
    "  \"New York Giants\" = c(\"Giants\", \"NY Giants\", \"NYG\", \"Giant\", \"G-Men\",\"NYGiants\"),\n",
    "  \"New York Jets\" = c(\"Jets\", \"NY Jets\", \"NYJ\", \"Jet\", \"NYJets\"),\n",
    "  \"Philadelphia Eagles\" = c(\"Eagles\", \"Philadelphia\", \"Philly\", \"Birds\", \"PHI\", \"Eagle\"),\n",
    "  \"Pittsburgh Steelers\" = c(\"Steelers\", \"Pittsburgh\", \"PIT\", \"Black and Gold\", \"Steeler\"),\n",
    "  \"San Francisco 49ers\" = c(\"49ers\", \"San Francisco\", \"9ers\", \"Niners\", \"SF\", \"Niner\",\"SanFrancisco\"),\n",
    "  \"Seattle Seahawks\" = c(\"Seahawks\", \"Seattle\", \"Legion of Boom\", \"SEA\", \"Seahawk\"),\n",
    "  \"Tampa Bay Buccaneers\" = c(\"Buccaneers\", \"Tampa Bay\", \"TB\", \"Bucs\", \"Tampa\", \"Buccaneer\",\"TampaBay\"),\n",
    "  \"Tennessee Titans\" = c(\"Titans\", \"Tennessee\", \"Music City\", \"Titan\", \"TEN\"),\n",
    "  \"Washington Football Team\" = c(\"Washington\", \"Football Team\", \"Redskins\", \"Skins\", \"Washington Football Team\", \"WFT\", \"Commanders\", \"Commies\",\"Washingtom\")\n",
    ")\n",
    "\n",
    "\n",
    "# Function to replace team names\n",
    "replace_team <- function(team_name) {\n",
    "  for (team in names(nfl_teams)) {\n",
    "    if (team_name %in% nfl_teams[[team]]) {\n",
    "      return(team)\n",
    "    }\n",
    "  }\n",
    "  return(team_name)  # Return original name if no match found\n",
    "}\n",
    "\n",
    "\n",
    "\n"
   ]
  },
  {
   "cell_type": "code",
   "execution_count": null,
   "metadata": {},
   "outputs": [],
   "source": [
    "\n",
    "df3$Visitor <- sapply(df3$Visitor, replace_team)\n",
    "df3$Home <- sapply(df3$Home, replace_team)\n"
   ]
  },
  {
   "cell_type": "code",
   "execution_count": null,
   "metadata": {},
   "outputs": [],
   "source": [
    "remove_numbers <- function(team_name) {\n",
    "  # Use regular expression to remove numbers at the end of the team names\n",
    "  clean_name <- gsub(\"\\\\d+$\", \"\", team_name)\n",
    "  return(clean_name)\n",
    "}\n",
    "\n",
    "df3$Visitor <-remove_numbers(df3$Visitor)\n",
    "df3$Home <-remove_numbers(df3$Home)\n",
    "\n",
    "df3$Date <- as.POSIXct(df3$Date, format = \"%Y-%m-%d\")\n",
    "head(df3)"
   ]
  },
  {
   "cell_type": "code",
   "execution_count": null,
   "metadata": {},
   "outputs": [],
   "source": [
    "#check to make sure the 32 teams are present only under one name each\n",
    "\n",
    "unique_home_values <- unique(df3$Home)\n",
    "print(unique_home_values)"
   ]
  },
  {
   "cell_type": "code",
   "execution_count": null,
   "metadata": {},
   "outputs": [],
   "source": [
    "#select columns of interest\n",
    "selected_columns <- c(\"Date\", \"Away_final_score\", \"Home_final_score\", \"Visitor\", \"Home\", \"Moneyline_away\", \"Moneyline_home\")\n",
    "df3 <- df3[, selected_columns]"
   ]
  },
  {
   "cell_type": "code",
   "execution_count": null,
   "metadata": {},
   "outputs": [],
   "source": [
    "#merge the two odds dataframes\n",
    "merged_df <- merge(df4, df3, by.x = c(\"Date\", \"Home_Team\", \"Away_Team\"), by.y = c(\"Date\", \"Home\", \"Visitor\"), all.x = TRUE)\n"
   ]
  },
  {
   "cell_type": "code",
   "execution_count": null,
   "metadata": {},
   "outputs": [],
   "source": [
    "#standardize ml odds to one format (decimal)\n",
    "\n",
    "american_to_decimal <- function(moneyline) {\n",
    "  decimal_odds <- ifelse(moneyline > 0, (moneyline / 100) + 1, (100 / abs(moneyline)) + 1)\n",
    "  return(decimal_odds)\n",
    "}\n",
    "temp_scores <- merged_df$Moneyline_away\n",
    "\n",
    "merged_df$Moneyline_away <- merged_df$Moneyline_home\n",
    "merged_df$Moneyline_home <- temp_scores\n",
    "\n",
    "#calculate an average ml value\n",
    "merged_df$Decimal_Odds_Away <- american_to_decimal(merged_df$Moneyline_away)\n",
    "merged_df$Decimal_Odds_Home <- american_to_decimal(merged_df$Moneyline_home)\n",
    "\n",
    "merged_df$Home_ML_AVG <- (merged_df$Home_Odds_Close + merged_df$Decimal_Odds_Home) / 2\n",
    "merged_df$Away_ML_AVG <- (merged_df$Away_Odds_Close + merged_df$Decimal_Odds_Away) / 2\n"
   ]
  },
  {
   "cell_type": "code",
   "execution_count": null,
   "metadata": {},
   "outputs": [],
   "source": [
    "merged_df$Difference <- merged_df$Home_Odds_Close - merged_df$Decimal_Odds_Home\n",
    "\n",
    "# Create a line plot for the difference between two odds sources\n",
    "ggplot(merged_df, aes(x = 1:nrow(merged_df), y = Difference)) +\n",
    "  geom_line(color = \"blue\") +\n",
    "  labs(x = \"Index\", y = \"Difference (Home_Odds_Close - Decimal_Odds_Home)\") +\n",
    "  theme_minimal()"
   ]
  },
  {
   "cell_type": "code",
   "execution_count": null,
   "metadata": {},
   "outputs": [],
   "source": []
  },
  {
   "cell_type": "code",
   "execution_count": null,
   "metadata": {},
   "outputs": [],
   "source": []
  },
  {
   "cell_type": "code",
   "execution_count": null,
   "metadata": {},
   "outputs": [],
   "source": []
  },
  {
   "cell_type": "code",
   "execution_count": null,
   "metadata": {
    "colab": {
     "base_uri": "https://localhost:8080/",
     "height": 362
    },
    "id": "xTCWxWXdwLbf",
    "outputId": "5b8a258a-43f3-40a9-8729-b446aa59c49e"
   },
   "outputs": [],
   "source": [
    "\n",
    "#some outliers seem too big to not be errors so default to the dataset that seems more accurate that we didn't have to completely reformat in those cases.\n",
    "\n",
    "# Calculate the difference between Home_Odds_Close and Decimal_Odds_Home\n",
    "merged_df$Difference <- abs(merged_df$Home_Odds_Close - merged_df$Decimal_Odds_Home)\n",
    "\n",
    "# Update Home_ML_AVG based on the condition\n",
    "merged_df$Home_ML_AVG <- ifelse(merged_df$Difference > 1.5, merged_df$Home_Odds_Close, merged_df$Home_ML_AVG)\n",
    "\n",
    "# Calculate the difference between Away_Odds_Close and Decimal_Odds_Away\n",
    "merged_df$DifferenceA <- abs(merged_df$Away_Odds_Close - merged_df$Decimal_Odds_Away)\n",
    "\n",
    "# Update Away_ML_AVG based on the condition\n",
    "merged_df$Away_ML_AVG <- ifelse(merged_df$DifferenceA > 1.5, merged_df$Away_Odds_Close, merged_df$Away_ML_AVG)\n",
    "\n",
    "# Replace NA values in Home_ML_AVG and Away_ML_AVG with respective odds close values\n",
    "merged_df$Away_ML_AVG[is.na(merged_df$Away_ML_AVG)] <- merged_df$Away_Odds_Close[is.na(merged_df$Away_ML_AVG)]\n",
    "merged_df$Home_ML_AVG[is.na(merged_df$Home_ML_AVG)] <- merged_df$Home_Odds_Close[is.na(merged_df$Home_ML_AVG)]\n",
    "\n",
    "\n"
   ]
  },
  {
   "cell_type": "code",
   "execution_count": 3,
   "metadata": {},
   "outputs": [
    {
     "ename": "SyntaxError",
     "evalue": "invalid syntax (2183194485.py, line 6)",
     "output_type": "error",
     "traceback": [
      "\u001b[0;36m  Cell \u001b[0;32mIn[3], line 6\u001b[0;36m\u001b[0m\n\u001b[0;31m    merged_df$Difference_Home <- merged_df$Home_Odds_Close - merged_df$Home_ML_AVG\u001b[0m\n\u001b[0m             ^\u001b[0m\n\u001b[0;31mSyntaxError\u001b[0m\u001b[0;31m:\u001b[0m invalid syntax\n"
     ]
    }
   ],
   "source": [
    "library(ggplot2)\n",
    "\n",
    "\n",
    "\n",
    "# Calculate and plot the difference between Home_Odds_Close and Home_ML_AVG to see if the average makes sense\n",
    "merged_df$Difference_Home <- merged_df$Home_Odds_Close - merged_df$Home_ML_AVG\n",
    "\n",
    "ggplot(merged_df, aes(x = 1:nrow(merged_df), y = Difference_Home)) +\n",
    "  geom_line(color = \"blue\") +\n",
    "  labs(x = \"Index\", y = \"Difference (Home_Odds_Close - Home_ML_AVG)\") +\n",
    "  theme_minimal()"
   ]
  },
  {
   "cell_type": "code",
   "execution_count": null,
   "metadata": {},
   "outputs": [],
   "source": [
    "# #condense the data down to just the variables we need\n",
    "\n",
    "condensed_df <- merged_df[, c(\"Date\", \"Home_Team\", \"Away_Team\", \"Home_Score\", \"Away_Score\",'winner','Home_Wins_Last_8','Home_Losses_Last_8','Away_Wins_Last_8','Away_Losses_Last_8', \"Home_ML_AVG\", \"Away_ML_AVG\")]\n",
    "\n",
    "\n",
    "\n",
    "\n",
    "\n",
    "head(condensed_df)"
   ]
  },
  {
   "cell_type": "code",
   "execution_count": null,
   "metadata": {},
   "outputs": [],
   "source": []
  },
  {
   "cell_type": "markdown",
   "metadata": {},
   "source": [
    "# Adding the sentiment score to the new odds dataframe"
   ]
  },
  {
   "cell_type": "code",
   "execution_count": null,
   "metadata": {
    "id": "kVDIYd4AwLgn"
   },
   "outputs": [],
   "source": [
    "# Step 1: Calculate the date range for the past week\n",
    "date_range <- function(date) {\n",
    "  start_date <- as.Date(date) - 7\n",
    "  end_date <- as.Date(date)\n",
    "  return(list(start_date, end_date))\n",
    "}\n",
    "\n",
    "# Step 2: Function to calculate sentiment_past_week\n",
    "calculate_sentiment <- function(team, date, df2) {\n",
    "  date_range <- date_range(date)\n",
    "  start_date <- date_range[[1]]\n",
    "  end_date <- date_range[[2]]\n",
    "  sentiment <- sum(df2$total_score[df2$team == team & df2$archiveDate >= start_date & df2$archiveDate <= end_date], na.rm = TRUE)\n",
    "  return(sentiment)\n",
    "}"
   ]
  },
  {
   "cell_type": "code",
   "execution_count": null,
   "metadata": {
    "colab": {
     "base_uri": "https://localhost:8080/",
     "height": 362
    },
    "id": "RATxVNCjwLoc",
    "outputId": "1e93f20f-7d53-450d-b652-693656de12a3"
   },
   "outputs": [],
   "source": [
    "# Step 3: Apply the function to each row in\n",
    "condensed_df$sentiment_past_week_away <- mapply(calculate_sentiment, condensed_df$Away_Team, condensed_df$Date, list(df2))\n",
    "condensed_df$sentiment_past_week_home <- mapply(calculate_sentiment, condensed_df$Home_Team, condensed_df$Date, list(df2))"
   ]
  },
  {
   "cell_type": "code",
   "execution_count": null,
   "metadata": {
    "id": "OY55Z9h5wLz3"
   },
   "outputs": [],
   "source": [
    "\n",
    "# sort by date descending, also swap home and away for continuity\n",
    "condensed_df <- condensed_df[order(condensed_df$Date, decreasing = TRUE), ]\n",
    "\n",
    "col_names <- colnames(condensed_df)\n",
    "\n",
    "index_away <- which(col_names == \"sentiment_past_week_away\")\n",
    "index_home <- which(col_names == \"sentiment_past_week_home\")\n",
    "\n",
    "col_names[index_away] <- \"sentiment_past_week_home\"\n",
    "col_names[index_home] <- \"sentiment_past_week_away\"\n",
    "\n",
    "condensed_df <- condensed_df[, col_names]\n",
    "\n",
    "\n",
    "\n",
    "head(condensed_df,n=100 )"
   ]
  },
  {
   "cell_type": "code",
   "execution_count": null,
   "metadata": {
    "colab": {
     "base_uri": "https://localhost:8080/",
     "height": 362
    },
    "id": "tps7lDowwL4_",
    "outputId": "09724a58-e165-4185-ca95-b2c87e74e76d"
   },
   "outputs": [],
   "source": [
    "library(dplyr)\n",
    "\n",
    "# Remove rows where all columns are NA or 0\n",
    "condensed_df <- condensed_df %>%\n",
    "  filter(rowSums(is.na(.) | . == 0, na.rm = TRUE) < ncol(.))"
   ]
  },
  {
   "cell_type": "code",
   "execution_count": null,
   "metadata": {
    "id": "KjxRjpnHwL_H"
   },
   "outputs": [],
   "source": [
    "head(condensed_df)"
   ]
  },
  {
   "cell_type": "code",
   "execution_count": null,
   "metadata": {
    "id": "OwqJso4XwMEW"
   },
   "outputs": [],
   "source": []
  },
  {
   "cell_type": "code",
   "execution_count": null,
   "metadata": {},
   "outputs": [],
   "source": []
  },
  {
   "cell_type": "code",
   "execution_count": 8,
   "metadata": {
    "id": "Iy4Hn5aHwLsV"
   },
   "outputs": [],
   "source": [
    "import numpy as np\n",
    "import pandas as pd\n",
    "\n",
    "import matplotlib.pyplot as plt\n",
    "import seaborn as sns\n",
    "\n",
    "from sklearn.linear_model import LinearRegression\n",
    "from sklearn.model_selection import train_test_split\n",
    "\n",
    "from sklearn.ensemble import RandomForestRegressor\n",
    "from sklearn.metrics import r2_score\n"
   ]
  },
  {
   "cell_type": "code",
   "execution_count": 14,
   "metadata": {
    "id": "Gg4866JSwMPy"
   },
   "outputs": [],
   "source": [
    "overall = pd.read_csv('condensed_df_sentiment2.csv')"
   ]
  },
  {
   "cell_type": "code",
   "execution_count": 15,
   "metadata": {
    "id": "Prll6ztVwMVI"
   },
   "outputs": [
    {
     "data": {
      "text/html": [
       "<div>\n",
       "<style scoped>\n",
       "    .dataframe tbody tr th:only-of-type {\n",
       "        vertical-align: middle;\n",
       "    }\n",
       "\n",
       "    .dataframe tbody tr th {\n",
       "        vertical-align: top;\n",
       "    }\n",
       "\n",
       "    .dataframe thead th {\n",
       "        text-align: right;\n",
       "    }\n",
       "</style>\n",
       "<table border=\"1\" class=\"dataframe\">\n",
       "  <thead>\n",
       "    <tr style=\"text-align: right;\">\n",
       "      <th></th>\n",
       "      <th>Unnamed: 0</th>\n",
       "      <th>Date</th>\n",
       "      <th>Home_Team</th>\n",
       "      <th>Away_Team</th>\n",
       "      <th>Home_Score</th>\n",
       "      <th>Away_Score</th>\n",
       "      <th>winner</th>\n",
       "      <th>Home_Wins_Last_8</th>\n",
       "      <th>Home_Losses_Last_8</th>\n",
       "      <th>Away_Wins_Last_8</th>\n",
       "      <th>Away_Losses_Last_8</th>\n",
       "      <th>Home_ML_AVG</th>\n",
       "      <th>Away_ML_AVG</th>\n",
       "      <th>sentiment_past_week_home</th>\n",
       "      <th>sentiment_past_week_away</th>\n",
       "    </tr>\n",
       "  </thead>\n",
       "  <tbody>\n",
       "    <tr>\n",
       "      <th>0</th>\n",
       "      <td>1</td>\n",
       "      <td>2022-02-13</td>\n",
       "      <td>Cincinnati Bengals</td>\n",
       "      <td>Los Angeles Rams</td>\n",
       "      <td>20</td>\n",
       "      <td>23</td>\n",
       "      <td>Los Angeles Rams</td>\n",
       "      <td>6</td>\n",
       "      <td>2</td>\n",
       "      <td>7</td>\n",
       "      <td>1</td>\n",
       "      <td>2.800000</td>\n",
       "      <td>1.450000</td>\n",
       "      <td>1.233828</td>\n",
       "      <td>0.075111</td>\n",
       "    </tr>\n",
       "    <tr>\n",
       "      <th>1</th>\n",
       "      <td>2</td>\n",
       "      <td>2022-01-30</td>\n",
       "      <td>Kansas City Chiefs</td>\n",
       "      <td>Cincinnati Bengals</td>\n",
       "      <td>24</td>\n",
       "      <td>27</td>\n",
       "      <td>Cincinnati Bengals</td>\n",
       "      <td>7</td>\n",
       "      <td>1</td>\n",
       "      <td>5</td>\n",
       "      <td>3</td>\n",
       "      <td>1.306290</td>\n",
       "      <td>3.700000</td>\n",
       "      <td>-0.640934</td>\n",
       "      <td>0.727999</td>\n",
       "    </tr>\n",
       "    <tr>\n",
       "      <th>2</th>\n",
       "      <td>3</td>\n",
       "      <td>2022-01-30</td>\n",
       "      <td>Los Angeles Rams</td>\n",
       "      <td>San Francisco 49ers</td>\n",
       "      <td>20</td>\n",
       "      <td>17</td>\n",
       "      <td>Los Angeles Rams</td>\n",
       "      <td>7</td>\n",
       "      <td>1</td>\n",
       "      <td>6</td>\n",
       "      <td>2</td>\n",
       "      <td>1.562778</td>\n",
       "      <td>2.625000</td>\n",
       "      <td>0.939055</td>\n",
       "      <td>1.002302</td>\n",
       "    </tr>\n",
       "    <tr>\n",
       "      <th>3</th>\n",
       "      <td>4</td>\n",
       "      <td>2022-01-23</td>\n",
       "      <td>Kansas City Chiefs</td>\n",
       "      <td>Buffalo Bills</td>\n",
       "      <td>42</td>\n",
       "      <td>36</td>\n",
       "      <td>Kansas City Chiefs</td>\n",
       "      <td>7</td>\n",
       "      <td>1</td>\n",
       "      <td>6</td>\n",
       "      <td>2</td>\n",
       "      <td>1.740370</td>\n",
       "      <td>2.150000</td>\n",
       "      <td>-0.836742</td>\n",
       "      <td>0.862375</td>\n",
       "    </tr>\n",
       "    <tr>\n",
       "      <th>4</th>\n",
       "      <td>5</td>\n",
       "      <td>2022-01-23</td>\n",
       "      <td>Tampa Bay Buccaneers</td>\n",
       "      <td>Los Angeles Rams</td>\n",
       "      <td>27</td>\n",
       "      <td>30</td>\n",
       "      <td>Los Angeles Rams</td>\n",
       "      <td>7</td>\n",
       "      <td>1</td>\n",
       "      <td>6</td>\n",
       "      <td>2</td>\n",
       "      <td>1.663333</td>\n",
       "      <td>2.300000</td>\n",
       "      <td>0.452804</td>\n",
       "      <td>0.987093</td>\n",
       "    </tr>\n",
       "    <tr>\n",
       "      <th>...</th>\n",
       "      <td>...</td>\n",
       "      <td>...</td>\n",
       "      <td>...</td>\n",
       "      <td>...</td>\n",
       "      <td>...</td>\n",
       "      <td>...</td>\n",
       "      <td>...</td>\n",
       "      <td>...</td>\n",
       "      <td>...</td>\n",
       "      <td>...</td>\n",
       "      <td>...</td>\n",
       "      <td>...</td>\n",
       "      <td>...</td>\n",
       "      <td>...</td>\n",
       "      <td>...</td>\n",
       "    </tr>\n",
       "    <tr>\n",
       "      <th>1350</th>\n",
       "      <td>1351</td>\n",
       "      <td>2017-09-10</td>\n",
       "      <td>Los Angeles Rams</td>\n",
       "      <td>Indianapolis Colts</td>\n",
       "      <td>46</td>\n",
       "      <td>9</td>\n",
       "      <td>Los Angeles Rams</td>\n",
       "      <td>1</td>\n",
       "      <td>7</td>\n",
       "      <td>5</td>\n",
       "      <td>3</td>\n",
       "      <td>1.540658</td>\n",
       "      <td>2.625000</td>\n",
       "      <td>0.790335</td>\n",
       "      <td>0.000000</td>\n",
       "    </tr>\n",
       "    <tr>\n",
       "      <th>1351</th>\n",
       "      <td>1352</td>\n",
       "      <td>2017-09-10</td>\n",
       "      <td>San Francisco 49ers</td>\n",
       "      <td>Carolina Panthers</td>\n",
       "      <td>3</td>\n",
       "      <td>23</td>\n",
       "      <td>Carolina Panthers</td>\n",
       "      <td>1</td>\n",
       "      <td>7</td>\n",
       "      <td>3</td>\n",
       "      <td>5</td>\n",
       "      <td>2.835000</td>\n",
       "      <td>1.473391</td>\n",
       "      <td>0.000000</td>\n",
       "      <td>0.000000</td>\n",
       "    </tr>\n",
       "    <tr>\n",
       "      <th>1352</th>\n",
       "      <td>1353</td>\n",
       "      <td>2017-09-10</td>\n",
       "      <td>Tennessee Titans</td>\n",
       "      <td>Oakland Raiders</td>\n",
       "      <td>16</td>\n",
       "      <td>26</td>\n",
       "      <td>Oakland Raiders</td>\n",
       "      <td>5</td>\n",
       "      <td>3</td>\n",
       "      <td>5</td>\n",
       "      <td>3</td>\n",
       "      <td>1.729000</td>\n",
       "      <td>2.240000</td>\n",
       "      <td>1.630709</td>\n",
       "      <td>0.000000</td>\n",
       "    </tr>\n",
       "    <tr>\n",
       "      <th>1353</th>\n",
       "      <td>1354</td>\n",
       "      <td>2017-09-10</td>\n",
       "      <td>Washington Redskins</td>\n",
       "      <td>Philadelphia Eagles</td>\n",
       "      <td>17</td>\n",
       "      <td>30</td>\n",
       "      <td>Philadelphia Eagles</td>\n",
       "      <td>4</td>\n",
       "      <td>4</td>\n",
       "      <td>3</td>\n",
       "      <td>5</td>\n",
       "      <td>1.980000</td>\n",
       "      <td>1.925000</td>\n",
       "      <td>0.000000</td>\n",
       "      <td>0.000000</td>\n",
       "    </tr>\n",
       "    <tr>\n",
       "      <th>1354</th>\n",
       "      <td>1355</td>\n",
       "      <td>2017-09-07</td>\n",
       "      <td>New England Patriots</td>\n",
       "      <td>Kansas City Chiefs</td>\n",
       "      <td>27</td>\n",
       "      <td>42</td>\n",
       "      <td>Kansas City Chiefs</td>\n",
       "      <td>8</td>\n",
       "      <td>0</td>\n",
       "      <td>5</td>\n",
       "      <td>3</td>\n",
       "      <td>1.217167</td>\n",
       "      <td>4.745000</td>\n",
       "      <td>1.516607</td>\n",
       "      <td>0.000000</td>\n",
       "    </tr>\n",
       "  </tbody>\n",
       "</table>\n",
       "<p>1355 rows × 15 columns</p>\n",
       "</div>"
      ],
      "text/plain": [
       "      Unnamed: 0        Date             Home_Team            Away_Team  \\\n",
       "0              1  2022-02-13    Cincinnati Bengals     Los Angeles Rams   \n",
       "1              2  2022-01-30    Kansas City Chiefs   Cincinnati Bengals   \n",
       "2              3  2022-01-30      Los Angeles Rams  San Francisco 49ers   \n",
       "3              4  2022-01-23    Kansas City Chiefs        Buffalo Bills   \n",
       "4              5  2022-01-23  Tampa Bay Buccaneers     Los Angeles Rams   \n",
       "...          ...         ...                   ...                  ...   \n",
       "1350        1351  2017-09-10      Los Angeles Rams   Indianapolis Colts   \n",
       "1351        1352  2017-09-10   San Francisco 49ers    Carolina Panthers   \n",
       "1352        1353  2017-09-10      Tennessee Titans      Oakland Raiders   \n",
       "1353        1354  2017-09-10   Washington Redskins  Philadelphia Eagles   \n",
       "1354        1355  2017-09-07  New England Patriots   Kansas City Chiefs   \n",
       "\n",
       "      Home_Score  Away_Score               winner  Home_Wins_Last_8  \\\n",
       "0             20          23     Los Angeles Rams                 6   \n",
       "1             24          27   Cincinnati Bengals                 7   \n",
       "2             20          17     Los Angeles Rams                 7   \n",
       "3             42          36   Kansas City Chiefs                 7   \n",
       "4             27          30     Los Angeles Rams                 7   \n",
       "...          ...         ...                  ...               ...   \n",
       "1350          46           9     Los Angeles Rams                 1   \n",
       "1351           3          23    Carolina Panthers                 1   \n",
       "1352          16          26      Oakland Raiders                 5   \n",
       "1353          17          30  Philadelphia Eagles                 4   \n",
       "1354          27          42   Kansas City Chiefs                 8   \n",
       "\n",
       "      Home_Losses_Last_8  Away_Wins_Last_8  Away_Losses_Last_8  Home_ML_AVG  \\\n",
       "0                      2                 7                   1     2.800000   \n",
       "1                      1                 5                   3     1.306290   \n",
       "2                      1                 6                   2     1.562778   \n",
       "3                      1                 6                   2     1.740370   \n",
       "4                      1                 6                   2     1.663333   \n",
       "...                  ...               ...                 ...          ...   \n",
       "1350                   7                 5                   3     1.540658   \n",
       "1351                   7                 3                   5     2.835000   \n",
       "1352                   3                 5                   3     1.729000   \n",
       "1353                   4                 3                   5     1.980000   \n",
       "1354                   0                 5                   3     1.217167   \n",
       "\n",
       "      Away_ML_AVG  sentiment_past_week_home  sentiment_past_week_away  \n",
       "0        1.450000                  1.233828                  0.075111  \n",
       "1        3.700000                 -0.640934                  0.727999  \n",
       "2        2.625000                  0.939055                  1.002302  \n",
       "3        2.150000                 -0.836742                  0.862375  \n",
       "4        2.300000                  0.452804                  0.987093  \n",
       "...           ...                       ...                       ...  \n",
       "1350     2.625000                  0.790335                  0.000000  \n",
       "1351     1.473391                  0.000000                  0.000000  \n",
       "1352     2.240000                  1.630709                  0.000000  \n",
       "1353     1.925000                  0.000000                  0.000000  \n",
       "1354     4.745000                  1.516607                  0.000000  \n",
       "\n",
       "[1355 rows x 15 columns]"
      ]
     },
     "execution_count": 15,
     "metadata": {},
     "output_type": "execute_result"
    }
   ],
   "source": [
    "overall"
   ]
  },
  {
   "cell_type": "code",
   "execution_count": 18,
   "metadata": {
    "id": "ws90_exuwMh4"
   },
   "outputs": [
    {
     "ename": "RecursionError",
     "evalue": "maximum recursion depth exceeded while calling a Python object",
     "output_type": "error",
     "traceback": [
      "\u001b[0;31m---------------------------------------------------------------------------\u001b[0m",
      "\u001b[0;31mRecursionError\u001b[0m                            Traceback (most recent call last)",
      "Cell \u001b[0;32mIn[18], line 1\u001b[0m\n\u001b[0;32m----> 1\u001b[0m overall \u001b[38;5;241m=\u001b[39m \u001b[43moverall\u001b[49m\u001b[38;5;241;43m.\u001b[39;49m\u001b[43mreplace\u001b[49m\u001b[43m(\u001b[49m\u001b[38;5;241;43m0\u001b[39;49m\u001b[43m,\u001b[49m\u001b[43m \u001b[49m\u001b[43mpd\u001b[49m\u001b[38;5;241;43m.\u001b[39;49m\u001b[43mNA\u001b[49m\u001b[43m)\u001b[49m\u001b[38;5;241m.\u001b[39mdropna()\n\u001b[1;32m      2\u001b[0m overall\n",
      "File \u001b[0;32m~/anaconda3/lib/python3.10/site-packages/pandas/util/_decorators.py:331\u001b[0m, in \u001b[0;36mdeprecate_nonkeyword_arguments.<locals>.decorate.<locals>.wrapper\u001b[0;34m(*args, **kwargs)\u001b[0m\n\u001b[1;32m    325\u001b[0m \u001b[38;5;28;01mif\u001b[39;00m \u001b[38;5;28mlen\u001b[39m(args) \u001b[38;5;241m>\u001b[39m num_allow_args:\n\u001b[1;32m    326\u001b[0m     warnings\u001b[38;5;241m.\u001b[39mwarn(\n\u001b[1;32m    327\u001b[0m         msg\u001b[38;5;241m.\u001b[39mformat(arguments\u001b[38;5;241m=\u001b[39m_format_argument_list(allow_args)),\n\u001b[1;32m    328\u001b[0m         \u001b[38;5;167;01mFutureWarning\u001b[39;00m,\n\u001b[1;32m    329\u001b[0m         stacklevel\u001b[38;5;241m=\u001b[39mfind_stack_level(),\n\u001b[1;32m    330\u001b[0m     )\n\u001b[0;32m--> 331\u001b[0m \u001b[38;5;28;01mreturn\u001b[39;00m \u001b[43mfunc\u001b[49m\u001b[43m(\u001b[49m\u001b[38;5;241;43m*\u001b[39;49m\u001b[43margs\u001b[49m\u001b[43m,\u001b[49m\u001b[43m \u001b[49m\u001b[38;5;241;43m*\u001b[39;49m\u001b[38;5;241;43m*\u001b[39;49m\u001b[43mkwargs\u001b[49m\u001b[43m)\u001b[49m\n",
      "File \u001b[0;32m~/anaconda3/lib/python3.10/site-packages/pandas/core/frame.py:5728\u001b[0m, in \u001b[0;36mDataFrame.replace\u001b[0;34m(self, to_replace, value, inplace, limit, regex, method)\u001b[0m\n\u001b[1;32m   5715\u001b[0m \u001b[38;5;129m@deprecate_nonkeyword_arguments\u001b[39m(\n\u001b[1;32m   5716\u001b[0m     version\u001b[38;5;241m=\u001b[39m\u001b[38;5;28;01mNone\u001b[39;00m, allowed_args\u001b[38;5;241m=\u001b[39m[\u001b[38;5;124m\"\u001b[39m\u001b[38;5;124mself\u001b[39m\u001b[38;5;124m\"\u001b[39m, \u001b[38;5;124m\"\u001b[39m\u001b[38;5;124mto_replace\u001b[39m\u001b[38;5;124m\"\u001b[39m, \u001b[38;5;124m\"\u001b[39m\u001b[38;5;124mvalue\u001b[39m\u001b[38;5;124m\"\u001b[39m]\n\u001b[1;32m   5717\u001b[0m )\n\u001b[0;32m   (...)\u001b[0m\n\u001b[1;32m   5726\u001b[0m     method: Literal[\u001b[38;5;124m\"\u001b[39m\u001b[38;5;124mpad\u001b[39m\u001b[38;5;124m\"\u001b[39m, \u001b[38;5;124m\"\u001b[39m\u001b[38;5;124mffill\u001b[39m\u001b[38;5;124m\"\u001b[39m, \u001b[38;5;124m\"\u001b[39m\u001b[38;5;124mbfill\u001b[39m\u001b[38;5;124m\"\u001b[39m] \u001b[38;5;241m|\u001b[39m lib\u001b[38;5;241m.\u001b[39mNoDefault \u001b[38;5;241m=\u001b[39m lib\u001b[38;5;241m.\u001b[39mno_default,\n\u001b[1;32m   5727\u001b[0m ) \u001b[38;5;241m-\u001b[39m\u001b[38;5;241m>\u001b[39m DataFrame \u001b[38;5;241m|\u001b[39m \u001b[38;5;28;01mNone\u001b[39;00m:\n\u001b[0;32m-> 5728\u001b[0m     \u001b[38;5;28;01mreturn\u001b[39;00m \u001b[38;5;28;43msuper\u001b[39;49m\u001b[43m(\u001b[49m\u001b[43m)\u001b[49m\u001b[38;5;241;43m.\u001b[39;49m\u001b[43mreplace\u001b[49m\u001b[43m(\u001b[49m\n\u001b[1;32m   5729\u001b[0m \u001b[43m        \u001b[49m\u001b[43mto_replace\u001b[49m\u001b[38;5;241;43m=\u001b[39;49m\u001b[43mto_replace\u001b[49m\u001b[43m,\u001b[49m\n\u001b[1;32m   5730\u001b[0m \u001b[43m        \u001b[49m\u001b[43mvalue\u001b[49m\u001b[38;5;241;43m=\u001b[39;49m\u001b[43mvalue\u001b[49m\u001b[43m,\u001b[49m\n\u001b[1;32m   5731\u001b[0m \u001b[43m        \u001b[49m\u001b[43minplace\u001b[49m\u001b[38;5;241;43m=\u001b[39;49m\u001b[43minplace\u001b[49m\u001b[43m,\u001b[49m\n\u001b[1;32m   5732\u001b[0m \u001b[43m        \u001b[49m\u001b[43mlimit\u001b[49m\u001b[38;5;241;43m=\u001b[39;49m\u001b[43mlimit\u001b[49m\u001b[43m,\u001b[49m\n\u001b[1;32m   5733\u001b[0m \u001b[43m        \u001b[49m\u001b[43mregex\u001b[49m\u001b[38;5;241;43m=\u001b[39;49m\u001b[43mregex\u001b[49m\u001b[43m,\u001b[49m\n\u001b[1;32m   5734\u001b[0m \u001b[43m        \u001b[49m\u001b[43mmethod\u001b[49m\u001b[38;5;241;43m=\u001b[39;49m\u001b[43mmethod\u001b[49m\u001b[43m,\u001b[49m\n\u001b[1;32m   5735\u001b[0m \u001b[43m    \u001b[49m\u001b[43m)\u001b[49m\n",
      "File \u001b[0;32m~/anaconda3/lib/python3.10/site-packages/pandas/util/_decorators.py:331\u001b[0m, in \u001b[0;36mdeprecate_nonkeyword_arguments.<locals>.decorate.<locals>.wrapper\u001b[0;34m(*args, **kwargs)\u001b[0m\n\u001b[1;32m    325\u001b[0m \u001b[38;5;28;01mif\u001b[39;00m \u001b[38;5;28mlen\u001b[39m(args) \u001b[38;5;241m>\u001b[39m num_allow_args:\n\u001b[1;32m    326\u001b[0m     warnings\u001b[38;5;241m.\u001b[39mwarn(\n\u001b[1;32m    327\u001b[0m         msg\u001b[38;5;241m.\u001b[39mformat(arguments\u001b[38;5;241m=\u001b[39m_format_argument_list(allow_args)),\n\u001b[1;32m    328\u001b[0m         \u001b[38;5;167;01mFutureWarning\u001b[39;00m,\n\u001b[1;32m    329\u001b[0m         stacklevel\u001b[38;5;241m=\u001b[39mfind_stack_level(),\n\u001b[1;32m    330\u001b[0m     )\n\u001b[0;32m--> 331\u001b[0m \u001b[38;5;28;01mreturn\u001b[39;00m \u001b[43mfunc\u001b[49m\u001b[43m(\u001b[49m\u001b[38;5;241;43m*\u001b[39;49m\u001b[43margs\u001b[49m\u001b[43m,\u001b[49m\u001b[43m \u001b[49m\u001b[38;5;241;43m*\u001b[39;49m\u001b[38;5;241;43m*\u001b[39;49m\u001b[43mkwargs\u001b[49m\u001b[43m)\u001b[49m\n",
      "File \u001b[0;32m~/anaconda3/lib/python3.10/site-packages/pandas/core/generic.py:7280\u001b[0m, in \u001b[0;36mNDFrame.replace\u001b[0;34m(self, to_replace, value, inplace, limit, regex, method)\u001b[0m\n\u001b[1;32m   7274\u001b[0m         new_data \u001b[38;5;241m=\u001b[39m \u001b[38;5;28mself\u001b[39m\u001b[38;5;241m.\u001b[39m_mgr\u001b[38;5;241m.\u001b[39mreplace_regex(\n\u001b[1;32m   7275\u001b[0m             to_replace\u001b[38;5;241m=\u001b[39mto_replace,\n\u001b[1;32m   7276\u001b[0m             value\u001b[38;5;241m=\u001b[39mvalue,\n\u001b[1;32m   7277\u001b[0m             inplace\u001b[38;5;241m=\u001b[39minplace,\n\u001b[1;32m   7278\u001b[0m         )\n\u001b[1;32m   7279\u001b[0m     \u001b[38;5;28;01melse\u001b[39;00m:\n\u001b[0;32m-> 7280\u001b[0m         new_data \u001b[38;5;241m=\u001b[39m \u001b[38;5;28;43mself\u001b[39;49m\u001b[38;5;241;43m.\u001b[39;49m\u001b[43m_mgr\u001b[49m\u001b[38;5;241;43m.\u001b[39;49m\u001b[43mreplace\u001b[49m\u001b[43m(\u001b[49m\n\u001b[1;32m   7281\u001b[0m \u001b[43m            \u001b[49m\u001b[43mto_replace\u001b[49m\u001b[38;5;241;43m=\u001b[39;49m\u001b[43mto_replace\u001b[49m\u001b[43m,\u001b[49m\u001b[43m \u001b[49m\u001b[43mvalue\u001b[49m\u001b[38;5;241;43m=\u001b[39;49m\u001b[43mvalue\u001b[49m\u001b[43m,\u001b[49m\u001b[43m \u001b[49m\u001b[43minplace\u001b[49m\u001b[38;5;241;43m=\u001b[39;49m\u001b[43minplace\u001b[49m\n\u001b[1;32m   7282\u001b[0m \u001b[43m        \u001b[49m\u001b[43m)\u001b[49m\n\u001b[1;32m   7283\u001b[0m \u001b[38;5;28;01melse\u001b[39;00m:\n\u001b[1;32m   7284\u001b[0m     \u001b[38;5;28;01mraise\u001b[39;00m \u001b[38;5;167;01mTypeError\u001b[39;00m(\n\u001b[1;32m   7285\u001b[0m         \u001b[38;5;124mf\u001b[39m\u001b[38;5;124m'\u001b[39m\u001b[38;5;124mInvalid \u001b[39m\u001b[38;5;124m\"\u001b[39m\u001b[38;5;124mto_replace\u001b[39m\u001b[38;5;124m\"\u001b[39m\u001b[38;5;124m type: \u001b[39m\u001b[38;5;132;01m{\u001b[39;00m\u001b[38;5;28mrepr\u001b[39m(\u001b[38;5;28mtype\u001b[39m(to_replace)\u001b[38;5;241m.\u001b[39m\u001b[38;5;18m__name__\u001b[39m)\u001b[38;5;132;01m}\u001b[39;00m\u001b[38;5;124m'\u001b[39m\n\u001b[1;32m   7286\u001b[0m     )\n",
      "File \u001b[0;32m~/anaconda3/lib/python3.10/site-packages/pandas/core/internals/managers.py:470\u001b[0m, in \u001b[0;36mBaseBlockManager.replace\u001b[0;34m(self, to_replace, value, inplace)\u001b[0m\n\u001b[1;32m    468\u001b[0m \u001b[38;5;28;01massert\u001b[39;00m \u001b[38;5;129;01mnot\u001b[39;00m is_list_like(to_replace)\n\u001b[1;32m    469\u001b[0m \u001b[38;5;28;01massert\u001b[39;00m \u001b[38;5;129;01mnot\u001b[39;00m is_list_like(value)\n\u001b[0;32m--> 470\u001b[0m \u001b[38;5;28;01mreturn\u001b[39;00m \u001b[38;5;28;43mself\u001b[39;49m\u001b[38;5;241;43m.\u001b[39;49m\u001b[43mapply\u001b[49m\u001b[43m(\u001b[49m\n\u001b[1;32m    471\u001b[0m \u001b[43m    \u001b[49m\u001b[38;5;124;43m\"\u001b[39;49m\u001b[38;5;124;43mreplace\u001b[39;49m\u001b[38;5;124;43m\"\u001b[39;49m\u001b[43m,\u001b[49m\u001b[43m \u001b[49m\u001b[43mto_replace\u001b[49m\u001b[38;5;241;43m=\u001b[39;49m\u001b[43mto_replace\u001b[49m\u001b[43m,\u001b[49m\u001b[43m \u001b[49m\u001b[43mvalue\u001b[49m\u001b[38;5;241;43m=\u001b[39;49m\u001b[43mvalue\u001b[49m\u001b[43m,\u001b[49m\u001b[43m \u001b[49m\u001b[43minplace\u001b[49m\u001b[38;5;241;43m=\u001b[39;49m\u001b[43minplace\u001b[49m\n\u001b[1;32m    472\u001b[0m \u001b[43m\u001b[49m\u001b[43m)\u001b[49m\n",
      "File \u001b[0;32m~/anaconda3/lib/python3.10/site-packages/pandas/core/internals/managers.py:352\u001b[0m, in \u001b[0;36mBaseBlockManager.apply\u001b[0;34m(self, f, align_keys, ignore_failures, **kwargs)\u001b[0m\n\u001b[1;32m    350\u001b[0m         applied \u001b[38;5;241m=\u001b[39m b\u001b[38;5;241m.\u001b[39mapply(f, \u001b[38;5;241m*\u001b[39m\u001b[38;5;241m*\u001b[39mkwargs)\n\u001b[1;32m    351\u001b[0m     \u001b[38;5;28;01melse\u001b[39;00m:\n\u001b[0;32m--> 352\u001b[0m         applied \u001b[38;5;241m=\u001b[39m \u001b[38;5;28;43mgetattr\u001b[39;49m\u001b[43m(\u001b[49m\u001b[43mb\u001b[49m\u001b[43m,\u001b[49m\u001b[43m \u001b[49m\u001b[43mf\u001b[49m\u001b[43m)\u001b[49m\u001b[43m(\u001b[49m\u001b[38;5;241;43m*\u001b[39;49m\u001b[38;5;241;43m*\u001b[39;49m\u001b[43mkwargs\u001b[49m\u001b[43m)\u001b[49m\n\u001b[1;32m    353\u001b[0m \u001b[38;5;28;01mexcept\u001b[39;00m (\u001b[38;5;167;01mTypeError\u001b[39;00m, \u001b[38;5;167;01mNotImplementedError\u001b[39;00m):\n\u001b[1;32m    354\u001b[0m     \u001b[38;5;28;01mif\u001b[39;00m \u001b[38;5;129;01mnot\u001b[39;00m ignore_failures:\n",
      "File \u001b[0;32m~/anaconda3/lib/python3.10/site-packages/pandas/core/internals/blocks.py:626\u001b[0m, in \u001b[0;36mBlock.replace\u001b[0;34m(self, to_replace, value, inplace, mask)\u001b[0m\n\u001b[1;32m    623\u001b[0m blocks \u001b[38;5;241m=\u001b[39m []\n\u001b[1;32m    624\u001b[0m \u001b[38;5;28;01mfor\u001b[39;00m i, nb \u001b[38;5;129;01min\u001b[39;00m \u001b[38;5;28menumerate\u001b[39m(\u001b[38;5;28mself\u001b[39m\u001b[38;5;241m.\u001b[39m_split()):\n\u001b[1;32m    625\u001b[0m     blocks\u001b[38;5;241m.\u001b[39mextend(\n\u001b[0;32m--> 626\u001b[0m         \u001b[38;5;28;43mtype\u001b[39;49m\u001b[43m(\u001b[49m\u001b[38;5;28;43mself\u001b[39;49m\u001b[43m)\u001b[49m\u001b[38;5;241;43m.\u001b[39;49m\u001b[43mreplace\u001b[49m\u001b[43m(\u001b[49m\n\u001b[1;32m    627\u001b[0m \u001b[43m            \u001b[49m\u001b[43mnb\u001b[49m\u001b[43m,\u001b[49m\n\u001b[1;32m    628\u001b[0m \u001b[43m            \u001b[49m\u001b[43mto_replace\u001b[49m\u001b[38;5;241;43m=\u001b[39;49m\u001b[43mto_replace\u001b[49m\u001b[43m,\u001b[49m\n\u001b[1;32m    629\u001b[0m \u001b[43m            \u001b[49m\u001b[43mvalue\u001b[49m\u001b[38;5;241;43m=\u001b[39;49m\u001b[43mvalue\u001b[49m\u001b[43m,\u001b[49m\n\u001b[1;32m    630\u001b[0m \u001b[43m            \u001b[49m\u001b[43minplace\u001b[49m\u001b[38;5;241;43m=\u001b[39;49m\u001b[38;5;28;43;01mTrue\u001b[39;49;00m\u001b[43m,\u001b[49m\n\u001b[1;32m    631\u001b[0m \u001b[43m            \u001b[49m\u001b[43mmask\u001b[49m\u001b[38;5;241;43m=\u001b[39;49m\u001b[43mmask\u001b[49m\u001b[43m[\u001b[49m\u001b[43mi\u001b[49m\u001b[43m \u001b[49m\u001b[43m:\u001b[49m\u001b[43m \u001b[49m\u001b[43mi\u001b[49m\u001b[43m \u001b[49m\u001b[38;5;241;43m+\u001b[39;49m\u001b[43m \u001b[49m\u001b[38;5;241;43m1\u001b[39;49m\u001b[43m]\u001b[49m\u001b[43m,\u001b[49m\n\u001b[1;32m    632\u001b[0m \u001b[43m        \u001b[49m\u001b[43m)\u001b[49m\n\u001b[1;32m    633\u001b[0m     )\n\u001b[1;32m    634\u001b[0m \u001b[38;5;28;01mreturn\u001b[39;00m blocks\n",
      "File \u001b[0;32m~/anaconda3/lib/python3.10/site-packages/pandas/core/internals/blocks.py:614\u001b[0m, in \u001b[0;36mBlock.replace\u001b[0;34m(self, to_replace, value, inplace, mask)\u001b[0m\n\u001b[1;32m    612\u001b[0m     \u001b[38;5;28;01melse\u001b[39;00m:\n\u001b[1;32m    613\u001b[0m         blk \u001b[38;5;241m=\u001b[39m \u001b[38;5;28mself\u001b[39m\u001b[38;5;241m.\u001b[39mcoerce_to_target_dtype(value)\n\u001b[0;32m--> 614\u001b[0m     \u001b[38;5;28;01mreturn\u001b[39;00m \u001b[43mblk\u001b[49m\u001b[38;5;241;43m.\u001b[39;49m\u001b[43mreplace\u001b[49m\u001b[43m(\u001b[49m\n\u001b[1;32m    615\u001b[0m \u001b[43m        \u001b[49m\u001b[43mto_replace\u001b[49m\u001b[38;5;241;43m=\u001b[39;49m\u001b[43mto_replace\u001b[49m\u001b[43m,\u001b[49m\n\u001b[1;32m    616\u001b[0m \u001b[43m        \u001b[49m\u001b[43mvalue\u001b[49m\u001b[38;5;241;43m=\u001b[39;49m\u001b[43mvalue\u001b[49m\u001b[43m,\u001b[49m\n\u001b[1;32m    617\u001b[0m \u001b[43m        \u001b[49m\u001b[43minplace\u001b[49m\u001b[38;5;241;43m=\u001b[39;49m\u001b[38;5;28;43;01mTrue\u001b[39;49;00m\u001b[43m,\u001b[49m\n\u001b[1;32m    618\u001b[0m \u001b[43m        \u001b[49m\u001b[43mmask\u001b[49m\u001b[38;5;241;43m=\u001b[39;49m\u001b[43mmask\u001b[49m\u001b[43m,\u001b[49m\n\u001b[1;32m    619\u001b[0m \u001b[43m    \u001b[49m\u001b[43m)\u001b[49m\n\u001b[1;32m    621\u001b[0m \u001b[38;5;28;01melse\u001b[39;00m:\n\u001b[1;32m    622\u001b[0m     \u001b[38;5;66;03m# split so that we only upcast where necessary\u001b[39;00m\n\u001b[1;32m    623\u001b[0m     blocks \u001b[38;5;241m=\u001b[39m []\n",
      "File \u001b[0;32m~/anaconda3/lib/python3.10/site-packages/pandas/core/internals/blocks.py:614\u001b[0m, in \u001b[0;36mBlock.replace\u001b[0;34m(self, to_replace, value, inplace, mask)\u001b[0m\n\u001b[1;32m    612\u001b[0m     \u001b[38;5;28;01melse\u001b[39;00m:\n\u001b[1;32m    613\u001b[0m         blk \u001b[38;5;241m=\u001b[39m \u001b[38;5;28mself\u001b[39m\u001b[38;5;241m.\u001b[39mcoerce_to_target_dtype(value)\n\u001b[0;32m--> 614\u001b[0m     \u001b[38;5;28;01mreturn\u001b[39;00m \u001b[43mblk\u001b[49m\u001b[38;5;241;43m.\u001b[39;49m\u001b[43mreplace\u001b[49m\u001b[43m(\u001b[49m\n\u001b[1;32m    615\u001b[0m \u001b[43m        \u001b[49m\u001b[43mto_replace\u001b[49m\u001b[38;5;241;43m=\u001b[39;49m\u001b[43mto_replace\u001b[49m\u001b[43m,\u001b[49m\n\u001b[1;32m    616\u001b[0m \u001b[43m        \u001b[49m\u001b[43mvalue\u001b[49m\u001b[38;5;241;43m=\u001b[39;49m\u001b[43mvalue\u001b[49m\u001b[43m,\u001b[49m\n\u001b[1;32m    617\u001b[0m \u001b[43m        \u001b[49m\u001b[43minplace\u001b[49m\u001b[38;5;241;43m=\u001b[39;49m\u001b[38;5;28;43;01mTrue\u001b[39;49;00m\u001b[43m,\u001b[49m\n\u001b[1;32m    618\u001b[0m \u001b[43m        \u001b[49m\u001b[43mmask\u001b[49m\u001b[38;5;241;43m=\u001b[39;49m\u001b[43mmask\u001b[49m\u001b[43m,\u001b[49m\n\u001b[1;32m    619\u001b[0m \u001b[43m    \u001b[49m\u001b[43m)\u001b[49m\n\u001b[1;32m    621\u001b[0m \u001b[38;5;28;01melse\u001b[39;00m:\n\u001b[1;32m    622\u001b[0m     \u001b[38;5;66;03m# split so that we only upcast where necessary\u001b[39;00m\n\u001b[1;32m    623\u001b[0m     blocks \u001b[38;5;241m=\u001b[39m []\n",
      "    \u001b[0;31m[... skipping similar frames: Block.replace at line 614 (2951 times)]\u001b[0m\n",
      "File \u001b[0;32m~/anaconda3/lib/python3.10/site-packages/pandas/core/internals/blocks.py:614\u001b[0m, in \u001b[0;36mBlock.replace\u001b[0;34m(self, to_replace, value, inplace, mask)\u001b[0m\n\u001b[1;32m    612\u001b[0m     \u001b[38;5;28;01melse\u001b[39;00m:\n\u001b[1;32m    613\u001b[0m         blk \u001b[38;5;241m=\u001b[39m \u001b[38;5;28mself\u001b[39m\u001b[38;5;241m.\u001b[39mcoerce_to_target_dtype(value)\n\u001b[0;32m--> 614\u001b[0m     \u001b[38;5;28;01mreturn\u001b[39;00m \u001b[43mblk\u001b[49m\u001b[38;5;241;43m.\u001b[39;49m\u001b[43mreplace\u001b[49m\u001b[43m(\u001b[49m\n\u001b[1;32m    615\u001b[0m \u001b[43m        \u001b[49m\u001b[43mto_replace\u001b[49m\u001b[38;5;241;43m=\u001b[39;49m\u001b[43mto_replace\u001b[49m\u001b[43m,\u001b[49m\n\u001b[1;32m    616\u001b[0m \u001b[43m        \u001b[49m\u001b[43mvalue\u001b[49m\u001b[38;5;241;43m=\u001b[39;49m\u001b[43mvalue\u001b[49m\u001b[43m,\u001b[49m\n\u001b[1;32m    617\u001b[0m \u001b[43m        \u001b[49m\u001b[43minplace\u001b[49m\u001b[38;5;241;43m=\u001b[39;49m\u001b[38;5;28;43;01mTrue\u001b[39;49;00m\u001b[43m,\u001b[49m\n\u001b[1;32m    618\u001b[0m \u001b[43m        \u001b[49m\u001b[43mmask\u001b[49m\u001b[38;5;241;43m=\u001b[39;49m\u001b[43mmask\u001b[49m\u001b[43m,\u001b[49m\n\u001b[1;32m    619\u001b[0m \u001b[43m    \u001b[49m\u001b[43m)\u001b[49m\n\u001b[1;32m    621\u001b[0m \u001b[38;5;28;01melse\u001b[39;00m:\n\u001b[1;32m    622\u001b[0m     \u001b[38;5;66;03m# split so that we only upcast where necessary\u001b[39;00m\n\u001b[1;32m    623\u001b[0m     blocks \u001b[38;5;241m=\u001b[39m []\n",
      "File \u001b[0;32m~/anaconda3/lib/python3.10/site-packages/pandas/core/internals/blocks.py:613\u001b[0m, in \u001b[0;36mBlock.replace\u001b[0;34m(self, to_replace, value, inplace, mask)\u001b[0m\n\u001b[1;32m    611\u001b[0m         blk \u001b[38;5;241m=\u001b[39m \u001b[38;5;28mself\u001b[39m\u001b[38;5;241m.\u001b[39mastype(np\u001b[38;5;241m.\u001b[39mdtype(\u001b[38;5;28mobject\u001b[39m))\n\u001b[1;32m    612\u001b[0m     \u001b[38;5;28;01melse\u001b[39;00m:\n\u001b[0;32m--> 613\u001b[0m         blk \u001b[38;5;241m=\u001b[39m \u001b[38;5;28;43mself\u001b[39;49m\u001b[38;5;241;43m.\u001b[39;49m\u001b[43mcoerce_to_target_dtype\u001b[49m\u001b[43m(\u001b[49m\u001b[43mvalue\u001b[49m\u001b[43m)\u001b[49m\n\u001b[1;32m    614\u001b[0m     \u001b[38;5;28;01mreturn\u001b[39;00m blk\u001b[38;5;241m.\u001b[39mreplace(\n\u001b[1;32m    615\u001b[0m         to_replace\u001b[38;5;241m=\u001b[39mto_replace,\n\u001b[1;32m    616\u001b[0m         value\u001b[38;5;241m=\u001b[39mvalue,\n\u001b[1;32m    617\u001b[0m         inplace\u001b[38;5;241m=\u001b[39m\u001b[38;5;28;01mTrue\u001b[39;00m,\n\u001b[1;32m    618\u001b[0m         mask\u001b[38;5;241m=\u001b[39mmask,\n\u001b[1;32m    619\u001b[0m     )\n\u001b[1;32m    621\u001b[0m \u001b[38;5;28;01melse\u001b[39;00m:\n\u001b[1;32m    622\u001b[0m     \u001b[38;5;66;03m# split so that we only upcast where necessary\u001b[39;00m\n",
      "File \u001b[0;32m~/anaconda3/lib/python3.10/site-packages/pandas/core/internals/blocks.py:450\u001b[0m, in \u001b[0;36mBlock.coerce_to_target_dtype\u001b[0;34m(self, other)\u001b[0m\n\u001b[1;32m    441\u001b[0m \u001b[38;5;250m\u001b[39m\u001b[38;5;124;03m\"\"\"\u001b[39;00m\n\u001b[1;32m    442\u001b[0m \u001b[38;5;124;03mcoerce the current block to a dtype compat for other\u001b[39;00m\n\u001b[1;32m    443\u001b[0m \u001b[38;5;124;03mwe will return a block, possibly object, and not raise\u001b[39;00m\n\u001b[0;32m   (...)\u001b[0m\n\u001b[1;32m    446\u001b[0m \u001b[38;5;124;03mand will receive the same block\u001b[39;00m\n\u001b[1;32m    447\u001b[0m \u001b[38;5;124;03m\"\"\"\u001b[39;00m\n\u001b[1;32m    448\u001b[0m new_dtype \u001b[38;5;241m=\u001b[39m find_result_type(\u001b[38;5;28mself\u001b[39m\u001b[38;5;241m.\u001b[39mvalues, other)\n\u001b[0;32m--> 450\u001b[0m \u001b[38;5;28;01mreturn\u001b[39;00m \u001b[38;5;28;43mself\u001b[39;49m\u001b[38;5;241;43m.\u001b[39;49m\u001b[43mastype\u001b[49m\u001b[43m(\u001b[49m\u001b[43mnew_dtype\u001b[49m\u001b[43m,\u001b[49m\u001b[43m \u001b[49m\u001b[43mcopy\u001b[49m\u001b[38;5;241;43m=\u001b[39;49m\u001b[38;5;28;43;01mFalse\u001b[39;49;00m\u001b[43m)\u001b[49m\n",
      "File \u001b[0;32m~/anaconda3/lib/python3.10/site-packages/pandas/core/internals/blocks.py:526\u001b[0m, in \u001b[0;36mBlock.astype\u001b[0;34m(self, dtype, copy, errors)\u001b[0m\n\u001b[1;32m    508\u001b[0m \u001b[38;5;250m\u001b[39m\u001b[38;5;124;03m\"\"\"\u001b[39;00m\n\u001b[1;32m    509\u001b[0m \u001b[38;5;124;03mCoerce to the new dtype.\u001b[39;00m\n\u001b[1;32m    510\u001b[0m \n\u001b[0;32m   (...)\u001b[0m\n\u001b[1;32m    522\u001b[0m \u001b[38;5;124;03mBlock\u001b[39;00m\n\u001b[1;32m    523\u001b[0m \u001b[38;5;124;03m\"\"\"\u001b[39;00m\n\u001b[1;32m    524\u001b[0m values \u001b[38;5;241m=\u001b[39m \u001b[38;5;28mself\u001b[39m\u001b[38;5;241m.\u001b[39mvalues\n\u001b[0;32m--> 526\u001b[0m new_values \u001b[38;5;241m=\u001b[39m \u001b[43mastype_array_safe\u001b[49m\u001b[43m(\u001b[49m\u001b[43mvalues\u001b[49m\u001b[43m,\u001b[49m\u001b[43m \u001b[49m\u001b[43mdtype\u001b[49m\u001b[43m,\u001b[49m\u001b[43m \u001b[49m\u001b[43mcopy\u001b[49m\u001b[38;5;241;43m=\u001b[39;49m\u001b[43mcopy\u001b[49m\u001b[43m,\u001b[49m\u001b[43m \u001b[49m\u001b[43merrors\u001b[49m\u001b[38;5;241;43m=\u001b[39;49m\u001b[43merrors\u001b[49m\u001b[43m)\u001b[49m\n\u001b[1;32m    528\u001b[0m new_values \u001b[38;5;241m=\u001b[39m maybe_coerce_values(new_values)\n\u001b[1;32m    529\u001b[0m newb \u001b[38;5;241m=\u001b[39m \u001b[38;5;28mself\u001b[39m\u001b[38;5;241m.\u001b[39mmake_block(new_values)\n",
      "File \u001b[0;32m~/anaconda3/lib/python3.10/site-packages/pandas/core/dtypes/astype.py:299\u001b[0m, in \u001b[0;36mastype_array_safe\u001b[0;34m(values, dtype, copy, errors)\u001b[0m\n\u001b[1;32m    296\u001b[0m     \u001b[38;5;28;01mreturn\u001b[39;00m values\u001b[38;5;241m.\u001b[39mcopy()\n\u001b[1;32m    298\u001b[0m \u001b[38;5;28;01mtry\u001b[39;00m:\n\u001b[0;32m--> 299\u001b[0m     new_values \u001b[38;5;241m=\u001b[39m \u001b[43mastype_array\u001b[49m\u001b[43m(\u001b[49m\u001b[43mvalues\u001b[49m\u001b[43m,\u001b[49m\u001b[43m \u001b[49m\u001b[43mdtype\u001b[49m\u001b[43m,\u001b[49m\u001b[43m \u001b[49m\u001b[43mcopy\u001b[49m\u001b[38;5;241;43m=\u001b[39;49m\u001b[43mcopy\u001b[49m\u001b[43m)\u001b[49m\n\u001b[1;32m    300\u001b[0m \u001b[38;5;28;01mexcept\u001b[39;00m (\u001b[38;5;167;01mValueError\u001b[39;00m, \u001b[38;5;167;01mTypeError\u001b[39;00m):\n\u001b[1;32m    301\u001b[0m     \u001b[38;5;66;03m# e.g. astype_nansafe can fail on object-dtype of strings\u001b[39;00m\n\u001b[1;32m    302\u001b[0m     \u001b[38;5;66;03m#  trying to convert to float\u001b[39;00m\n\u001b[1;32m    303\u001b[0m     \u001b[38;5;28;01mif\u001b[39;00m errors \u001b[38;5;241m==\u001b[39m \u001b[38;5;124m\"\u001b[39m\u001b[38;5;124mignore\u001b[39m\u001b[38;5;124m\"\u001b[39m:\n",
      "File \u001b[0;32m~/anaconda3/lib/python3.10/site-packages/pandas/core/dtypes/astype.py:217\u001b[0m, in \u001b[0;36mastype_array\u001b[0;34m(values, dtype, copy)\u001b[0m\n\u001b[1;32m    214\u001b[0m     msg \u001b[38;5;241m=\u001b[39m \u001b[38;5;124mrf\u001b[39m\u001b[38;5;124m\"\u001b[39m\u001b[38;5;124mcannot astype a datetimelike from [\u001b[39m\u001b[38;5;132;01m{\u001b[39;00mvalues\u001b[38;5;241m.\u001b[39mdtype\u001b[38;5;132;01m}\u001b[39;00m\u001b[38;5;124m] to [\u001b[39m\u001b[38;5;132;01m{\u001b[39;00mdtype\u001b[38;5;132;01m}\u001b[39;00m\u001b[38;5;124m]\u001b[39m\u001b[38;5;124m\"\u001b[39m\n\u001b[1;32m    215\u001b[0m     \u001b[38;5;28;01mraise\u001b[39;00m \u001b[38;5;167;01mTypeError\u001b[39;00m(msg)\n\u001b[0;32m--> 217\u001b[0m \u001b[38;5;28;01mif\u001b[39;00m \u001b[43mis_datetime64tz_dtype\u001b[49m\u001b[43m(\u001b[49m\u001b[43mdtype\u001b[49m\u001b[43m)\u001b[49m \u001b[38;5;129;01mand\u001b[39;00m is_datetime64_dtype(values\u001b[38;5;241m.\u001b[39mdtype):\n\u001b[1;32m    218\u001b[0m     \u001b[38;5;28;01mreturn\u001b[39;00m astype_dt64_to_dt64tz(values, dtype, copy, via_utc\u001b[38;5;241m=\u001b[39m\u001b[38;5;28;01mTrue\u001b[39;00m)\n\u001b[1;32m    220\u001b[0m \u001b[38;5;28;01mif\u001b[39;00m is_dtype_equal(values\u001b[38;5;241m.\u001b[39mdtype, dtype):\n",
      "File \u001b[0;32m~/anaconda3/lib/python3.10/site-packages/pandas/core/dtypes/common.py:390\u001b[0m, in \u001b[0;36mis_datetime64tz_dtype\u001b[0;34m(arr_or_dtype)\u001b[0m\n\u001b[1;32m    388\u001b[0m \u001b[38;5;28;01mif\u001b[39;00m arr_or_dtype \u001b[38;5;129;01mis\u001b[39;00m \u001b[38;5;28;01mNone\u001b[39;00m:\n\u001b[1;32m    389\u001b[0m     \u001b[38;5;28;01mreturn\u001b[39;00m \u001b[38;5;28;01mFalse\u001b[39;00m\n\u001b[0;32m--> 390\u001b[0m \u001b[38;5;28;01mreturn\u001b[39;00m \u001b[43mDatetimeTZDtype\u001b[49m\u001b[38;5;241;43m.\u001b[39;49m\u001b[43mis_dtype\u001b[49m\u001b[43m(\u001b[49m\u001b[43marr_or_dtype\u001b[49m\u001b[43m)\u001b[49m\n",
      "File \u001b[0;32m~/anaconda3/lib/python3.10/site-packages/pandas/core/dtypes/base.py:312\u001b[0m, in \u001b[0;36mExtensionDtype.is_dtype\u001b[0;34m(cls, dtype)\u001b[0m\n\u001b[1;32m    288\u001b[0m \u001b[38;5;250m\u001b[39m\u001b[38;5;124;03m\"\"\"\u001b[39;00m\n\u001b[1;32m    289\u001b[0m \u001b[38;5;124;03mCheck if we match 'dtype'.\u001b[39;00m\n\u001b[1;32m    290\u001b[0m \n\u001b[0;32m   (...)\u001b[0m\n\u001b[1;32m    308\u001b[0m \u001b[38;5;124;03m   conditions is true for ``dtype.dtype``.\u001b[39;00m\n\u001b[1;32m    309\u001b[0m \u001b[38;5;124;03m\"\"\"\u001b[39;00m\n\u001b[1;32m    310\u001b[0m dtype \u001b[38;5;241m=\u001b[39m \u001b[38;5;28mgetattr\u001b[39m(dtype, \u001b[38;5;124m\"\u001b[39m\u001b[38;5;124mdtype\u001b[39m\u001b[38;5;124m\"\u001b[39m, dtype)\n\u001b[0;32m--> 312\u001b[0m \u001b[38;5;28;01mif\u001b[39;00m \u001b[38;5;28;43misinstance\u001b[39;49m\u001b[43m(\u001b[49m\u001b[43mdtype\u001b[49m\u001b[43m,\u001b[49m\u001b[43m \u001b[49m\u001b[43m(\u001b[49m\u001b[43mABCSeries\u001b[49m\u001b[43m,\u001b[49m\u001b[43m \u001b[49m\u001b[43mABCIndex\u001b[49m\u001b[43m,\u001b[49m\u001b[43m \u001b[49m\u001b[43mABCDataFrame\u001b[49m\u001b[43m,\u001b[49m\u001b[43m \u001b[49m\u001b[43mnp\u001b[49m\u001b[38;5;241;43m.\u001b[39;49m\u001b[43mdtype\u001b[49m\u001b[43m)\u001b[49m\u001b[43m)\u001b[49m:\n\u001b[1;32m    313\u001b[0m     \u001b[38;5;66;03m# https://github.com/pandas-dev/pandas/issues/22960\u001b[39;00m\n\u001b[1;32m    314\u001b[0m     \u001b[38;5;66;03m# avoid passing data to `construct_from_string`. This could\u001b[39;00m\n\u001b[1;32m    315\u001b[0m     \u001b[38;5;66;03m# cause a FutureWarning from numpy about failing elementwise\u001b[39;00m\n\u001b[1;32m    316\u001b[0m     \u001b[38;5;66;03m# comparison from, e.g., comparing DataFrame == 'category'.\u001b[39;00m\n\u001b[1;32m    317\u001b[0m     \u001b[38;5;28;01mreturn\u001b[39;00m \u001b[38;5;28;01mFalse\u001b[39;00m\n\u001b[1;32m    318\u001b[0m \u001b[38;5;28;01melif\u001b[39;00m dtype \u001b[38;5;129;01mis\u001b[39;00m \u001b[38;5;28;01mNone\u001b[39;00m:\n",
      "File \u001b[0;32m~/anaconda3/lib/python3.10/site-packages/pandas/core/dtypes/generic.py:47\u001b[0m, in \u001b[0;36mcreate_pandas_abc_type.<locals>._instancecheck\u001b[0;34m(cls, inst)\u001b[0m\n\u001b[1;32m     45\u001b[0m \u001b[38;5;129m@classmethod\u001b[39m  \u001b[38;5;66;03m# type: ignore[misc]\u001b[39;00m\n\u001b[1;32m     46\u001b[0m \u001b[38;5;28;01mdef\u001b[39;00m \u001b[38;5;21m_instancecheck\u001b[39m(\u001b[38;5;28mcls\u001b[39m, inst) \u001b[38;5;241m-\u001b[39m\u001b[38;5;241m>\u001b[39m \u001b[38;5;28mbool\u001b[39m:\n\u001b[0;32m---> 47\u001b[0m     \u001b[38;5;28;01mreturn\u001b[39;00m \u001b[43m_check\u001b[49m\u001b[43m(\u001b[49m\u001b[43minst\u001b[49m\u001b[43m)\u001b[49m \u001b[38;5;129;01mand\u001b[39;00m \u001b[38;5;129;01mnot\u001b[39;00m \u001b[38;5;28misinstance\u001b[39m(inst, \u001b[38;5;28mtype\u001b[39m)\n",
      "File \u001b[0;32m~/anaconda3/lib/python3.10/site-packages/pandas/core/dtypes/generic.py:41\u001b[0m, in \u001b[0;36mcreate_pandas_abc_type.<locals>._check\u001b[0;34m(inst)\u001b[0m\n\u001b[1;32m     40\u001b[0m \u001b[38;5;28;01mdef\u001b[39;00m \u001b[38;5;21m_check\u001b[39m(inst):\n\u001b[0;32m---> 41\u001b[0m     \u001b[38;5;28;01mreturn\u001b[39;00m \u001b[38;5;28;43mgetattr\u001b[39;49m\u001b[43m(\u001b[49m\u001b[43minst\u001b[49m\u001b[43m,\u001b[49m\u001b[43m \u001b[49m\u001b[43mattr\u001b[49m\u001b[43m,\u001b[49m\u001b[43m \u001b[49m\u001b[38;5;124;43m\"\u001b[39;49m\u001b[38;5;124;43m_typ\u001b[39;49m\u001b[38;5;124;43m\"\u001b[39;49m\u001b[43m)\u001b[49m \u001b[38;5;129;01min\u001b[39;00m comp\n",
      "\u001b[0;31mRecursionError\u001b[0m: maximum recursion depth exceeded while calling a Python object"
     ]
    }
   ],
   "source": [
    "overall = overall.replace(0, pd.NA).dropna()\n",
    "overall"
   ]
  },
  {
   "cell_type": "code",
   "execution_count": null,
   "metadata": {
    "id": "Z2hwqEZgwMnl"
   },
   "outputs": [],
   "source": [
    "sentiment_home = overall['sentiment_past_week_home'].values\n",
    "sentiment_away = overall['sentiment_past_week_away'].values\n",
    "\n",
    "moneyline_home = overall['Home_ML_AVG'].values\n",
    "moneyline_away = overall['Away_ML_AVG'].values\n",
    "\n",
    "sentiment_home1 = sentiment_home.reshape(-1,1)\n",
    "sentiment_away1 = sentiment_away.reshape(-1,1)\n",
    "\n",
    "moneyline_home1 = moneyline_home.reshape(-1,1)\n",
    "moneyline_away1 = moneyline_away.reshape(-1,1)"
   ]
  },
  {
   "cell_type": "code",
   "execution_count": null,
   "metadata": {
    "id": "mQ4on5zbwMrh"
   },
   "outputs": [],
   "source": [
    "## train and test sets\n",
    "## home games\n",
    "X_train, X_test, y_train, y_test = train_test_split(sentiment_home1, moneyline_home1, test_size = 0.2, random_state = 42)\n",
    "\n",
    "## away games\n",
    "X_train1, X_test1, y_train1, y_test1 = train_test_split(sentiment_away1, moneyline_away1, test_size = 0.2, random_state = 42)\n",
    "\n",
    "## linear model\n",
    "model = LinearRegression()\n",
    "model1 = LinearRegression()\n",
    "model.fit(X_train, y_train)\n",
    "\n",
    "model1.fit(X_train1, y_train1)\n",
    "\n",
    "## predictions\n",
    "predict = model.predict(X_test)\n",
    "predict1 = model1.predict(X_test1)\n",
    "\n",
    "\n",
    "# Evaluate the model\n",
    "score = r2_score(y_test, predict)\n",
    "print(\"R-squared score:\", score)\n",
    "\n",
    "score1 = r2_score(y_test1, predict1)\n",
    "print(\"R-squared score:\", score1)"
   ]
  },
  {
   "cell_type": "code",
   "execution_count": null,
   "metadata": {
    "id": "GCsehStcwMwR"
   },
   "outputs": [],
   "source": [
    "## use a random forest \n",
    "\n",
    "model = RandomForestRegressor(n_estimators = 100, random_state = 42)\n",
    "model1 = RandomForestRegressor(n_estimators = 100, random_state = 42)\n",
    "\n",
    "model.fit(X_train, y_train)\n",
    "model1.fit(X_train1, y_train1)\n",
    "\n",
    "predictions = model.predict(X_test)\n",
    "predictions1 = model1.predict(X_test1)\n",
    "\n",
    "# Evaluate the model\n",
    "score = r2_score(y_test, predictions)\n",
    "print(\"R-squared score:\", score)\n",
    "\n",
    "score1 = r2_score(y_test1, predictions)\n",
    "print(\"R-squared score:\", score1)"
   ]
  },
  {
   "cell_type": "code",
   "execution_count": null,
   "metadata": {
    "id": "JtNPzxWVwM4t"
   },
   "outputs": [],
   "source": []
  },
  {
   "cell_type": "code",
   "execution_count": null,
   "metadata": {
    "id": "wWbapMBAwM_T"
   },
   "outputs": [],
   "source": []
  },
  {
   "cell_type": "code",
   "execution_count": null,
   "metadata": {
    "id": "RDQwf7BhwNFo"
   },
   "outputs": [],
   "source": []
  }
 ],
 "metadata": {
  "colab": {
   "provenance": []
  },
  "kernelspec": {
   "display_name": "Python 3 (ipykernel)",
   "language": "python",
   "name": "python3"
  },
  "language_info": {
   "codemirror_mode": {
    "name": "ipython",
    "version": 3
   },
   "file_extension": ".py",
   "mimetype": "text/x-python",
   "name": "python",
   "nbconvert_exporter": "python",
   "pygments_lexer": "ipython3",
   "version": "3.10.9"
  },
  "widgets": {
   "application/vnd.jupyter.widget-state+json": {
    "060901eb62e0469fbdc4edcc30ee4221": {
     "model_module": "@jupyter-widgets/controls",
     "model_module_version": "1.5.0",
     "model_name": "FloatProgressModel",
     "state": {
      "_dom_classes": [],
      "_model_module": "@jupyter-widgets/controls",
      "_model_module_version": "1.5.0",
      "_model_name": "FloatProgressModel",
      "_view_count": null,
      "_view_module": "@jupyter-widgets/controls",
      "_view_module_version": "1.5.0",
      "_view_name": "ProgressView",
      "bar_style": "success",
      "description": "",
      "description_tooltip": null,
      "layout": "IPY_MODEL_33bd7b7f10b7492cb80e9b1e1603a0b2",
      "max": 5665,
      "min": 0,
      "orientation": "horizontal",
      "style": "IPY_MODEL_d141b892f32249c6bcecab5c6cc89ebb",
      "value": 5665
     }
    },
    "190465ccbf42468d801f627b3115a45e": {
     "model_module": "@jupyter-widgets/controls",
     "model_module_version": "1.5.0",
     "model_name": "HBoxModel",
     "state": {
      "_dom_classes": [],
      "_model_module": "@jupyter-widgets/controls",
      "_model_module_version": "1.5.0",
      "_model_name": "HBoxModel",
      "_view_count": null,
      "_view_module": "@jupyter-widgets/controls",
      "_view_module_version": "1.5.0",
      "_view_name": "HBoxView",
      "box_style": "",
      "children": [
       "IPY_MODEL_664d50114be24850a20396ac225a3050",
       "IPY_MODEL_060901eb62e0469fbdc4edcc30ee4221",
       "IPY_MODEL_80ffe92a0155409faddc78bc513d7c38"
      ],
      "layout": "IPY_MODEL_51c29150858244929f140282f59e6716"
     }
    },
    "1982c6caa71f44e498373cd6a6d01d22": {
     "model_module": "@jupyter-widgets/controls",
     "model_module_version": "1.5.0",
     "model_name": "HBoxModel",
     "state": {
      "_dom_classes": [],
      "_model_module": "@jupyter-widgets/controls",
      "_model_module_version": "1.5.0",
      "_model_name": "HBoxModel",
      "_view_count": null,
      "_view_module": "@jupyter-widgets/controls",
      "_view_module_version": "1.5.0",
      "_view_name": "HBoxView",
      "box_style": "",
      "children": [
       "IPY_MODEL_d9209fd8e3ac46dba99573797e312952",
       "IPY_MODEL_adac3784b38f493f9f827941d7916686",
       "IPY_MODEL_23b7c2c3c7a04c65b7b8fd94dc2f7679"
      ],
      "layout": "IPY_MODEL_3e696ff058ca4471a132a4ca3517a14e"
     }
    },
    "21c82c33064c4f48afcf5aecc37170b9": {
     "model_module": "@jupyter-widgets/controls",
     "model_module_version": "1.5.0",
     "model_name": "DescriptionStyleModel",
     "state": {
      "_model_module": "@jupyter-widgets/controls",
      "_model_module_version": "1.5.0",
      "_model_name": "DescriptionStyleModel",
      "_view_count": null,
      "_view_module": "@jupyter-widgets/base",
      "_view_module_version": "1.2.0",
      "_view_name": "StyleView",
      "description_width": ""
     }
    },
    "21d0522268d24d328e6e2f77d4c7e641": {
     "model_module": "@jupyter-widgets/controls",
     "model_module_version": "1.5.0",
     "model_name": "DescriptionStyleModel",
     "state": {
      "_model_module": "@jupyter-widgets/controls",
      "_model_module_version": "1.5.0",
      "_model_name": "DescriptionStyleModel",
      "_view_count": null,
      "_view_module": "@jupyter-widgets/base",
      "_view_module_version": "1.2.0",
      "_view_name": "StyleView",
      "description_width": ""
     }
    },
    "23b7c2c3c7a04c65b7b8fd94dc2f7679": {
     "model_module": "@jupyter-widgets/controls",
     "model_module_version": "1.5.0",
     "model_name": "HTMLModel",
     "state": {
      "_dom_classes": [],
      "_model_module": "@jupyter-widgets/controls",
      "_model_module_version": "1.5.0",
      "_model_name": "HTMLModel",
      "_view_count": null,
      "_view_module": "@jupyter-widgets/controls",
      "_view_module_version": "1.5.0",
      "_view_name": "HTMLView",
      "description": "",
      "description_tooltip": null,
      "layout": "IPY_MODEL_579ed4adb9fb4ee6a5674738e2841856",
      "placeholder": "​",
      "style": "IPY_MODEL_2dd5d949b7d24fed893baa63388bf6c2",
      "value": " 5665/5665 [00:56&lt;00:00, 125.93it/s]"
     }
    },
    "27effe071fa443ca86995672573a7333": {
     "model_module": "@jupyter-widgets/controls",
     "model_module_version": "1.5.0",
     "model_name": "ProgressStyleModel",
     "state": {
      "_model_module": "@jupyter-widgets/controls",
      "_model_module_version": "1.5.0",
      "_model_name": "ProgressStyleModel",
      "_view_count": null,
      "_view_module": "@jupyter-widgets/base",
      "_view_module_version": "1.2.0",
      "_view_name": "StyleView",
      "bar_color": null,
      "description_width": ""
     }
    },
    "2dd5d949b7d24fed893baa63388bf6c2": {
     "model_module": "@jupyter-widgets/controls",
     "model_module_version": "1.5.0",
     "model_name": "DescriptionStyleModel",
     "state": {
      "_model_module": "@jupyter-widgets/controls",
      "_model_module_version": "1.5.0",
      "_model_name": "DescriptionStyleModel",
      "_view_count": null,
      "_view_module": "@jupyter-widgets/base",
      "_view_module_version": "1.2.0",
      "_view_name": "StyleView",
      "description_width": ""
     }
    },
    "33bd7b7f10b7492cb80e9b1e1603a0b2": {
     "model_module": "@jupyter-widgets/base",
     "model_module_version": "1.2.0",
     "model_name": "LayoutModel",
     "state": {
      "_model_module": "@jupyter-widgets/base",
      "_model_module_version": "1.2.0",
      "_model_name": "LayoutModel",
      "_view_count": null,
      "_view_module": "@jupyter-widgets/base",
      "_view_module_version": "1.2.0",
      "_view_name": "LayoutView",
      "align_content": null,
      "align_items": null,
      "align_self": null,
      "border": null,
      "bottom": null,
      "display": null,
      "flex": null,
      "flex_flow": null,
      "grid_area": null,
      "grid_auto_columns": null,
      "grid_auto_flow": null,
      "grid_auto_rows": null,
      "grid_column": null,
      "grid_gap": null,
      "grid_row": null,
      "grid_template_areas": null,
      "grid_template_columns": null,
      "grid_template_rows": null,
      "height": null,
      "justify_content": null,
      "justify_items": null,
      "left": null,
      "margin": null,
      "max_height": null,
      "max_width": null,
      "min_height": null,
      "min_width": null,
      "object_fit": null,
      "object_position": null,
      "order": null,
      "overflow": null,
      "overflow_x": null,
      "overflow_y": null,
      "padding": null,
      "right": null,
      "top": null,
      "visibility": null,
      "width": null
     }
    },
    "3e696ff058ca4471a132a4ca3517a14e": {
     "model_module": "@jupyter-widgets/base",
     "model_module_version": "1.2.0",
     "model_name": "LayoutModel",
     "state": {
      "_model_module": "@jupyter-widgets/base",
      "_model_module_version": "1.2.0",
      "_model_name": "LayoutModel",
      "_view_count": null,
      "_view_module": "@jupyter-widgets/base",
      "_view_module_version": "1.2.0",
      "_view_name": "LayoutView",
      "align_content": null,
      "align_items": null,
      "align_self": null,
      "border": null,
      "bottom": null,
      "display": null,
      "flex": null,
      "flex_flow": null,
      "grid_area": null,
      "grid_auto_columns": null,
      "grid_auto_flow": null,
      "grid_auto_rows": null,
      "grid_column": null,
      "grid_gap": null,
      "grid_row": null,
      "grid_template_areas": null,
      "grid_template_columns": null,
      "grid_template_rows": null,
      "height": null,
      "justify_content": null,
      "justify_items": null,
      "left": null,
      "margin": null,
      "max_height": null,
      "max_width": null,
      "min_height": null,
      "min_width": null,
      "object_fit": null,
      "object_position": null,
      "order": null,
      "overflow": null,
      "overflow_x": null,
      "overflow_y": null,
      "padding": null,
      "right": null,
      "top": null,
      "visibility": null,
      "width": null
     }
    },
    "51c29150858244929f140282f59e6716": {
     "model_module": "@jupyter-widgets/base",
     "model_module_version": "1.2.0",
     "model_name": "LayoutModel",
     "state": {
      "_model_module": "@jupyter-widgets/base",
      "_model_module_version": "1.2.0",
      "_model_name": "LayoutModel",
      "_view_count": null,
      "_view_module": "@jupyter-widgets/base",
      "_view_module_version": "1.2.0",
      "_view_name": "LayoutView",
      "align_content": null,
      "align_items": null,
      "align_self": null,
      "border": null,
      "bottom": null,
      "display": null,
      "flex": null,
      "flex_flow": null,
      "grid_area": null,
      "grid_auto_columns": null,
      "grid_auto_flow": null,
      "grid_auto_rows": null,
      "grid_column": null,
      "grid_gap": null,
      "grid_row": null,
      "grid_template_areas": null,
      "grid_template_columns": null,
      "grid_template_rows": null,
      "height": null,
      "justify_content": null,
      "justify_items": null,
      "left": null,
      "margin": null,
      "max_height": null,
      "max_width": null,
      "min_height": null,
      "min_width": null,
      "object_fit": null,
      "object_position": null,
      "order": null,
      "overflow": null,
      "overflow_x": null,
      "overflow_y": null,
      "padding": null,
      "right": null,
      "top": null,
      "visibility": null,
      "width": null
     }
    },
    "579ed4adb9fb4ee6a5674738e2841856": {
     "model_module": "@jupyter-widgets/base",
     "model_module_version": "1.2.0",
     "model_name": "LayoutModel",
     "state": {
      "_model_module": "@jupyter-widgets/base",
      "_model_module_version": "1.2.0",
      "_model_name": "LayoutModel",
      "_view_count": null,
      "_view_module": "@jupyter-widgets/base",
      "_view_module_version": "1.2.0",
      "_view_name": "LayoutView",
      "align_content": null,
      "align_items": null,
      "align_self": null,
      "border": null,
      "bottom": null,
      "display": null,
      "flex": null,
      "flex_flow": null,
      "grid_area": null,
      "grid_auto_columns": null,
      "grid_auto_flow": null,
      "grid_auto_rows": null,
      "grid_column": null,
      "grid_gap": null,
      "grid_row": null,
      "grid_template_areas": null,
      "grid_template_columns": null,
      "grid_template_rows": null,
      "height": null,
      "justify_content": null,
      "justify_items": null,
      "left": null,
      "margin": null,
      "max_height": null,
      "max_width": null,
      "min_height": null,
      "min_width": null,
      "object_fit": null,
      "object_position": null,
      "order": null,
      "overflow": null,
      "overflow_x": null,
      "overflow_y": null,
      "padding": null,
      "right": null,
      "top": null,
      "visibility": null,
      "width": null
     }
    },
    "664d50114be24850a20396ac225a3050": {
     "model_module": "@jupyter-widgets/controls",
     "model_module_version": "1.5.0",
     "model_name": "HTMLModel",
     "state": {
      "_dom_classes": [],
      "_model_module": "@jupyter-widgets/controls",
      "_model_module_version": "1.5.0",
      "_model_name": "HTMLModel",
      "_view_count": null,
      "_view_module": "@jupyter-widgets/controls",
      "_view_module_version": "1.5.0",
      "_view_name": "HTMLView",
      "description": "",
      "description_tooltip": null,
      "layout": "IPY_MODEL_a816003ab974445a886c2ecccd0995a7",
      "placeholder": "​",
      "style": "IPY_MODEL_ccfb4434d4cd4752bfbf5f6380de1935",
      "value": "100%"
     }
    },
    "72b099acc1894e889835503369cc2b6c": {
     "model_module": "@jupyter-widgets/base",
     "model_module_version": "1.2.0",
     "model_name": "LayoutModel",
     "state": {
      "_model_module": "@jupyter-widgets/base",
      "_model_module_version": "1.2.0",
      "_model_name": "LayoutModel",
      "_view_count": null,
      "_view_module": "@jupyter-widgets/base",
      "_view_module_version": "1.2.0",
      "_view_name": "LayoutView",
      "align_content": null,
      "align_items": null,
      "align_self": null,
      "border": null,
      "bottom": null,
      "display": null,
      "flex": null,
      "flex_flow": null,
      "grid_area": null,
      "grid_auto_columns": null,
      "grid_auto_flow": null,
      "grid_auto_rows": null,
      "grid_column": null,
      "grid_gap": null,
      "grid_row": null,
      "grid_template_areas": null,
      "grid_template_columns": null,
      "grid_template_rows": null,
      "height": null,
      "justify_content": null,
      "justify_items": null,
      "left": null,
      "margin": null,
      "max_height": null,
      "max_width": null,
      "min_height": null,
      "min_width": null,
      "object_fit": null,
      "object_position": null,
      "order": null,
      "overflow": null,
      "overflow_x": null,
      "overflow_y": null,
      "padding": null,
      "right": null,
      "top": null,
      "visibility": null,
      "width": null
     }
    },
    "80ffe92a0155409faddc78bc513d7c38": {
     "model_module": "@jupyter-widgets/controls",
     "model_module_version": "1.5.0",
     "model_name": "HTMLModel",
     "state": {
      "_dom_classes": [],
      "_model_module": "@jupyter-widgets/controls",
      "_model_module_version": "1.5.0",
      "_model_name": "HTMLModel",
      "_view_count": null,
      "_view_module": "@jupyter-widgets/controls",
      "_view_module_version": "1.5.0",
      "_view_name": "HTMLView",
      "description": "",
      "description_tooltip": null,
      "layout": "IPY_MODEL_b3478e16d63d46c59e42eb17d47e71be",
      "placeholder": "​",
      "style": "IPY_MODEL_21c82c33064c4f48afcf5aecc37170b9",
      "value": " 5665/5665 [00:00&lt;00:00, 49418.26it/s]"
     }
    },
    "98ed6d2433db445abcb46af3447e44b7": {
     "model_module": "@jupyter-widgets/base",
     "model_module_version": "1.2.0",
     "model_name": "LayoutModel",
     "state": {
      "_model_module": "@jupyter-widgets/base",
      "_model_module_version": "1.2.0",
      "_model_name": "LayoutModel",
      "_view_count": null,
      "_view_module": "@jupyter-widgets/base",
      "_view_module_version": "1.2.0",
      "_view_name": "LayoutView",
      "align_content": null,
      "align_items": null,
      "align_self": null,
      "border": null,
      "bottom": null,
      "display": null,
      "flex": null,
      "flex_flow": null,
      "grid_area": null,
      "grid_auto_columns": null,
      "grid_auto_flow": null,
      "grid_auto_rows": null,
      "grid_column": null,
      "grid_gap": null,
      "grid_row": null,
      "grid_template_areas": null,
      "grid_template_columns": null,
      "grid_template_rows": null,
      "height": null,
      "justify_content": null,
      "justify_items": null,
      "left": null,
      "margin": null,
      "max_height": null,
      "max_width": null,
      "min_height": null,
      "min_width": null,
      "object_fit": null,
      "object_position": null,
      "order": null,
      "overflow": null,
      "overflow_x": null,
      "overflow_y": null,
      "padding": null,
      "right": null,
      "top": null,
      "visibility": null,
      "width": null
     }
    },
    "a816003ab974445a886c2ecccd0995a7": {
     "model_module": "@jupyter-widgets/base",
     "model_module_version": "1.2.0",
     "model_name": "LayoutModel",
     "state": {
      "_model_module": "@jupyter-widgets/base",
      "_model_module_version": "1.2.0",
      "_model_name": "LayoutModel",
      "_view_count": null,
      "_view_module": "@jupyter-widgets/base",
      "_view_module_version": "1.2.0",
      "_view_name": "LayoutView",
      "align_content": null,
      "align_items": null,
      "align_self": null,
      "border": null,
      "bottom": null,
      "display": null,
      "flex": null,
      "flex_flow": null,
      "grid_area": null,
      "grid_auto_columns": null,
      "grid_auto_flow": null,
      "grid_auto_rows": null,
      "grid_column": null,
      "grid_gap": null,
      "grid_row": null,
      "grid_template_areas": null,
      "grid_template_columns": null,
      "grid_template_rows": null,
      "height": null,
      "justify_content": null,
      "justify_items": null,
      "left": null,
      "margin": null,
      "max_height": null,
      "max_width": null,
      "min_height": null,
      "min_width": null,
      "object_fit": null,
      "object_position": null,
      "order": null,
      "overflow": null,
      "overflow_x": null,
      "overflow_y": null,
      "padding": null,
      "right": null,
      "top": null,
      "visibility": null,
      "width": null
     }
    },
    "adac3784b38f493f9f827941d7916686": {
     "model_module": "@jupyter-widgets/controls",
     "model_module_version": "1.5.0",
     "model_name": "FloatProgressModel",
     "state": {
      "_dom_classes": [],
      "_model_module": "@jupyter-widgets/controls",
      "_model_module_version": "1.5.0",
      "_model_name": "FloatProgressModel",
      "_view_count": null,
      "_view_module": "@jupyter-widgets/controls",
      "_view_module_version": "1.5.0",
      "_view_name": "ProgressView",
      "bar_style": "success",
      "description": "",
      "description_tooltip": null,
      "layout": "IPY_MODEL_98ed6d2433db445abcb46af3447e44b7",
      "max": 5665,
      "min": 0,
      "orientation": "horizontal",
      "style": "IPY_MODEL_27effe071fa443ca86995672573a7333",
      "value": 5665
     }
    },
    "b3478e16d63d46c59e42eb17d47e71be": {
     "model_module": "@jupyter-widgets/base",
     "model_module_version": "1.2.0",
     "model_name": "LayoutModel",
     "state": {
      "_model_module": "@jupyter-widgets/base",
      "_model_module_version": "1.2.0",
      "_model_name": "LayoutModel",
      "_view_count": null,
      "_view_module": "@jupyter-widgets/base",
      "_view_module_version": "1.2.0",
      "_view_name": "LayoutView",
      "align_content": null,
      "align_items": null,
      "align_self": null,
      "border": null,
      "bottom": null,
      "display": null,
      "flex": null,
      "flex_flow": null,
      "grid_area": null,
      "grid_auto_columns": null,
      "grid_auto_flow": null,
      "grid_auto_rows": null,
      "grid_column": null,
      "grid_gap": null,
      "grid_row": null,
      "grid_template_areas": null,
      "grid_template_columns": null,
      "grid_template_rows": null,
      "height": null,
      "justify_content": null,
      "justify_items": null,
      "left": null,
      "margin": null,
      "max_height": null,
      "max_width": null,
      "min_height": null,
      "min_width": null,
      "object_fit": null,
      "object_position": null,
      "order": null,
      "overflow": null,
      "overflow_x": null,
      "overflow_y": null,
      "padding": null,
      "right": null,
      "top": null,
      "visibility": null,
      "width": null
     }
    },
    "ccfb4434d4cd4752bfbf5f6380de1935": {
     "model_module": "@jupyter-widgets/controls",
     "model_module_version": "1.5.0",
     "model_name": "DescriptionStyleModel",
     "state": {
      "_model_module": "@jupyter-widgets/controls",
      "_model_module_version": "1.5.0",
      "_model_name": "DescriptionStyleModel",
      "_view_count": null,
      "_view_module": "@jupyter-widgets/base",
      "_view_module_version": "1.2.0",
      "_view_name": "StyleView",
      "description_width": ""
     }
    },
    "d141b892f32249c6bcecab5c6cc89ebb": {
     "model_module": "@jupyter-widgets/controls",
     "model_module_version": "1.5.0",
     "model_name": "ProgressStyleModel",
     "state": {
      "_model_module": "@jupyter-widgets/controls",
      "_model_module_version": "1.5.0",
      "_model_name": "ProgressStyleModel",
      "_view_count": null,
      "_view_module": "@jupyter-widgets/base",
      "_view_module_version": "1.2.0",
      "_view_name": "StyleView",
      "bar_color": null,
      "description_width": ""
     }
    },
    "d9209fd8e3ac46dba99573797e312952": {
     "model_module": "@jupyter-widgets/controls",
     "model_module_version": "1.5.0",
     "model_name": "HTMLModel",
     "state": {
      "_dom_classes": [],
      "_model_module": "@jupyter-widgets/controls",
      "_model_module_version": "1.5.0",
      "_model_name": "HTMLModel",
      "_view_count": null,
      "_view_module": "@jupyter-widgets/controls",
      "_view_module_version": "1.5.0",
      "_view_name": "HTMLView",
      "description": "",
      "description_tooltip": null,
      "layout": "IPY_MODEL_72b099acc1894e889835503369cc2b6c",
      "placeholder": "​",
      "style": "IPY_MODEL_21d0522268d24d328e6e2f77d4c7e641",
      "value": "100%"
     }
    }
   }
  }
 },
 "nbformat": 4,
 "nbformat_minor": 1
}
