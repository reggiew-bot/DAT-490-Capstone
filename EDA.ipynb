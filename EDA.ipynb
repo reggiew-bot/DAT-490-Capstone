{
 "cells": [
  {
   "cell_type": "code",
   "execution_count": null,
   "id": "36d1e176",
   "metadata": {},
   "outputs": [],
   "source": [
    "import pandas as pd\n",
    "import numpy as np\n",
    "import matplotlib.pyplot as plt\n",
    "import seaborn as sns\n",
    "import geopandas as gpd\n",
    "import warnings\n",
    "warnings.filterwarnings(\"ignore\")\n",
    "from sklearn.linear_model import LinearRegression\n",
    "from matplotlib.colors import ListedColormap"
   ]
  },
  {
   "cell_type": "code",
   "execution_count": null,
   "id": "e9e29631",
   "metadata": {},
   "outputs": [],
   "source": [
    "sentiment = pd.read_csv(\"df_scored_9.csv\")\n",
    "odds_data = pd.read_csv(\"NFL_Odds_Data_2007-2022.csv\")\n",
    "NFLOdds= pd.read_csv('NFL_Odds_Data_2007-2022.csv',encoding= 'latin1',low_memory=False)"
   ]
  },
  {
   "cell_type": "code",
   "execution_count": null,
   "id": "67f9b34c",
   "metadata": {},
   "outputs": [],
   "source": [
    "sentiment_df = sentiment.copy()\n",
    "odds_df = odds_data.copy()"
   ]
  },
  {
   "cell_type": "markdown",
   "id": "b2a0eb47",
   "metadata": {},
   "source": [
    "The Date column was also transformed into a more suitable format for analysis as well."
   ]
  },
  {
   "cell_type": "code",
   "execution_count": null,
   "id": "27b9c782",
   "metadata": {},
   "outputs": [],
   "source": [
    "sentiment_df['archiveDate']= pd.to_datetime(sentiment_df['archiveDate'])\n",
    "odds_df['Date'] = pd.to_datetime(odds_df['Date'])\n",
    "NFLOdds['Date']= pd.to_datetime(NFLOdds['Date'])"
   ]
  },
  {
   "cell_type": "code",
   "execution_count": null,
   "id": "7e3dd152",
   "metadata": {},
   "outputs": [],
   "source": [
    "sentiment_drop = sentiment_df.drop(['Unnamed: 0', 'Unnamed: 0.1'], axis = 1)"
   ]
  },
  {
   "cell_type": "markdown",
   "id": "caf2873d",
   "metadata": {},
   "source": [
    "Below the NFL odds data was condensed down from 2007-2022 to 2017-2022. As out headlines data was also from 2017-2022. New data was saved as filtered_df and a new csv file was created for the 2017-2022 data. "
   ]
  },
  {
   "cell_type": "code",
   "execution_count": null,
   "id": "400d5c63",
   "metadata": {},
   "outputs": [],
   "source": [
    "start_date= '2017-08-20'\n",
    "end_date= '2022-02-13'\n",
    "mask= (NFLOdds['Date']>=start_date)&(NFLOdds['Date']<=end_date)\n",
    "filtered_df= NFLOdds.loc[mask]\n",
    "filtered_df.to_csv('New_NFL_Odds_Data_2017-2022.csv', index=False)"
   ]
  },
  {
   "cell_type": "markdown",
   "id": "f9794c1a",
   "metadata": {},
   "source": [
    "Below some data cleaning took place as the data had some outliers in error like having 4 digits in the Moneyline_away and Moneyline_home columns so both columns were reduced to only have 3 digits. As money lines are normally 3 digits."
   ]
  },
  {
   "cell_type": "code",
   "execution_count": null,
   "id": "f6411bce",
   "metadata": {},
   "outputs": [],
   "source": [
    "filtered_df['Moneyline_away']= filtered_df['Moneyline_away'].apply(lambda x: x//10 if abs(x)> 999 else x)\n",
    "filtered_df['Moneyline_home']= filtered_df['Moneyline_home'].apply(lambda x: x//10 if abs(x)> 999 else x)"
   ]
  },
  {
   "cell_type": "code",
   "execution_count": null,
   "id": "99878d3e",
   "metadata": {},
   "outputs": [],
   "source": [
    "## scores per team by year\n",
    "## 2017\n",
    "start_date = '2017-1-01'\n",
    "end_date = '2017-12-31'\n",
    "\n",
    "mask = (sentiment_drop['archiveDate'] >= start_date) & (sentiment_drop['archiveDate'] <= end_date)\n",
    "sentiment_2017 = sentiment_drop.loc[mask]\n",
    "\n",
    "## 2018\n",
    "start_date1 = '2018-1-01'\n",
    "end_date1 = '2018-12-31'\n",
    "\n",
    "mask1 = (sentiment_drop['archiveDate'] >= start_date1) & (sentiment_drop['archiveDate'] <= end_date1)\n",
    "sentiment_2018 = sentiment_drop.loc[mask1]\n",
    "\n",
    "## 2019\n",
    "start_date2 = '2019-1-01'\n",
    "end_date2 = '2019-12-31'\n",
    "\n",
    "mask2 = (sentiment_drop['archiveDate'] >= start_date2) & (sentiment_drop['archiveDate'] <= end_date2)\n",
    "sentiment_2019 = sentiment_drop.loc[mask2]\n",
    "\n",
    "## 2020\n",
    "start_date3 = '2020-1-01'\n",
    "end_date3 = '2020-12-31'\n",
    "\n",
    "mask3 = (sentiment_drop['archiveDate'] >= start_date3) & (sentiment_drop['archiveDate'] <= end_date3)\n",
    "sentiment_2020 = sentiment_drop.loc[mask3]\n",
    "\n",
    "## 2021\n",
    "start_date4 = '2021-1-01'\n",
    "end_date4 = '2021-12-31'\n",
    "\n",
    "mask4 = (sentiment_drop['archiveDate'] >= start_date4) & (sentiment_drop['archiveDate'] <= end_date4)\n",
    "sentiment_2021 = sentiment_drop.loc[mask4]\n",
    "\n",
    "## 2022\n",
    "start_date5 = '2022-1-01'\n",
    "end_date5 = '2022-12-31'\n",
    "\n",
    "mask5 = (sentiment_drop['archiveDate'] >= start_date5) & (sentiment_drop['archiveDate'] <= end_date5)\n",
    "sentiment_2022 = sentiment_drop.loc[mask5]"
   ]
  },
  {
   "cell_type": "code",
   "execution_count": null,
   "id": "05c3824a",
   "metadata": {},
   "outputs": [],
   "source": [
    "sentiment_group_2017_ = sentiment_2017.groupby('team').sum()\n",
    "sentiment_group_2018_ = sentiment_2018.groupby('team').sum()\n",
    "sentiment_group_2019_ = sentiment_2019.groupby('team').sum()\n",
    "sentiment_group_2020_ = sentiment_2020.groupby('team').sum()\n",
    "sentiment_group_2021_ = sentiment_2021.groupby('team').sum()\n",
    "sentiment_group_2022_  = sentiment_2022.groupby('team').sum()"
   ]
  },
  {
   "cell_type": "code",
   "execution_count": null,
   "id": "a657fa8e",
   "metadata": {},
   "outputs": [],
   "source": [
    "sentiment_group_2017 = sentiment_2017.groupby('team').sum()\n",
    "sentiment_group_2018 = sentiment_2018.groupby('team').sum()\n",
    "sentiment_group_2019 = sentiment_2019.groupby('team').sum()\n",
    "sentiment_group_2020 = sentiment_2020.groupby('team').sum()\n",
    "sentiment_group_2021 = sentiment_2021.groupby('team').sum()\n",
    "sentiment_group_2022 = sentiment_2022.groupby('team').sum()"
   ]
  },
  {
   "cell_type": "markdown",
   "id": "4c15876a",
   "metadata": {},
   "source": [
    "## Total Sentiment Score for All NFL Teams\n",
    "\n",
    "After doing our classifications to obtain a sentiment score, we grouped the scores together for a more comprehensive look. The plots below look at the years 2017-2022 for each team's sentiment, grouped together. As the sentiment analysis was done from a -1 to +1 basis, we can see how some teams were definitely more favored than others in terms of sports headlines news."
   ]
  },
  {
   "cell_type": "code",
   "execution_count": null,
   "id": "f25e41ec",
   "metadata": {},
   "outputs": [],
   "source": [
    "## team by sentiment score - totalled\n",
    "\n",
    "fig, axs = plt.subplots(3, 2, figsize = (20,20), dpi = 300)\n",
    "\n",
    "## 2017\n",
    "sentiment_group_2017_.plot.bar(ax = axs[0,0], title = '2017 Team Sentiment Score', ylabel = 'Total Sentiment Score', \n",
    "                              legend = False)\n",
    "\n",
    "## 2018\n",
    "sentiment_group_2018_.plot.bar(ax = axs[0,1], title = '2018 Team Sentiment Score', ylabel = 'Total Sentiment Score', \n",
    "                             color = 'red', legend = False)\n",
    "\n",
    "## 2019\n",
    "sentiment_group_2019_.plot.bar(ax = axs[1,0], title = '2019 Team Sentiment Score', ylabel = 'Total Sentiment Score', \n",
    "                              color = 'green' , legend = False)\n",
    "\n",
    "## 2020\n",
    "sentiment_group_2020_.plot.bar(ax = axs[1,1], title = '2020 Team Sentiment Score', ylabel = 'Total Sentiment Score', \n",
    "                              color = 'yellow' , legend = False)\n",
    "\n",
    "## 2021\n",
    "sentiment_group_2021_.plot.bar(ax = axs[2,0], title = '2021 Team Sentiment Score', ylabel = 'Total Sentiment Score', \n",
    "                              color = 'orange' , legend = False)\n",
    "\n",
    "## 2022\n",
    "sentiment_group_2022_.plot.bar(ax = axs[2,1],  title = '2022 Team Sentiment Score', ylabel = 'Total Sentiment Score', \n",
    "                              color = 'grey' , legend = False)\n",
    "\n",
    "plt.tight_layout()"
   ]
  },
  {
   "cell_type": "code",
   "execution_count": null,
   "id": "df33782f",
   "metadata": {},
   "outputs": [],
   "source": [
    "count_2017 = sentiment_2017['team'].value_counts(sort = False)\n",
    "count_2018 = sentiment_2018['team'].value_counts(sort = False)\n",
    "count_2019 = sentiment_2019['team'].value_counts(sort = False)\n",
    "count_2020 = sentiment_2020['team'].value_counts(sort = False)\n",
    "count_2021 = sentiment_2021['team'].value_counts(sort = False)\n",
    "count_2022 = sentiment_2022['team'].value_counts(sort = False)"
   ]
  },
  {
   "cell_type": "code",
   "execution_count": null,
   "id": "3e948637",
   "metadata": {},
   "outputs": [],
   "source": [
    "sentiment_group_2017['counts'] = count_2017.reindex(sentiment_group_2017.index)\n",
    "sentiment_group_2018['counts'] = count_2018.reindex(sentiment_group_2018.index)\n",
    "sentiment_group_2019['counts'] = count_2019.reindex(sentiment_group_2019.index)\n",
    "sentiment_group_2020['counts'] = count_2020.reindex(sentiment_group_2020.index)\n",
    "sentiment_group_2021['counts'] = count_2021.reindex(sentiment_group_2021.index)\n",
    "sentiment_group_2022['counts'] = count_2022.reindex(sentiment_group_2022.index)"
   ]
  },
  {
   "cell_type": "code",
   "execution_count": null,
   "id": "3203c7e6",
   "metadata": {},
   "outputs": [],
   "source": [
    "## 2017 linear regression\n",
    "X = sentiment_group_2017['counts'].to_numpy().reshape(-1,1)\n",
    "y = sentiment_group_2017['total_score'].to_numpy()\n",
    "\n",
    "model = LinearRegression().fit(X,y)\n",
    "y_pred = model.predict(X)\n",
    "\n",
    "## 2018\n",
    "X1 = sentiment_group_2018['counts'].to_numpy().reshape(-1,1)\n",
    "y1 = sentiment_group_2018['total_score'].to_numpy()\n",
    "\n",
    "model1 = LinearRegression().fit(X1,y1)\n",
    "y_pred1 = model1.predict(X1)\n",
    "\n",
    "## 2019\n",
    "X2 = sentiment_group_2019['counts'].to_numpy().reshape(-1,1)\n",
    "y2 = sentiment_group_2019['total_score'].to_numpy()\n",
    "\n",
    "model2 = LinearRegression().fit(X2,y2)\n",
    "y_pred2 = model2.predict(X2)\n",
    "\n",
    "## 2020\n",
    "X3 = sentiment_group_2020['counts'].to_numpy().reshape(-1,1)\n",
    "y3 = sentiment_group_2020['total_score'].to_numpy()\n",
    "\n",
    "model3 = LinearRegression().fit(X3,y3)\n",
    "y_pred3 = model3.predict(X3)\n",
    "\n",
    "## 2021\n",
    "X4 = sentiment_group_2021['counts'].to_numpy().reshape(-1,1)\n",
    "y4 = sentiment_group_2021['total_score'].to_numpy()\n",
    "\n",
    "model4 = LinearRegression().fit(X4,y4)\n",
    "y_pred4 = model4.predict(X4)\n",
    "\n",
    "## 2022\n",
    "X5 = sentiment_group_2022['counts'].to_numpy().reshape(-1,1)\n",
    "y5 = sentiment_group_2022['total_score'].to_numpy()\n",
    "\n",
    "model5 = LinearRegression().fit(X5,y5)\n",
    "y_pred5 = model5.predict(X5)"
   ]
  },
  {
   "cell_type": "code",
   "execution_count": null,
   "id": "caf4bd0a",
   "metadata": {},
   "outputs": [],
   "source": [
    "## linear regression between count of headlines and sentiment\n",
    "\n",
    "print(model.coef_, model.intercept_)\n",
    "print(model1.coef_, model1.intercept_)\n",
    "print(model2.coef_, model2.intercept_)\n",
    "print(model3.coef_, model3.intercept_)\n",
    "print(model4.coef_, model4.intercept_)\n",
    "print(model5.coef_, model5.intercept_)"
   ]
  },
  {
   "cell_type": "markdown",
   "id": "c3af3b31",
   "metadata": {},
   "source": [
    "## Sentiment and the Counts per Headline\n",
    "\n",
    "We also did a simple linear regression for the 2017-2022 years, where we took the counts of each time a team was mentioned in a year and its total sentiment score for a greater look at if there is a noticeable trend between the amount of times a team is mentioned and its overall sentiment."
   ]
  },
  {
   "cell_type": "code",
   "execution_count": null,
   "id": "d9eb9709",
   "metadata": {},
   "outputs": [],
   "source": [
    "fig, axs = plt.subplots(3, 2, figsize = (14,14), dpi = 300)\n",
    "\n",
    "## 2017\n",
    "axs[0,0].scatter(X, y, color = 'blue')\n",
    "axs[0,0].plot(X, y_pred, color = 'red')\n",
    "axs[0,0].set_title(\"2017 Team Sentiment vs. Counts\")\n",
    "axs[0,0].set_xlabel(\"Total Count\")\n",
    "axs[0,0].set_ylabel(\"Total Sentiment\")\n",
    "\n",
    "## 2018\n",
    "axs[0,1].scatter(X1, y1, color = 'blue')\n",
    "axs[0,1].plot(X1, y_pred1, color = 'red')\n",
    "axs[0,1].set_title(\"2018 Team Sentiment vs. Counts\")\n",
    "axs[0,1].set_xlabel(\"Total Count\")\n",
    "axs[0,1].set_ylabel(\"Total Sentiment\")\n",
    "\n",
    "## 2019\n",
    "axs[1,0].scatter(X2, y2, color = 'blue')\n",
    "axs[1,0].plot(X2, y_pred2, color = 'red')\n",
    "axs[1,0].set_title(\"2019 Team Sentiment vs. Counts\")\n",
    "axs[1,0].set_xlabel(\"Total Count\")\n",
    "axs[1,0].set_ylabel(\"Total Sentiment\")\n",
    "\n",
    "## 2020\n",
    "axs[1,1].scatter(X3, y3, color = 'blue')\n",
    "axs[1,1].plot(X3, y_pred3, color = 'red')\n",
    "axs[1,1].set_title(\"2020 Team Sentiment vs. Counts\")\n",
    "axs[1,1].set_xlabel(\"Total Count\")\n",
    "axs[1,1].set_ylabel(\"Total Sentiment\")\n",
    "\n",
    "## 2021\n",
    "axs[2,0].scatter(X4, y4, color = 'blue')\n",
    "axs[2,0].plot(X4, y_pred4, color = 'red')\n",
    "axs[2,0].set_title(\"2021 Team Sentiment vs. Counts\")\n",
    "axs[2,0].set_xlabel(\"Total Count\")\n",
    "axs[2,0].set_ylabel(\"Total Sentiment\")\n",
    "\n",
    "## 2022\n",
    "axs[2,1].scatter(X5, y5, color = 'blue')\n",
    "axs[2,1].plot(X5, y_pred5, color = 'red')\n",
    "axs[2,1].set_title(\"2022 Team Sentiment vs. Counts\")\n",
    "axs[2,1].set_xlabel(\"Total Count\")\n",
    "axs[2,1].set_ylabel(\"Total Sentiment\")\n",
    "\n",
    "plt.tight_layout()"
   ]
  },
  {
   "cell_type": "markdown",
   "id": "84f428e3",
   "metadata": {},
   "source": [
    "Below two histograms were created one for home team money line and one for away team money line so we could see at what frequency the money line is set more commonly between 2017-2022 for home and away. It was found that money line is never set at zero for home or away teams. As well as the frequency for positive money lines for home teams is greater while the frequency for negative money lines for away teams is greater. So, meaning the away team is expected to get a win over the home team which is a little intersting to see."
   ]
  },
  {
   "cell_type": "code",
   "execution_count": null,
   "id": "f6aee3f6",
   "metadata": {},
   "outputs": [],
   "source": [
    "plt.figure(figsize= (12,6))\n",
    "plt.subplot(1,2,1)\n",
    "plt.hist(filtered_df['Moneyline_home'],bins= 40,color= 'purple',alpha= 0.7)\n",
    "plt.title('Histogram of Home Team Moneylines 2017-2022')\n",
    "plt.xlabel('Home Team Moneyline')\n",
    "plt.ylabel('Frequency')\n",
    "\n",
    "plt.subplot(1,2,2)\n",
    "plt.hist(filtered_df['Moneyline_away'], bins= 40,color= 'orange',alpha=0.7)\n",
    "plt.title('Histogram of Away Team Moneylines 2017-2022')\n",
    "plt.xlabel('Away Team Moneyline')\n",
    "plt.ylabel('Frequency')\n",
    "\n",
    "plt.tight_layout()\n",
    "plt.show()"
   ]
  },
  {
   "cell_type": "markdown",
   "id": "bd924f8a",
   "metadata": {},
   "source": [
    "Below the average money line for home and away teams was calculated. It’s a bit interesting to see that according to money lines the away team is expected to win on average with its average being negative and the home teams average being positive."
   ]
  },
  {
   "cell_type": "code",
   "execution_count": null,
   "id": "bcddc90a",
   "metadata": {},
   "outputs": [],
   "source": [
    "Moneyline_homeAvg= filtered_df['Moneyline_home'].mean()\n",
    "Moneyline_awayAvg= filtered_df['Moneyline_away'].mean()\n",
    "\n",
    "print(f\"Average Moneyline for Home Teams 2017-2022: {Moneyline_homeAvg}\")\n",
    "print(f\"Average Moneyline for Away Teams 2017-2022: {Moneyline_awayAvg}\")"
   ]
  },
  {
   "cell_type": "markdown",
   "id": "7d322eda",
   "metadata": {},
   "source": [
    "Below a boxplot was created for money lines for home teams and away teams. This was interesting to see as the median money line for away teams was negative and for home teams it was positive. We also had some outliers for both home and away teams where the money line was a bit higher or lower than normal. So essentially what we are seeing is away teams are expected to win based on the money lines set and the home team is expected to lose. As negative money lines mean a team is expected to win and a positive money line means a team is expected to lose."
   ]
  },
  {
   "cell_type": "code",
   "execution_count": null,
   "id": "80e640b5",
   "metadata": {},
   "outputs": [],
   "source": [
    "plt.figure(figsize= (6,6))\n",
    "plt.boxplot([filtered_df['Moneyline_home'],filtered_df['Moneyline_away']],labels= ['Home Team','Away Team'])\n",
    "plt.title('Boxplot of Moneyline for Home and Away Teams')\n",
    "plt.ylabel('Moneyline')\n",
    "plt.show()"
   ]
  },
  {
   "cell_type": "markdown",
   "id": "553c19c0",
   "metadata": {},
   "source": [
    "Below a time, series plot was created just to see how money lines for home and away teams have changed over time. So, between 2017 and 2022 we have had 5 seasons played so you can see the 5 distinctive groups with the breaks being the off seasons when no games are played so you just have a single line for away and home showing. But back in 2017 you can see the money line being positive for home teams more often and negative for away teams but as the years progress, we see more of a split with home and away teams sharing negative and positive money lines more often. So, we are seeing more often home teams being expected to win as the years progress rather then back in 2017 when aways teams were expected to win according to money lines."
   ]
  },
  {
   "cell_type": "code",
   "execution_count": null,
   "id": "38783f0c",
   "metadata": {},
   "outputs": [],
   "source": [
    "filtered_df.set_index('Date',inplace= True)\n",
    "plt.figure(figsize=(12, 6))\n",
    "plt.plot(filtered_df['Moneyline_home'],label= 'Home Team')\n",
    "plt.plot(filtered_df['Moneyline_away'],label= 'Away Team')\n",
    "plt.xlabel('Date')\n",
    "plt.ylabel('Moneyline')\n",
    "plt.title('Time Series Plot of Moneyline for Home and Away Teams 2017-2022')\n",
    "plt.legend()\n",
    "plt.show()"
   ]
  }
 ],
 "metadata": {
  "kernelspec": {
   "display_name": "Python 3 (ipykernel)",
   "language": "python",
   "name": "python3"
  },
  "language_info": {
   "codemirror_mode": {
    "name": "ipython",
    "version": 3
   },
   "file_extension": ".py",
   "mimetype": "text/x-python",
   "name": "python",
   "nbconvert_exporter": "python",
   "pygments_lexer": "ipython3",
   "version": "3.9.13"
  }
 },
 "nbformat": 4,
 "nbformat_minor": 5
}
